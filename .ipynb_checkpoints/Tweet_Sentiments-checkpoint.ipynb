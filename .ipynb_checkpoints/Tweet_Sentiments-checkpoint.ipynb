{
 "cells": [
  {
   "cell_type": "code",
   "execution_count": 1,
   "metadata": {},
   "outputs": [],
   "source": [
    "import requests\n",
    "from bs4 import BeautifulSoup \n",
    "import pandas as pd\n",
    "import numpy as np\n",
    "import matplotlib.pyplot as plt\n",
    "import seaborn as sns\n",
    "\n",
    "%matplotlib inline"
   ]
  },
  {
   "cell_type": "code",
   "execution_count": 2,
   "metadata": {},
   "outputs": [
    {
     "data": {
      "text/plain": [
       "200"
      ]
     },
     "execution_count": 2,
     "metadata": {},
     "output_type": "execute_result"
    }
   ],
   "source": [
    "website_url = 'http://www.psychpage.com/learning/library/assess/feelings.html'\n",
    "response = requests.get(website_url)\n",
    "\n",
    "response.status_code"
   ]
  },
  {
   "cell_type": "code",
   "execution_count": 3,
   "metadata": {},
   "outputs": [
    {
     "name": "stdout",
     "output_type": "stream",
     "text": [
      "<class 'requests.models.Response'>\n"
     ]
    },
    {
     "data": {
      "text/plain": [
       "b'<html><HEAD><TITLE>List of Feeling Words</title> <link href=\"../../styles.css\"rel=\"stylesheet\" type=\"text/css\"></HEAD> <BODY TEXT=\"Black\" bgcolor=\"White\"> <table cellpadding=5 cellspacing=5 border=0> <tr><td colspan=4 width=\"790\" align=\"LEFT\" valign=\"TOP\"> <div class=\"larger\">Pleasant Feelings</div></td></tr> <tr><td valign=\"top\" align=\"left\"><div class=\"normal\">OPEN</div></td><td valign=\"top\" align=\"left\"><div class=\"normal\">HAPPY</div></td><td valign=\"top\" align=\"left\"><div class=\"normal\">ALIVE</div></td><td valign=\"top\" align=\"left\"><div class=\"normal\">GOOD</div></td></tr> <tr><td valign=\"top\" align=\"left\"><div class=\"teeny\">understanding</div></td><td valign=\"top\" align=\"left\"><div class=\"teeny\">great</div></td><td valign=\"top\" align=\"left\"><div class=\"teeny\">playful</div></td><td valign=\"top\" align=\"left\"><div class=\"teeny\">calm</div></td></tr> <tr><td valign=\"top\" align=\"left\"><div class=\"teeny\">confident</div></td><td valign=\"top\" align=\"left\"><div class=\"teeny\">gay</div></td><td valign=\"top\" align=\"left\"><div class=\"teeny\">courageous</div></td><td valign=\"top\" align=\"left\"><div class=\"teeny\">peaceful</div></td></tr> <tr><td valign=\"top\" align=\"left\"><div class=\"teeny\">reliable</div></td><td valign=\"top\" align=\"left\"><div class=\"teeny\">joyous</div></td><td valign=\"top\" align=\"left\"><div class=\"teeny\">energetic</div></td><td valign=\"top\" align=\"left\"><div class=\"teeny\">at ease</div></td></tr> <tr><td valign=\"top\" align=\"left\"><div class=\"teeny\">easy</div></td><td valign=\"top\" align=\"left\"><div class=\"teeny\">lucky</div></td><td valign=\"top\" align=\"left\"><div class=\"teeny\">liberated</div></td><td valign=\"top\" align=\"left\"><div class=\"teeny\">comfortable</div></td></tr> <tr><td valign=\"top\" align=\"left\"><div class=\"teeny\">amazed</div></td><td valign=\"top\" align=\"left\"><div class=\"teeny\">fortunate</div></td><td valign=\"top\" align=\"left\"><div class=\"teeny\">optimistic</div></td><td valign=\"top\" align=\"left\"><div class=\"teeny\">pleased</div></td></tr> <tr><td valign=\"top\" align=\"left\"><div class=\"teeny\">free</div></td><td valign=\"top\" align=\"left\"><div class=\"teeny\">delighted</div></td><td valign=\"top\" align=\"left\"><div class=\"teeny\">provocative</div></td><td valign=\"top\" align=\"left\"><div class=\"teeny\">encouraged</div></td></tr> <tr><td valign=\"top\" align=\"left\"><div class=\"teeny\">sympathetic</div></td><td valign=\"top\" align=\"left\"><div class=\"teeny\">overjoyed</div></td><td valign=\"top\" align=\"left\"><div class=\"teeny\">impulsive</div></td><td valign=\"top\" align=\"left\"><div class=\"teeny\">clever</div></td></tr> <tr><td valign=\"top\" align=\"left\"><div class=\"teeny\">interested</div></td><td valign=\"top\" align=\"left\"><div class=\"teeny\">gleeful</div></td><td valign=\"top\" align=\"left\"><div class=\"teeny\">free</div></td><td valign=\"top\" align=\"left\"><div class=\"teeny\">surprised</div></td></tr> <tr><td valign=\"top\" align=\"left\"><div class=\"teeny\">satisfied</div></td><td valign=\"top\" align=\"left\"><div class=\"teeny\">thankful</div></td><td valign=\"top\" align=\"left\"><div class=\"teeny\">frisky</div></td><td valign=\"top\" align=\"left\"><div class=\"teeny\">content</div></td></tr> <tr><td valign=\"top\" align=\"left\"><div class=\"teeny\">receptive</div></td><td valign=\"top\" align=\"left\"><div class=\"teeny\">important</div></td><td valign=\"top\" align=\"left\"><div class=\"teeny\">animated</div></td><td valign=\"top\" align=\"left\"><div class=\"teeny\">quiet</div></td></tr> <tr><td valign=\"top\" align=\"left\"><div class=\"teeny\">accepting</div></td><td valign=\"top\" align=\"left\"><div class=\"teeny\">festive</div></td><td valign=\"top\" align=\"left\"><div class=\"teeny\">spirited</div></td><td valign=\"top\" align=\"left\"><div class=\"teeny\">certain</div></td></tr> <tr><td valign=\"top\" align=\"left\"><div class=\"teeny\">kind</div></td><td valign=\"top\" align=\"left\"><div class=\"teeny\">ecstatic</div></td><td valign=\"top\" align=\"left\"><div class=\"teeny\">thrilled</div></td><td valign=\"top\" align=\"left\"><div class=\"teeny\">relaxed</div></td></tr> <tr><td valign=\"top\" align=\"left\"><div class=\"teeny\">&nbsp;</div></td><td valign=\"top\" align=\"left\"><div class=\"teeny\">satisfied</div></td><td valign=\"top\" align=\"left\"><div class=\"teeny\">wonderful</div></td><td valign=\"top\" align=\"left\"><div class=\"teeny\">serene</div></td></tr> <tr><td valign=\"top\" align=\"left\"><div class=\"teeny\">&nbsp;</div></td><td valign=\"top\" align=\"left\"><div class=\"teeny\">glad</div></td><td valign=\"top\" align=\"left\"><div class=\"teeny\">&nbsp;</div></td><td valign=\"top\" align=\"left\"><div class=\"teeny\">free and easy</div></td></tr> <tr><td valign=\"top\" align=\"left\"><div class=\"teeny\">&nbsp;</div></td><td valign=\"top\" align=\"left\"><div class=\"teeny\">cheerful</div></td><td valign=\"top\" align=\"left\"><div class=\"teeny\">&nbsp;</div></td><td valign=\"top\" align=\"left\"><div class=\"teeny\">bright</div></td></tr> <tr><td valign=\"top\" align=\"left\"><div class=\"teeny\">&nbsp;</div></td><td valign=\"top\" align=\"left\"><div class=\"teeny\">sunny</div></td><td valign=\"top\" align=\"left\"><div class=\"teeny\">&nbsp;</div></td><td valign=\"top\" align=\"left\"><div class=\"teeny\">blessed</div></td></tr> <tr><td valign=\"top\" align=\"left\"><div class=\"teeny\">&nbsp;</div></td><td valign=\"top\" align=\"left\"><div class=\"teeny\">merry</div></td><td valign=\"top\" align=\"left\"><div class=\"teeny\">&nbsp;</div></td><td valign=\"top\" align=\"left\"><div class=\"teeny\">reassured</div></td></tr> <tr><td valign=\"top\" align=\"left\"><div class=\"teeny\">&nbsp;</div></td><td valign=\"top\" align=\"left\"><div class=\"teeny\">elated</div></td><td valign=\"top\" align=\"left\"><div class=\"teeny\">&nbsp;</div></td><td valign=\"top\" align=\"left\"><div class=\"teeny\">&nbsp;</div></td></tr> <tr><td valign=\"top\" align=\"left\"><div class=\"teeny\">&nbsp;</div></td><td valign=\"top\" align=\"left\"><div class=\"teeny\">jubilant</div></td><td valign=\"top\" align=\"left\"><div class=\"teeny\">&nbsp;</div></td><td valign=\"top\" align=\"left\"><div class=\"teeny\">&nbsp;</div></td></tr> <tr><td colspan=4><br><br></td></tr>\\t\\t \\t <tr><td valign=\"top\" align=\"left\"><div class=\"normal\">LOVE</div></td><td valign=\"top\" align=\"left\"><div class=\"normal\">INTERESTED</div></td><td valign=\"top\" align=\"left\"><div class=\"normal\">POSITIVE</div></td><td valign=\"top\" align=\"left\"><div class=\"normal\">STRONG</div></td></tr> <tr><td valign=\"top\" align=\"left\"><div class=\"teeny\">loving</div></td><td valign=\"top\" align=\"left\"><div class=\"teeny\">concerned</div></td><td valign=\"top\" align=\"left\"><div class=\"teeny\">eager</div></td><td valign=\"top\" align=\"left\"><div class=\"teeny\">impulsive</div></td></tr> <tr><td valign=\"top\" align=\"left\"><div class=\"teeny\">considerate</div></td><td valign=\"top\" align=\"left\"><div class=\"teeny\">affected</div></td><td valign=\"top\" align=\"left\"><div class=\"teeny\">keen</div></td><td valign=\"top\" align=\"left\"><div class=\"teeny\">free</div></td></tr> <tr><td valign=\"top\" align=\"left\"><div class=\"teeny\">affectionate</div></td><td valign=\"top\" align=\"left\"><div class=\"teeny\">fascinated</div></td><td valign=\"top\" align=\"left\"><div class=\"teeny\">earnest</div></td><td valign=\"top\" align=\"left\"><div class=\"teeny\">sure</div></td></tr> <tr><td valign=\"top\" align=\"left\"><div class=\"teeny\">sensitive</div></td><td valign=\"top\" align=\"left\"><div class=\"teeny\">intrigued</div></td><td valign=\"top\" align=\"left\"><div class=\"teeny\">intent</div></td><td valign=\"top\" align=\"left\"><div class=\"teeny\">certain</div></td></tr> <tr><td valign=\"top\" align=\"left\"><div class=\"teeny\">tender</div></td><td valign=\"top\" align=\"left\"><div class=\"teeny\">absorbed</div></td><td valign=\"top\" align=\"left\"><div class=\"teeny\">anxious</div></td><td valign=\"top\" align=\"left\"><div class=\"teeny\">rebellious</div></td></tr> <tr><td valign=\"top\" align=\"left\"><div class=\"teeny\">devoted</div></td><td valign=\"top\" align=\"left\"><div class=\"teeny\">inquisitive</div></td><td valign=\"top\" align=\"left\"><div class=\"teeny\">inspired</div></td><td valign=\"top\" align=\"left\"><div class=\"teeny\">unique</div></td></tr> <tr><td valign=\"top\" align=\"left\"><div class=\"teeny\">attracted</div></td><td valign=\"top\" align=\"left\"><div class=\"teeny\">nosy</div></td><td valign=\"top\" align=\"left\"><div class=\"teeny\">determined</div></td><td valign=\"top\" align=\"left\"><div class=\"teeny\">dynamic</div></td></tr> <tr><td valign=\"top\" align=\"left\"><div class=\"teeny\">passionate</div></td><td valign=\"top\" align=\"left\"><div class=\"teeny\">snoopy</div></td><td valign=\"top\" align=\"left\"><div class=\"teeny\">excited</div></td><td valign=\"top\" align=\"left\"><div class=\"teeny\">tenacious</div></td></tr> <tr><td valign=\"top\" align=\"left\"><div class=\"teeny\">admiration</div></td><td valign=\"top\" align=\"left\"><div class=\"teeny\">engrossed</div></td><td valign=\"top\" align=\"left\"><div class=\"teeny\">enthusiastic</div></td><td valign=\"top\" align=\"left\"><div class=\"teeny\">hardy</div></td></tr> <tr><td valign=\"top\" align=\"left\"><div class=\"teeny\">warm</div></td><td valign=\"top\" align=\"left\"><div class=\"teeny\">curious</div></td><td valign=\"top\" align=\"left\"><div class=\"teeny\">bold</div></td><td valign=\"top\" align=\"left\"><div class=\"teeny\">secure</div></td></tr> <tr><td valign=\"top\" align=\"left\"><div class=\"teeny\">touched\\t</div></td><td valign=\"top\" align=\"left\"><div class=\"teeny\">&nbsp;</div></td><td valign=\"top\" align=\"left\"><div class=\"teeny\">brave</div></td><td valign=\"top\" align=\"left\"><div class=\"teeny\">&nbsp;</div></td></tr> <tr><td valign=\"top\" align=\"left\"><div class=\"teeny\">sympathy\\t</div></td><td valign=\"top\" align=\"left\"><div class=\"teeny\">&nbsp;</div></td><td valign=\"top\" align=\"left\"><div class=\"teeny\">daring</div></td><td valign=\"top\" align=\"left\"><div class=\"teeny\">&nbsp;</div></td></tr> <tr><td valign=\"top\" align=\"left\"><div class=\"teeny\">close\\t</div></td><td valign=\"top\" align=\"left\"><div class=\"teeny\">&nbsp;</div></td><td valign=\"top\" align=\"left\"><div class=\"teeny\">challenged</div></td><td valign=\"top\" align=\"left\"><div class=\"teeny\">&nbsp;</div></td></tr> <tr><td valign=\"top\" align=\"left\"><div class=\"teeny\">loved\\t</div></td><td valign=\"top\" align=\"left\"><div class=\"teeny\">&nbsp;</div></td><td valign=\"top\" align=\"left\"><div class=\"teeny\">optimistic</div></td><td valign=\"top\" align=\"left\"><div class=\"teeny\">&nbsp;</div></td></tr> <tr><td valign=\"top\" align=\"left\"><div class=\"teeny\">comforted\\t</div></td><td valign=\"top\" align=\"left\"><div class=\"teeny\">&nbsp;</div></td><td valign=\"top\" align=\"left\"><div class=\"teeny\">re-enforced</div></td><td valign=\"top\" align=\"left\"><div class=\"teeny\">&nbsp;</div></td></tr> <tr><td valign=\"top\" align=\"left\"><div class=\"teeny\">drawn toward</div></td><td valign=\"top\" align=\"left\"><div class=\"teeny\">&nbsp;</div></td><td valign=\"top\" align=\"left\"><div class=\"teeny\">confident</div></td><td valign=\"top\" align=\"left\"><div class=\"teeny\">&nbsp;</div></td></tr> <tr><td valign=\"top\" align=\"left\"><div class=\"teeny\">&nbsp;</div></td><td valign=\"top\" align=\"left\"><div class=\"teeny\">&nbsp;</div></td><td valign=\"top\" align=\"left\"><div class=\"teeny\">hopeful</div></td><td valign=\"top\" align=\"left\"><div class=\"teeny\">&nbsp;</div></td></tr> <tr><td colspan=4><br><br></td></tr> <tr><td colspan=4 width=\"790\" align=\"LEFT\" valign=\"TOP\"> <div class=\"larger\">Difficult/Unpleasant Feelings</div></td></tr> <tr><td valign=\"top\" align=\"left\"><div class=\"normal\">ANGRY</div></td><td valign=\"top\" align=\"left\"><div class=\"normal\">DEPRESSED</div></td><td valign=\"top\" align=\"left\"><div class=\"normal\">CONFUSED</div></td><td valign=\"top\" align=\"left\"><div class=\"normal\">HELPLESS</div></td></tr> <tr><td valign=\"top\" align=\"left\"><div class=\"teeny\">irritated</div></td><td valign=\"top\" align=\"left\"><div class=\"teeny\">lousy</div></td><td valign=\"top\" align=\"left\"><div class=\"teeny\">upset</div></td><td valign=\"top\" align=\"left\"><div class=\"teeny\">incapable</div></td></tr> <tr><td valign=\"top\" align=\"left\"><div class=\"teeny\">enraged</div></td><td valign=\"top\" align=\"left\"><div class=\"teeny\">disappointed</div></td><td valign=\"top\" align=\"left\"><div class=\"teeny\">doubtful</div></td><td valign=\"top\" align=\"left\"><div class=\"teeny\">alone</div></td></tr> <tr><td valign=\"top\" align=\"left\"><div class=\"teeny\">hostile</div></td><td valign=\"top\" align=\"left\"><div class=\"teeny\">discouraged</div></td><td valign=\"top\" align=\"left\"><div class=\"teeny\">uncertain</div></td><td valign=\"top\" align=\"left\"><div class=\"teeny\">paralyzed</div></td></tr> <tr><td valign=\"top\" align=\"left\"><div class=\"teeny\">insulting</div></td><td valign=\"top\" align=\"left\"><div class=\"teeny\">ashamed</div></td><td valign=\"top\" align=\"left\"><div class=\"teeny\">indecisive</div></td><td valign=\"top\" align=\"left\"><div class=\"teeny\">fatigued</div></td></tr> <tr><td valign=\"top\" align=\"left\"><div class=\"teeny\">sore</div></td><td valign=\"top\" align=\"left\"><div class=\"teeny\">powerless</div></td><td valign=\"top\" align=\"left\"><div class=\"teeny\">perplexed</div></td><td valign=\"top\" align=\"left\"><div class=\"teeny\">useless</div></td></tr> <tr><td valign=\"top\" align=\"left\"><div class=\"teeny\">annoyed</div></td><td valign=\"top\" align=\"left\"><div class=\"teeny\">diminished</div></td><td valign=\"top\" align=\"left\"><div class=\"teeny\">embarrassed</div></td><td valign=\"top\" align=\"left\"><div class=\"teeny\">inferior</div></td></tr> <tr><td valign=\"top\" align=\"left\"><div class=\"teeny\">upset</div></td><td valign=\"top\" align=\"left\"><div class=\"teeny\">guilty</div></td><td valign=\"top\" align=\"left\"><div class=\"teeny\">hesitant</div></td><td valign=\"top\" align=\"left\"><div class=\"teeny\">vulnerable</div></td></tr> <tr><td valign=\"top\" align=\"left\"><div class=\"teeny\">hateful</div></td><td valign=\"top\" align=\"left\"><div class=\"teeny\">dissatisfied</div></td><td valign=\"top\" align=\"left\"><div class=\"teeny\">shy</div></td><td valign=\"top\" align=\"left\"><div class=\"teeny\">empty</div></td></tr> <tr><td valign=\"top\" align=\"left\"><div class=\"teeny\">unpleasant</div></td><td valign=\"top\" align=\"left\"><div class=\"teeny\">miserable</div></td><td valign=\"top\" align=\"left\"><div class=\"teeny\">stupefied</div></td><td valign=\"top\" align=\"left\"><div class=\"teeny\">forced</div></td></tr> <tr><td valign=\"top\" align=\"left\"><div class=\"teeny\">offensive</div></td><td valign=\"top\" align=\"left\"><div class=\"teeny\">detestable</div></td><td valign=\"top\" align=\"left\"><div class=\"teeny\">disillusioned</div></td><td valign=\"top\" align=\"left\"><div class=\"teeny\">hesitant</div></td></tr> <tr><td valign=\"top\" align=\"left\"><div class=\"teeny\">bitter</div></td><td valign=\"top\" align=\"left\"><div class=\"teeny\">repugnant</div></td><td valign=\"top\" align=\"left\"><div class=\"teeny\">unbelieving</div></td><td valign=\"top\" align=\"left\"><div class=\"teeny\">despair</div></td></tr> <tr><td valign=\"top\" align=\"left\"><div class=\"teeny\">aggressive</div></td><td valign=\"top\" align=\"left\"><div class=\"teeny\">despicable</div></td><td valign=\"top\" align=\"left\"><div class=\"teeny\">skeptical</div></td><td valign=\"top\" align=\"left\"><div class=\"teeny\">frustrated</div></td></tr> <tr><td valign=\"top\" align=\"left\"><div class=\"teeny\">resentful</div></td><td valign=\"top\" align=\"left\"><div class=\"teeny\">disgusting</div></td><td valign=\"top\" align=\"left\"><div class=\"teeny\">distrustful</div></td><td valign=\"top\" align=\"left\"><div class=\"teeny\">distressed</div></td></tr> <tr><td valign=\"top\" align=\"left\"><div class=\"teeny\">inflamed</div></td><td valign=\"top\" align=\"left\"><div class=\"teeny\">abominable</div></td><td valign=\"top\" align=\"left\"><div class=\"teeny\">misgiving</div></td><td valign=\"top\" align=\"left\"><div class=\"teeny\">woeful</div></td></tr> <tr><td valign=\"top\" align=\"left\"><div class=\"teeny\">provoked</div></td><td valign=\"top\" align=\"left\"><div class=\"teeny\">terrible</div></td><td valign=\"top\" align=\"left\"><div class=\"teeny\">lost</div></td><td valign=\"top\" align=\"left\"><div class=\"teeny\">pathetic</div></td></tr> <tr><td valign=\"top\" align=\"left\"><div class=\"teeny\">incensed</div></td><td valign=\"top\" align=\"left\"><div class=\"teeny\">in despair</div></td><td valign=\"top\" align=\"left\"><div class=\"teeny\">unsure</div></td><td valign=\"top\" align=\"left\"><div class=\"teeny\">tragic</div></td></tr> <tr><td valign=\"top\" align=\"left\"><div class=\"teeny\">infuriated</div></td><td valign=\"top\" align=\"left\"><div class=\"teeny\">sulky</div></td><td valign=\"top\" align=\"left\"><div class=\"teeny\">uneasy</div></td><td valign=\"top\" align=\"left\"><div class=\"teeny\">in a stew</div></td></tr> <tr><td valign=\"top\" align=\"left\"><div class=\"teeny\">cross</div></td><td valign=\"top\" align=\"left\"><div class=\"teeny\">bad</div></td><td valign=\"top\" align=\"left\"><div class=\"teeny\">pessimistic</div></td><td valign=\"top\" align=\"left\"><div class=\"teeny\">dominated</div></td></tr> <tr><td valign=\"top\" align=\"left\"><div class=\"teeny\">worked up</div></td><td valign=\"top\" align=\"left\"><div class=\"teeny\">a sense of loss</div></td><td valign=\"top\" align=\"left\"><div class=\"teeny\">tense</div></td><td valign=\"top\" align=\"left\"><div class=\"teeny\">&nbsp;</div></td></tr> <tr><td valign=\"top\" align=\"left\"><div class=\"teeny\">boiling</div></td><td valign=\"top\" align=\"left\"><div class=\"teeny\">&nbsp;</div></td><td valign=\"top\" align=\"left\"><div class=\"teeny\">&nbsp;</div></td><td valign=\"top\" align=\"left\"><div class=\"teeny\">&nbsp;</div></td></tr> <tr><td valign=\"top\" align=\"left\"><div class=\"teeny\">fuming</div></td><td valign=\"top\" align=\"left\"><div class=\"teeny\">&nbsp;</div></td><td valign=\"top\" align=\"left\"><div class=\"teeny\">&nbsp;</div></td><td valign=\"top\" align=\"left\"><div class=\"teeny\">&nbsp;</div></td></tr> <tr><td valign=\"top\" align=\"left\"><div class=\"teeny\">indignant</div></td><td valign=\"top\" align=\"left\"><div class=\"teeny\">&nbsp;</div></td><td valign=\"top\" align=\"left\"><div class=\"teeny\">&nbsp;</div></td><td valign=\"top\" align=\"left\"><div class=\"teeny\">&nbsp;</div></td></tr>  <tr><td colspan=4><br><br></td></tr> <tr><td valign=\"top\" align=\"left\"><div class=\"normal\">INDIFFERENT</div></td><td valign=\"top\" align=\"left\"><div class=\"normal\">AFRAID</div></td><td valign=\"top\" align=\"left\"><div class=\"normal\">HURT</div></td><td valign=\"top\" align=\"left\"><div class=\"normal\">SAD</div></td></tr> <tr><td valign=\"top\" align=\"left\"><div class=\"teeny\">insensitive</div></td><td valign=\"top\" align=\"left\"><div class=\"teeny\">fearful</div></td><td valign=\"top\" align=\"left\"><div class=\"teeny\">crushed</div></td><td valign=\"top\" align=\"left\"><div class=\"teeny\">tearful</div></td></tr> <tr><td valign=\"top\" align=\"left\"><div class=\"teeny\">dull</div></td><td valign=\"top\" align=\"left\"><div class=\"teeny\">terrified</div></td><td valign=\"top\" align=\"left\"><div class=\"teeny\">tormented</div></td><td valign=\"top\" align=\"left\"><div class=\"teeny\">sorrowful</div></td></tr> <tr><td valign=\"top\" align=\"left\"><div class=\"teeny\">nonchalant</div></td><td valign=\"top\" align=\"left\"><div class=\"teeny\">suspicious</div></td><td valign=\"top\" align=\"left\"><div class=\"teeny\">deprived</div></td><td valign=\"top\" align=\"left\"><div class=\"teeny\">pained</div></td></tr> <tr><td valign=\"top\" align=\"left\"><div class=\"teeny\">neutral</div></td><td valign=\"top\" align=\"left\"><div class=\"teeny\">anxious</div></td><td valign=\"top\" align=\"left\"><div class=\"teeny\">pained</div></td><td valign=\"top\" align=\"left\"><div class=\"teeny\">grief</div></td></tr> <tr><td valign=\"top\" align=\"left\"><div class=\"teeny\">reserved</div></td><td valign=\"top\" align=\"left\"><div class=\"teeny\">alarmed</div></td><td valign=\"top\" align=\"left\"><div class=\"teeny\">tortured</div></td><td valign=\"top\" align=\"left\"><div class=\"teeny\">anguish</div></td></tr> <tr><td valign=\"top\" align=\"left\"><div class=\"teeny\">weary</div></td><td valign=\"top\" align=\"left\"><div class=\"teeny\">panic</div></td><td valign=\"top\" align=\"left\"><div class=\"teeny\">dejected</div></td><td valign=\"top\" align=\"left\"><div class=\"teeny\">desolate</div></td></tr> <tr><td valign=\"top\" align=\"left\"><div class=\"teeny\">bored</div></td><td valign=\"top\" align=\"left\"><div class=\"teeny\">nervous</div></td><td valign=\"top\" align=\"left\"><div class=\"teeny\">rejected</div></td><td valign=\"top\" align=\"left\"><div class=\"teeny\">desperate</div></td></tr> <tr><td valign=\"top\" align=\"left\"><div class=\"teeny\">preoccupied</div></td><td valign=\"top\" align=\"left\"><div class=\"teeny\">scared</div></td><td valign=\"top\" align=\"left\"><div class=\"teeny\">injured</div></td><td valign=\"top\" align=\"left\"><div class=\"teeny\">pessimistic</div></td></tr> <tr><td valign=\"top\" align=\"left\"><div class=\"teeny\">cold</div></td><td valign=\"top\" align=\"left\"><div class=\"teeny\">worried</div></td><td valign=\"top\" align=\"left\"><div class=\"teeny\">offended</div></td><td valign=\"top\" align=\"left\"><div class=\"teeny\">unhappy</div></td></tr> <tr><td valign=\"top\" align=\"left\"><div class=\"teeny\">disinterested</div></td><td valign=\"top\" align=\"left\"><div class=\"teeny\">frightened</div></td><td valign=\"top\" align=\"left\"><div class=\"teeny\">afflicted</div></td><td valign=\"top\" align=\"left\"><div class=\"teeny\">lonely</div></td></tr> <tr><td valign=\"top\" align=\"left\"><div class=\"teeny\">lifeless</div></td><td valign=\"top\" align=\"left\"><div class=\"teeny\">timid</div></td><td valign=\"top\" align=\"left\"><div class=\"teeny\">aching</div></td><td valign=\"top\" align=\"left\"><div class=\"teeny\">grieved</div></td></tr> <tr><td valign=\"top\" align=\"left\"><div class=\"teeny\">&nbsp;</div></td><td valign=\"top\" align=\"left\"><div class=\"teeny\">shaky</div></td><td valign=\"top\" align=\"left\"><div class=\"teeny\">victimized</div></td><td><div class=\"teeny\">mournful</div></td> </tr> <tr><td valign=\"top\" align=\"left\"><div class=\"teeny\">&nbsp;</div></td><td valign=\"top\" align=\"left\"><div class=\"teeny\">restless</div></td><td valign=\"top\" align=\"left\"><div class=\"teeny\">heartbroken</div></td><td valign=\"top\" align=\"left\"><div class=\"teeny\">dismayed</div></td></tr> <tr><td valign=\"top\" align=\"left\"><div class=\"teeny\">&nbsp;</div></td><td valign=\"top\" align=\"left\"><div class=\"teeny\">doubtful</div></td><td valign=\"top\" align=\"left\"><div class=\"teeny\">agonized</div></td><td valign=\"top\" align=\"left\"><div class=\"teeny\">&nbsp;</div></td></tr> <tr><td valign=\"top\" align=\"left\"><div class=\"teeny\">&nbsp;</div></td><td valign=\"top\" align=\"left\"><div class=\"teeny\">threatened</div></td><td valign=\"top\" align=\"left\"><div class=\"teeny\">appalled</div></td><td valign=\"top\" align=\"left\"><div class=\"teeny\">&nbsp;</div></td></tr> <tr><td valign=\"top\" align=\"left\"><div class=\"teeny\">&nbsp;</div></td><td valign=\"top\" align=\"left\"><div class=\"teeny\">cowardly</div></td><td valign=\"top\" align=\"left\"><div class=\"teeny\">humiliated</div></td><td valign=\"top\" align=\"left\"><div class=\"teeny\">&nbsp;</div></td></tr> <tr><td valign=\"top\" align=\"left\"><div class=\"teeny\">&nbsp;</div></td><td valign=\"top\" align=\"left\"><div class=\"teeny\">quaking</div></td><td valign=\"top\" align=\"left\"><div class=\"teeny\">wronged</div></td><td valign=\"top\" align=\"left\"><div class=\"teeny\">&nbsp;</div></td></tr> <tr><td valign=\"top\" align=\"left\"><div class=\"teeny\">&nbsp;</div></td><td valign=\"top\" align=\"left\"><div class=\"teeny\">menaced</div></td><td valign=\"top\" align=\"left\"><div class=\"teeny\">alienated</div></td><td valign=\"top\" align=\"left\"><div class=\"teeny\">&nbsp;</div></td></tr> <tr><td valign=\"top\" align=\"left\"><div class=\"teeny\">&nbsp;</div></td><td valign=\"top\" align=\"left\"><div class=\"teeny\">wary</div></td><td valign=\"top\" align=\"left\"><div class=\"teeny\">&nbsp;</div></td><td valign=\"top\" align=\"left\"><div class=\"teeny\">&nbsp;</div></td></tr> </table></div><br><br></body> </html> '"
      ]
     },
     "execution_count": 3,
     "metadata": {},
     "output_type": "execute_result"
    }
   ],
   "source": [
    "print(type(response))\n",
    "response.content"
   ]
  },
  {
   "cell_type": "code",
   "execution_count": 4,
   "metadata": {},
   "outputs": [
    {
     "name": "stdout",
     "output_type": "stream",
     "text": [
      "<title>List of Feeling Words</title>\n"
     ]
    }
   ],
   "source": [
    "soup = BeautifulSoup(response.content, 'lxml')\n",
    "print(soup.title)"
   ]
  },
  {
   "cell_type": "code",
   "execution_count": 5,
   "metadata": {},
   "outputs": [
    {
     "name": "stdout",
     "output_type": "stream",
     "text": [
      "<html><head><title>List of Feeling Words</title> <link href=\"../../styles.css\" rel=\"stylesheet\" type=\"text/css\"/></head> <body bgcolor=\"White\" text=\"Black\"> <table border=\"0\" cellpadding=\"5\" cellspacing=\"5\"> <tr><td align=\"LEFT\" colspan=\"4\" valign=\"TOP\" width=\"790\"> <div class=\"larger\">Pleasant Feelings</div></td></tr> <tr><td align=\"left\" valign=\"top\"><div class=\"normal\">OPEN</div></td><td align=\"left\" valign=\"top\"><div class=\"normal\">HAPPY</div></td><td align=\"left\" valign=\"top\"><div class=\"normal\">ALIVE</div></td><td align=\"left\" valign=\"top\"><div class=\"normal\">GOOD</div></td></tr> <tr><td align=\"left\" valign=\"top\"><div class=\"teeny\">understanding</div></td><td align=\"left\" valign=\"top\"><div class=\"teeny\">great</div></td><td align=\"left\" valign=\"top\"><div class=\"teeny\">playful</div></td><td align=\"left\" valign=\"top\"><div class=\"teeny\">calm</div></td></tr> <tr><td align=\"left\" valign=\"top\"><div class=\"teeny\">confident</div></td><td align=\"left\" valign=\"top\"><div class=\"teeny\">gay</div></td><td align=\"left\" valign=\"top\"><div class=\"teeny\">courageous</div></td><td align=\"left\" valign=\"top\"><div class=\"teeny\">peaceful</div></td></tr> <tr><td align=\"left\" valign=\"top\"><div class=\"teeny\">reliable</div></td><td align=\"left\" valign=\"top\"><div class=\"teeny\">joyous</div></td><td align=\"left\" valign=\"top\"><div class=\"teeny\">energetic</div></td><td align=\"left\" valign=\"top\"><div class=\"teeny\">at ease</div></td></tr> <tr><td align=\"left\" valign=\"top\"><div class=\"teeny\">easy</div></td><td align=\"left\" valign=\"top\"><div class=\"teeny\">lucky</div></td><td align=\"left\" valign=\"top\"><div class=\"teeny\">liberated</div></td><td align=\"left\" valign=\"top\"><div class=\"teeny\">comfortable</div></td></tr> <tr><td align=\"left\" valign=\"top\"><div class=\"teeny\">amazed</div></td><td align=\"left\" valign=\"top\"><div class=\"teeny\">fortunate</div></td><td align=\"left\" valign=\"top\"><div class=\"teeny\">optimistic</div></td><td align=\"left\" valign=\"top\"><div class=\"teeny\">pleased</div></td></tr> <tr><td align=\"left\" valign=\"top\"><div class=\"teeny\">free</div></td><td align=\"left\" valign=\"top\"><div class=\"teeny\">delighted</div></td><td align=\"left\" valign=\"top\"><div class=\"teeny\">provocative</div></td><td align=\"left\" valign=\"top\"><div class=\"teeny\">encouraged</div></td></tr> <tr><td align=\"left\" valign=\"top\"><div class=\"teeny\">sympathetic</div></td><td align=\"left\" valign=\"top\"><div class=\"teeny\">overjoyed</div></td><td align=\"left\" valign=\"top\"><div class=\"teeny\">impulsive</div></td><td align=\"left\" valign=\"top\"><div class=\"teeny\">clever</div></td></tr> <tr><td align=\"left\" valign=\"top\"><div class=\"teeny\">interested</div></td><td align=\"left\" valign=\"top\"><div class=\"teeny\">gleeful</div></td><td align=\"left\" valign=\"top\"><div class=\"teeny\">free</div></td><td align=\"left\" valign=\"top\"><div class=\"teeny\">surprised</div></td></tr> <tr><td align=\"left\" valign=\"top\"><div class=\"teeny\">satisfied</div></td><td align=\"left\" valign=\"top\"><div class=\"teeny\">thankful</div></td><td align=\"left\" valign=\"top\"><div class=\"teeny\">frisky</div></td><td align=\"left\" valign=\"top\"><div class=\"teeny\">content</div></td></tr> <tr><td align=\"left\" valign=\"top\"><div class=\"teeny\">receptive</div></td><td align=\"left\" valign=\"top\"><div class=\"teeny\">important</div></td><td align=\"left\" valign=\"top\"><div class=\"teeny\">animated</div></td><td align=\"left\" valign=\"top\"><div class=\"teeny\">quiet</div></td></tr> <tr><td align=\"left\" valign=\"top\"><div class=\"teeny\">accepting</div></td><td align=\"left\" valign=\"top\"><div class=\"teeny\">festive</div></td><td align=\"left\" valign=\"top\"><div class=\"teeny\">spirited</div></td><td align=\"left\" valign=\"top\"><div class=\"teeny\">certain</div></td></tr> <tr><td align=\"left\" valign=\"top\"><div class=\"teeny\">kind</div></td><td align=\"left\" valign=\"top\"><div class=\"teeny\">ecstatic</div></td><td align=\"left\" valign=\"top\"><div class=\"teeny\">thrilled</div></td><td align=\"left\" valign=\"top\"><div class=\"teeny\">relaxed</div></td></tr> <tr><td align=\"left\" valign=\"top\"><div class=\"teeny\"> </div></td><td align=\"left\" valign=\"top\"><div class=\"teeny\">satisfied</div></td><td align=\"left\" valign=\"top\"><div class=\"teeny\">wonderful</div></td><td align=\"left\" valign=\"top\"><div class=\"teeny\">serene</div></td></tr> <tr><td align=\"left\" valign=\"top\"><div class=\"teeny\"> </div></td><td align=\"left\" valign=\"top\"><div class=\"teeny\">glad</div></td><td align=\"left\" valign=\"top\"><div class=\"teeny\"> </div></td><td align=\"left\" valign=\"top\"><div class=\"teeny\">free and easy</div></td></tr> <tr><td align=\"left\" valign=\"top\"><div class=\"teeny\"> </div></td><td align=\"left\" valign=\"top\"><div class=\"teeny\">cheerful</div></td><td align=\"left\" valign=\"top\"><div class=\"teeny\"> </div></td><td align=\"left\" valign=\"top\"><div class=\"teeny\">bright</div></td></tr> <tr><td align=\"left\" valign=\"top\"><div class=\"teeny\"> </div></td><td align=\"left\" valign=\"top\"><div class=\"teeny\">sunny</div></td><td align=\"left\" valign=\"top\"><div class=\"teeny\"> </div></td><td align=\"left\" valign=\"top\"><div class=\"teeny\">blessed</div></td></tr> <tr><td align=\"left\" valign=\"top\"><div class=\"teeny\"> </div></td><td align=\"left\" valign=\"top\"><div class=\"teeny\">merry</div></td><td align=\"left\" valign=\"top\"><div class=\"teeny\"> </div></td><td align=\"left\" valign=\"top\"><div class=\"teeny\">reassured</div></td></tr> <tr><td align=\"left\" valign=\"top\"><div class=\"teeny\"> </div></td><td align=\"left\" valign=\"top\"><div class=\"teeny\">elated</div></td><td align=\"left\" valign=\"top\"><div class=\"teeny\"> </div></td><td align=\"left\" valign=\"top\"><div class=\"teeny\"> </div></td></tr> <tr><td align=\"left\" valign=\"top\"><div class=\"teeny\"> </div></td><td align=\"left\" valign=\"top\"><div class=\"teeny\">jubilant</div></td><td align=\"left\" valign=\"top\"><div class=\"teeny\"> </div></td><td align=\"left\" valign=\"top\"><div class=\"teeny\"> </div></td></tr> <tr><td colspan=\"4\"><br/><br/></td></tr> <tr><td align=\"left\" valign=\"top\"><div class=\"normal\">LOVE</div></td><td align=\"left\" valign=\"top\"><div class=\"normal\">INTERESTED</div></td><td align=\"left\" valign=\"top\"><div class=\"normal\">POSITIVE</div></td><td align=\"left\" valign=\"top\"><div class=\"normal\">STRONG</div></td></tr> <tr><td align=\"left\" valign=\"top\"><div class=\"teeny\">loving</div></td><td align=\"left\" valign=\"top\"><div class=\"teeny\">concerned</div></td><td align=\"left\" valign=\"top\"><div class=\"teeny\">eager</div></td><td align=\"left\" valign=\"top\"><div class=\"teeny\">impulsive</div></td></tr> <tr><td align=\"left\" valign=\"top\"><div class=\"teeny\">considerate</div></td><td align=\"left\" valign=\"top\"><div class=\"teeny\">affected</div></td><td align=\"left\" valign=\"top\"><div class=\"teeny\">keen</div></td><td align=\"left\" valign=\"top\"><div class=\"teeny\">free</div></td></tr> <tr><td align=\"left\" valign=\"top\"><div class=\"teeny\">affectionate</div></td><td align=\"left\" valign=\"top\"><div class=\"teeny\">fascinated</div></td><td align=\"left\" valign=\"top\"><div class=\"teeny\">earnest</div></td><td align=\"left\" valign=\"top\"><div class=\"teeny\">sure</div></td></tr> <tr><td align=\"left\" valign=\"top\"><div class=\"teeny\">sensitive</div></td><td align=\"left\" valign=\"top\"><div class=\"teeny\">intrigued</div></td><td align=\"left\" valign=\"top\"><div class=\"teeny\">intent</div></td><td align=\"left\" valign=\"top\"><div class=\"teeny\">certain</div></td></tr> <tr><td align=\"left\" valign=\"top\"><div class=\"teeny\">tender</div></td><td align=\"left\" valign=\"top\"><div class=\"teeny\">absorbed</div></td><td align=\"left\" valign=\"top\"><div class=\"teeny\">anxious</div></td><td align=\"left\" valign=\"top\"><div class=\"teeny\">rebellious</div></td></tr> <tr><td align=\"left\" valign=\"top\"><div class=\"teeny\">devoted</div></td><td align=\"left\" valign=\"top\"><div class=\"teeny\">inquisitive</div></td><td align=\"left\" valign=\"top\"><div class=\"teeny\">inspired</div></td><td align=\"left\" valign=\"top\"><div class=\"teeny\">unique</div></td></tr> <tr><td align=\"left\" valign=\"top\"><div class=\"teeny\">attracted</div></td><td align=\"left\" valign=\"top\"><div class=\"teeny\">nosy</div></td><td align=\"left\" valign=\"top\"><div class=\"teeny\">determined</div></td><td align=\"left\" valign=\"top\"><div class=\"teeny\">dynamic</div></td></tr> <tr><td align=\"left\" valign=\"top\"><div class=\"teeny\">passionate</div></td><td align=\"left\" valign=\"top\"><div class=\"teeny\">snoopy</div></td><td align=\"left\" valign=\"top\"><div class=\"teeny\">excited</div></td><td align=\"left\" valign=\"top\"><div class=\"teeny\">tenacious</div></td></tr> <tr><td align=\"left\" valign=\"top\"><div class=\"teeny\">admiration</div></td><td align=\"left\" valign=\"top\"><div class=\"teeny\">engrossed</div></td><td align=\"left\" valign=\"top\"><div class=\"teeny\">enthusiastic</div></td><td align=\"left\" valign=\"top\"><div class=\"teeny\">hardy</div></td></tr> <tr><td align=\"left\" valign=\"top\"><div class=\"teeny\">warm</div></td><td align=\"left\" valign=\"top\"><div class=\"teeny\">curious</div></td><td align=\"left\" valign=\"top\"><div class=\"teeny\">bold</div></td><td align=\"left\" valign=\"top\"><div class=\"teeny\">secure</div></td></tr> <tr><td align=\"left\" valign=\"top\"><div class=\"teeny\">touched\t</div></td><td align=\"left\" valign=\"top\"><div class=\"teeny\"> </div></td><td align=\"left\" valign=\"top\"><div class=\"teeny\">brave</div></td><td align=\"left\" valign=\"top\"><div class=\"teeny\"> </div></td></tr> <tr><td align=\"left\" valign=\"top\"><div class=\"teeny\">sympathy\t</div></td><td align=\"left\" valign=\"top\"><div class=\"teeny\"> </div></td><td align=\"left\" valign=\"top\"><div class=\"teeny\">daring</div></td><td align=\"left\" valign=\"top\"><div class=\"teeny\"> </div></td></tr> <tr><td align=\"left\" valign=\"top\"><div class=\"teeny\">close\t</div></td><td align=\"left\" valign=\"top\"><div class=\"teeny\"> </div></td><td align=\"left\" valign=\"top\"><div class=\"teeny\">challenged</div></td><td align=\"left\" valign=\"top\"><div class=\"teeny\"> </div></td></tr> <tr><td align=\"left\" valign=\"top\"><div class=\"teeny\">loved\t</div></td><td align=\"left\" valign=\"top\"><div class=\"teeny\"> </div></td><td align=\"left\" valign=\"top\"><div class=\"teeny\">optimistic</div></td><td align=\"left\" valign=\"top\"><div class=\"teeny\"> </div></td></tr> <tr><td align=\"left\" valign=\"top\"><div class=\"teeny\">comforted\t</div></td><td align=\"left\" valign=\"top\"><div class=\"teeny\"> </div></td><td align=\"left\" valign=\"top\"><div class=\"teeny\">re-enforced</div></td><td align=\"left\" valign=\"top\"><div class=\"teeny\"> </div></td></tr> <tr><td align=\"left\" valign=\"top\"><div class=\"teeny\">drawn toward</div></td><td align=\"left\" valign=\"top\"><div class=\"teeny\"> </div></td><td align=\"left\" valign=\"top\"><div class=\"teeny\">confident</div></td><td align=\"left\" valign=\"top\"><div class=\"teeny\"> </div></td></tr> <tr><td align=\"left\" valign=\"top\"><div class=\"teeny\"> </div></td><td align=\"left\" valign=\"top\"><div class=\"teeny\"> </div></td><td align=\"left\" valign=\"top\"><div class=\"teeny\">hopeful</div></td><td align=\"left\" valign=\"top\"><div class=\"teeny\"> </div></td></tr> <tr><td colspan=\"4\"><br/><br/></td></tr> <tr><td align=\"LEFT\" colspan=\"4\" valign=\"TOP\" width=\"790\"> <div class=\"larger\">Difficult/Unpleasant Feelings</div></td></tr> <tr><td align=\"left\" valign=\"top\"><div class=\"normal\">ANGRY</div></td><td align=\"left\" valign=\"top\"><div class=\"normal\">DEPRESSED</div></td><td align=\"left\" valign=\"top\"><div class=\"normal\">CONFUSED</div></td><td align=\"left\" valign=\"top\"><div class=\"normal\">HELPLESS</div></td></tr> <tr><td align=\"left\" valign=\"top\"><div class=\"teeny\">irritated</div></td><td align=\"left\" valign=\"top\"><div class=\"teeny\">lousy</div></td><td align=\"left\" valign=\"top\"><div class=\"teeny\">upset</div></td><td align=\"left\" valign=\"top\"><div class=\"teeny\">incapable</div></td></tr> <tr><td align=\"left\" valign=\"top\"><div class=\"teeny\">enraged</div></td><td align=\"left\" valign=\"top\"><div class=\"teeny\">disappointed</div></td><td align=\"left\" valign=\"top\"><div class=\"teeny\">doubtful</div></td><td align=\"left\" valign=\"top\"><div class=\"teeny\">alone</div></td></tr> <tr><td align=\"left\" valign=\"top\"><div class=\"teeny\">hostile</div></td><td align=\"left\" valign=\"top\"><div class=\"teeny\">discouraged</div></td><td align=\"left\" valign=\"top\"><div class=\"teeny\">uncertain</div></td><td align=\"left\" valign=\"top\"><div class=\"teeny\">paralyzed</div></td></tr> <tr><td align=\"left\" valign=\"top\"><div class=\"teeny\">insulting</div></td><td align=\"left\" valign=\"top\"><div class=\"teeny\">ashamed</div></td><td align=\"left\" valign=\"top\"><div class=\"teeny\">indecisive</div></td><td align=\"left\" valign=\"top\"><div class=\"teeny\">fatigued</div></td></tr> <tr><td align=\"left\" valign=\"top\"><div class=\"teeny\">sore</div></td><td align=\"left\" valign=\"top\"><div class=\"teeny\">powerless</div></td><td align=\"left\" valign=\"top\"><div class=\"teeny\">perplexed</div></td><td align=\"left\" valign=\"top\"><div class=\"teeny\">useless</div></td></tr> <tr><td align=\"left\" valign=\"top\"><div class=\"teeny\">annoyed</div></td><td align=\"left\" valign=\"top\"><div class=\"teeny\">diminished</div></td><td align=\"left\" valign=\"top\"><div class=\"teeny\">embarrassed</div></td><td align=\"left\" valign=\"top\"><div class=\"teeny\">inferior</div></td></tr> <tr><td align=\"left\" valign=\"top\"><div class=\"teeny\">upset</div></td><td align=\"left\" valign=\"top\"><div class=\"teeny\">guilty</div></td><td align=\"left\" valign=\"top\"><div class=\"teeny\">hesitant</div></td><td align=\"left\" valign=\"top\"><div class=\"teeny\">vulnerable</div></td></tr> <tr><td align=\"left\" valign=\"top\"><div class=\"teeny\">hateful</div></td><td align=\"left\" valign=\"top\"><div class=\"teeny\">dissatisfied</div></td><td align=\"left\" valign=\"top\"><div class=\"teeny\">shy</div></td><td align=\"left\" valign=\"top\"><div class=\"teeny\">empty</div></td></tr> <tr><td align=\"left\" valign=\"top\"><div class=\"teeny\">unpleasant</div></td><td align=\"left\" valign=\"top\"><div class=\"teeny\">miserable</div></td><td align=\"left\" valign=\"top\"><div class=\"teeny\">stupefied</div></td><td align=\"left\" valign=\"top\"><div class=\"teeny\">forced</div></td></tr> <tr><td align=\"left\" valign=\"top\"><div class=\"teeny\">offensive</div></td><td align=\"left\" valign=\"top\"><div class=\"teeny\">detestable</div></td><td align=\"left\" valign=\"top\"><div class=\"teeny\">disillusioned</div></td><td align=\"left\" valign=\"top\"><div class=\"teeny\">hesitant</div></td></tr> <tr><td align=\"left\" valign=\"top\"><div class=\"teeny\">bitter</div></td><td align=\"left\" valign=\"top\"><div class=\"teeny\">repugnant</div></td><td align=\"left\" valign=\"top\"><div class=\"teeny\">unbelieving</div></td><td align=\"left\" valign=\"top\"><div class=\"teeny\">despair</div></td></tr> <tr><td align=\"left\" valign=\"top\"><div class=\"teeny\">aggressive</div></td><td align=\"left\" valign=\"top\"><div class=\"teeny\">despicable</div></td><td align=\"left\" valign=\"top\"><div class=\"teeny\">skeptical</div></td><td align=\"left\" valign=\"top\"><div class=\"teeny\">frustrated</div></td></tr> <tr><td align=\"left\" valign=\"top\"><div class=\"teeny\">resentful</div></td><td align=\"left\" valign=\"top\"><div class=\"teeny\">disgusting</div></td><td align=\"left\" valign=\"top\"><div class=\"teeny\">distrustful</div></td><td align=\"left\" valign=\"top\"><div class=\"teeny\">distressed</div></td></tr> <tr><td align=\"left\" valign=\"top\"><div class=\"teeny\">inflamed</div></td><td align=\"left\" valign=\"top\"><div class=\"teeny\">abominable</div></td><td align=\"left\" valign=\"top\"><div class=\"teeny\">misgiving</div></td><td align=\"left\" valign=\"top\"><div class=\"teeny\">woeful</div></td></tr> <tr><td align=\"left\" valign=\"top\"><div class=\"teeny\">provoked</div></td><td align=\"left\" valign=\"top\"><div class=\"teeny\">terrible</div></td><td align=\"left\" valign=\"top\"><div class=\"teeny\">lost</div></td><td align=\"left\" valign=\"top\"><div class=\"teeny\">pathetic</div></td></tr> <tr><td align=\"left\" valign=\"top\"><div class=\"teeny\">incensed</div></td><td align=\"left\" valign=\"top\"><div class=\"teeny\">in despair</div></td><td align=\"left\" valign=\"top\"><div class=\"teeny\">unsure</div></td><td align=\"left\" valign=\"top\"><div class=\"teeny\">tragic</div></td></tr> <tr><td align=\"left\" valign=\"top\"><div class=\"teeny\">infuriated</div></td><td align=\"left\" valign=\"top\"><div class=\"teeny\">sulky</div></td><td align=\"left\" valign=\"top\"><div class=\"teeny\">uneasy</div></td><td align=\"left\" valign=\"top\"><div class=\"teeny\">in a stew</div></td></tr> <tr><td align=\"left\" valign=\"top\"><div class=\"teeny\">cross</div></td><td align=\"left\" valign=\"top\"><div class=\"teeny\">bad</div></td><td align=\"left\" valign=\"top\"><div class=\"teeny\">pessimistic</div></td><td align=\"left\" valign=\"top\"><div class=\"teeny\">dominated</div></td></tr> <tr><td align=\"left\" valign=\"top\"><div class=\"teeny\">worked up</div></td><td align=\"left\" valign=\"top\"><div class=\"teeny\">a sense of loss</div></td><td align=\"left\" valign=\"top\"><div class=\"teeny\">tense</div></td><td align=\"left\" valign=\"top\"><div class=\"teeny\"> </div></td></tr> <tr><td align=\"left\" valign=\"top\"><div class=\"teeny\">boiling</div></td><td align=\"left\" valign=\"top\"><div class=\"teeny\"> </div></td><td align=\"left\" valign=\"top\"><div class=\"teeny\"> </div></td><td align=\"left\" valign=\"top\"><div class=\"teeny\"> </div></td></tr> <tr><td align=\"left\" valign=\"top\"><div class=\"teeny\">fuming</div></td><td align=\"left\" valign=\"top\"><div class=\"teeny\"> </div></td><td align=\"left\" valign=\"top\"><div class=\"teeny\"> </div></td><td align=\"left\" valign=\"top\"><div class=\"teeny\"> </div></td></tr> <tr><td align=\"left\" valign=\"top\"><div class=\"teeny\">indignant</div></td><td align=\"left\" valign=\"top\"><div class=\"teeny\"> </div></td><td align=\"left\" valign=\"top\"><div class=\"teeny\"> </div></td><td align=\"left\" valign=\"top\"><div class=\"teeny\"> </div></td></tr> <tr><td colspan=\"4\"><br/><br/></td></tr> <tr><td align=\"left\" valign=\"top\"><div class=\"normal\">INDIFFERENT</div></td><td align=\"left\" valign=\"top\"><div class=\"normal\">AFRAID</div></td><td align=\"left\" valign=\"top\"><div class=\"normal\">HURT</div></td><td align=\"left\" valign=\"top\"><div class=\"normal\">SAD</div></td></tr> <tr><td align=\"left\" valign=\"top\"><div class=\"teeny\">insensitive</div></td><td align=\"left\" valign=\"top\"><div class=\"teeny\">fearful</div></td><td align=\"left\" valign=\"top\"><div class=\"teeny\">crushed</div></td><td align=\"left\" valign=\"top\"><div class=\"teeny\">tearful</div></td></tr> <tr><td align=\"left\" valign=\"top\"><div class=\"teeny\">dull</div></td><td align=\"left\" valign=\"top\"><div class=\"teeny\">terrified</div></td><td align=\"left\" valign=\"top\"><div class=\"teeny\">tormented</div></td><td align=\"left\" valign=\"top\"><div class=\"teeny\">sorrowful</div></td></tr> <tr><td align=\"left\" valign=\"top\"><div class=\"teeny\">nonchalant</div></td><td align=\"left\" valign=\"top\"><div class=\"teeny\">suspicious</div></td><td align=\"left\" valign=\"top\"><div class=\"teeny\">deprived</div></td><td align=\"left\" valign=\"top\"><div class=\"teeny\">pained</div></td></tr> <tr><td align=\"left\" valign=\"top\"><div class=\"teeny\">neutral</div></td><td align=\"left\" valign=\"top\"><div class=\"teeny\">anxious</div></td><td align=\"left\" valign=\"top\"><div class=\"teeny\">pained</div></td><td align=\"left\" valign=\"top\"><div class=\"teeny\">grief</div></td></tr> <tr><td align=\"left\" valign=\"top\"><div class=\"teeny\">reserved</div></td><td align=\"left\" valign=\"top\"><div class=\"teeny\">alarmed</div></td><td align=\"left\" valign=\"top\"><div class=\"teeny\">tortured</div></td><td align=\"left\" valign=\"top\"><div class=\"teeny\">anguish</div></td></tr> <tr><td align=\"left\" valign=\"top\"><div class=\"teeny\">weary</div></td><td align=\"left\" valign=\"top\"><div class=\"teeny\">panic</div></td><td align=\"left\" valign=\"top\"><div class=\"teeny\">dejected</div></td><td align=\"left\" valign=\"top\"><div class=\"teeny\">desolate</div></td></tr> <tr><td align=\"left\" valign=\"top\"><div class=\"teeny\">bored</div></td><td align=\"left\" valign=\"top\"><div class=\"teeny\">nervous</div></td><td align=\"left\" valign=\"top\"><div class=\"teeny\">rejected</div></td><td align=\"left\" valign=\"top\"><div class=\"teeny\">desperate</div></td></tr> <tr><td align=\"left\" valign=\"top\"><div class=\"teeny\">preoccupied</div></td><td align=\"left\" valign=\"top\"><div class=\"teeny\">scared</div></td><td align=\"left\" valign=\"top\"><div class=\"teeny\">injured</div></td><td align=\"left\" valign=\"top\"><div class=\"teeny\">pessimistic</div></td></tr> <tr><td align=\"left\" valign=\"top\"><div class=\"teeny\">cold</div></td><td align=\"left\" valign=\"top\"><div class=\"teeny\">worried</div></td><td align=\"left\" valign=\"top\"><div class=\"teeny\">offended</div></td><td align=\"left\" valign=\"top\"><div class=\"teeny\">unhappy</div></td></tr> <tr><td align=\"left\" valign=\"top\"><div class=\"teeny\">disinterested</div></td><td align=\"left\" valign=\"top\"><div class=\"teeny\">frightened</div></td><td align=\"left\" valign=\"top\"><div class=\"teeny\">afflicted</div></td><td align=\"left\" valign=\"top\"><div class=\"teeny\">lonely</div></td></tr> <tr><td align=\"left\" valign=\"top\"><div class=\"teeny\">lifeless</div></td><td align=\"left\" valign=\"top\"><div class=\"teeny\">timid</div></td><td align=\"left\" valign=\"top\"><div class=\"teeny\">aching</div></td><td align=\"left\" valign=\"top\"><div class=\"teeny\">grieved</div></td></tr> <tr><td align=\"left\" valign=\"top\"><div class=\"teeny\"> </div></td><td align=\"left\" valign=\"top\"><div class=\"teeny\">shaky</div></td><td align=\"left\" valign=\"top\"><div class=\"teeny\">victimized</div></td><td><div class=\"teeny\">mournful</div></td> </tr> <tr><td align=\"left\" valign=\"top\"><div class=\"teeny\"> </div></td><td align=\"left\" valign=\"top\"><div class=\"teeny\">restless</div></td><td align=\"left\" valign=\"top\"><div class=\"teeny\">heartbroken</div></td><td align=\"left\" valign=\"top\"><div class=\"teeny\">dismayed</div></td></tr> <tr><td align=\"left\" valign=\"top\"><div class=\"teeny\"> </div></td><td align=\"left\" valign=\"top\"><div class=\"teeny\">doubtful</div></td><td align=\"left\" valign=\"top\"><div class=\"teeny\">agonized</div></td><td align=\"left\" valign=\"top\"><div class=\"teeny\"> </div></td></tr> <tr><td align=\"left\" valign=\"top\"><div class=\"teeny\"> </div></td><td align=\"left\" valign=\"top\"><div class=\"teeny\">threatened</div></td><td align=\"left\" valign=\"top\"><div class=\"teeny\">appalled</div></td><td align=\"left\" valign=\"top\"><div class=\"teeny\"> </div></td></tr> <tr><td align=\"left\" valign=\"top\"><div class=\"teeny\"> </div></td><td align=\"left\" valign=\"top\"><div class=\"teeny\">cowardly</div></td><td align=\"left\" valign=\"top\"><div class=\"teeny\">humiliated</div></td><td align=\"left\" valign=\"top\"><div class=\"teeny\"> </div></td></tr> <tr><td align=\"left\" valign=\"top\"><div class=\"teeny\"> </div></td><td align=\"left\" valign=\"top\"><div class=\"teeny\">quaking</div></td><td align=\"left\" valign=\"top\"><div class=\"teeny\">wronged</div></td><td align=\"left\" valign=\"top\"><div class=\"teeny\"> </div></td></tr> <tr><td align=\"left\" valign=\"top\"><div class=\"teeny\"> </div></td><td align=\"left\" valign=\"top\"><div class=\"teeny\">menaced</div></td><td align=\"left\" valign=\"top\"><div class=\"teeny\">alienated</div></td><td align=\"left\" valign=\"top\"><div class=\"teeny\"> </div></td></tr> <tr><td align=\"left\" valign=\"top\"><div class=\"teeny\"> </div></td><td align=\"left\" valign=\"top\"><div class=\"teeny\">wary</div></td><td align=\"left\" valign=\"top\"><div class=\"teeny\"> </div></td><td align=\"left\" valign=\"top\"><div class=\"teeny\"> </div></td></tr> </table><br/><br/></body> </html> \n"
     ]
    }
   ],
   "source": [
    "print(soup)"
   ]
  },
  {
   "cell_type": "code",
   "execution_count": 6,
   "metadata": {},
   "outputs": [
    {
     "data": {
      "text/plain": [
       "[<table border=\"0\" cellpadding=\"5\" cellspacing=\"5\"> <tr><td align=\"LEFT\" colspan=\"4\" valign=\"TOP\" width=\"790\"> <div class=\"larger\">Pleasant Feelings</div></td></tr> <tr><td align=\"left\" valign=\"top\"><div class=\"normal\">OPEN</div></td><td align=\"left\" valign=\"top\"><div class=\"normal\">HAPPY</div></td><td align=\"left\" valign=\"top\"><div class=\"normal\">ALIVE</div></td><td align=\"left\" valign=\"top\"><div class=\"normal\">GOOD</div></td></tr> <tr><td align=\"left\" valign=\"top\"><div class=\"teeny\">understanding</div></td><td align=\"left\" valign=\"top\"><div class=\"teeny\">great</div></td><td align=\"left\" valign=\"top\"><div class=\"teeny\">playful</div></td><td align=\"left\" valign=\"top\"><div class=\"teeny\">calm</div></td></tr> <tr><td align=\"left\" valign=\"top\"><div class=\"teeny\">confident</div></td><td align=\"left\" valign=\"top\"><div class=\"teeny\">gay</div></td><td align=\"left\" valign=\"top\"><div class=\"teeny\">courageous</div></td><td align=\"left\" valign=\"top\"><div class=\"teeny\">peaceful</div></td></tr> <tr><td align=\"left\" valign=\"top\"><div class=\"teeny\">reliable</div></td><td align=\"left\" valign=\"top\"><div class=\"teeny\">joyous</div></td><td align=\"left\" valign=\"top\"><div class=\"teeny\">energetic</div></td><td align=\"left\" valign=\"top\"><div class=\"teeny\">at ease</div></td></tr> <tr><td align=\"left\" valign=\"top\"><div class=\"teeny\">easy</div></td><td align=\"left\" valign=\"top\"><div class=\"teeny\">lucky</div></td><td align=\"left\" valign=\"top\"><div class=\"teeny\">liberated</div></td><td align=\"left\" valign=\"top\"><div class=\"teeny\">comfortable</div></td></tr> <tr><td align=\"left\" valign=\"top\"><div class=\"teeny\">amazed</div></td><td align=\"left\" valign=\"top\"><div class=\"teeny\">fortunate</div></td><td align=\"left\" valign=\"top\"><div class=\"teeny\">optimistic</div></td><td align=\"left\" valign=\"top\"><div class=\"teeny\">pleased</div></td></tr> <tr><td align=\"left\" valign=\"top\"><div class=\"teeny\">free</div></td><td align=\"left\" valign=\"top\"><div class=\"teeny\">delighted</div></td><td align=\"left\" valign=\"top\"><div class=\"teeny\">provocative</div></td><td align=\"left\" valign=\"top\"><div class=\"teeny\">encouraged</div></td></tr> <tr><td align=\"left\" valign=\"top\"><div class=\"teeny\">sympathetic</div></td><td align=\"left\" valign=\"top\"><div class=\"teeny\">overjoyed</div></td><td align=\"left\" valign=\"top\"><div class=\"teeny\">impulsive</div></td><td align=\"left\" valign=\"top\"><div class=\"teeny\">clever</div></td></tr> <tr><td align=\"left\" valign=\"top\"><div class=\"teeny\">interested</div></td><td align=\"left\" valign=\"top\"><div class=\"teeny\">gleeful</div></td><td align=\"left\" valign=\"top\"><div class=\"teeny\">free</div></td><td align=\"left\" valign=\"top\"><div class=\"teeny\">surprised</div></td></tr> <tr><td align=\"left\" valign=\"top\"><div class=\"teeny\">satisfied</div></td><td align=\"left\" valign=\"top\"><div class=\"teeny\">thankful</div></td><td align=\"left\" valign=\"top\"><div class=\"teeny\">frisky</div></td><td align=\"left\" valign=\"top\"><div class=\"teeny\">content</div></td></tr> <tr><td align=\"left\" valign=\"top\"><div class=\"teeny\">receptive</div></td><td align=\"left\" valign=\"top\"><div class=\"teeny\">important</div></td><td align=\"left\" valign=\"top\"><div class=\"teeny\">animated</div></td><td align=\"left\" valign=\"top\"><div class=\"teeny\">quiet</div></td></tr> <tr><td align=\"left\" valign=\"top\"><div class=\"teeny\">accepting</div></td><td align=\"left\" valign=\"top\"><div class=\"teeny\">festive</div></td><td align=\"left\" valign=\"top\"><div class=\"teeny\">spirited</div></td><td align=\"left\" valign=\"top\"><div class=\"teeny\">certain</div></td></tr> <tr><td align=\"left\" valign=\"top\"><div class=\"teeny\">kind</div></td><td align=\"left\" valign=\"top\"><div class=\"teeny\">ecstatic</div></td><td align=\"left\" valign=\"top\"><div class=\"teeny\">thrilled</div></td><td align=\"left\" valign=\"top\"><div class=\"teeny\">relaxed</div></td></tr> <tr><td align=\"left\" valign=\"top\"><div class=\"teeny\"> </div></td><td align=\"left\" valign=\"top\"><div class=\"teeny\">satisfied</div></td><td align=\"left\" valign=\"top\"><div class=\"teeny\">wonderful</div></td><td align=\"left\" valign=\"top\"><div class=\"teeny\">serene</div></td></tr> <tr><td align=\"left\" valign=\"top\"><div class=\"teeny\"> </div></td><td align=\"left\" valign=\"top\"><div class=\"teeny\">glad</div></td><td align=\"left\" valign=\"top\"><div class=\"teeny\"> </div></td><td align=\"left\" valign=\"top\"><div class=\"teeny\">free and easy</div></td></tr> <tr><td align=\"left\" valign=\"top\"><div class=\"teeny\"> </div></td><td align=\"left\" valign=\"top\"><div class=\"teeny\">cheerful</div></td><td align=\"left\" valign=\"top\"><div class=\"teeny\"> </div></td><td align=\"left\" valign=\"top\"><div class=\"teeny\">bright</div></td></tr> <tr><td align=\"left\" valign=\"top\"><div class=\"teeny\"> </div></td><td align=\"left\" valign=\"top\"><div class=\"teeny\">sunny</div></td><td align=\"left\" valign=\"top\"><div class=\"teeny\"> </div></td><td align=\"left\" valign=\"top\"><div class=\"teeny\">blessed</div></td></tr> <tr><td align=\"left\" valign=\"top\"><div class=\"teeny\"> </div></td><td align=\"left\" valign=\"top\"><div class=\"teeny\">merry</div></td><td align=\"left\" valign=\"top\"><div class=\"teeny\"> </div></td><td align=\"left\" valign=\"top\"><div class=\"teeny\">reassured</div></td></tr> <tr><td align=\"left\" valign=\"top\"><div class=\"teeny\"> </div></td><td align=\"left\" valign=\"top\"><div class=\"teeny\">elated</div></td><td align=\"left\" valign=\"top\"><div class=\"teeny\"> </div></td><td align=\"left\" valign=\"top\"><div class=\"teeny\"> </div></td></tr> <tr><td align=\"left\" valign=\"top\"><div class=\"teeny\"> </div></td><td align=\"left\" valign=\"top\"><div class=\"teeny\">jubilant</div></td><td align=\"left\" valign=\"top\"><div class=\"teeny\"> </div></td><td align=\"left\" valign=\"top\"><div class=\"teeny\"> </div></td></tr> <tr><td colspan=\"4\"><br/><br/></td></tr> <tr><td align=\"left\" valign=\"top\"><div class=\"normal\">LOVE</div></td><td align=\"left\" valign=\"top\"><div class=\"normal\">INTERESTED</div></td><td align=\"left\" valign=\"top\"><div class=\"normal\">POSITIVE</div></td><td align=\"left\" valign=\"top\"><div class=\"normal\">STRONG</div></td></tr> <tr><td align=\"left\" valign=\"top\"><div class=\"teeny\">loving</div></td><td align=\"left\" valign=\"top\"><div class=\"teeny\">concerned</div></td><td align=\"left\" valign=\"top\"><div class=\"teeny\">eager</div></td><td align=\"left\" valign=\"top\"><div class=\"teeny\">impulsive</div></td></tr> <tr><td align=\"left\" valign=\"top\"><div class=\"teeny\">considerate</div></td><td align=\"left\" valign=\"top\"><div class=\"teeny\">affected</div></td><td align=\"left\" valign=\"top\"><div class=\"teeny\">keen</div></td><td align=\"left\" valign=\"top\"><div class=\"teeny\">free</div></td></tr> <tr><td align=\"left\" valign=\"top\"><div class=\"teeny\">affectionate</div></td><td align=\"left\" valign=\"top\"><div class=\"teeny\">fascinated</div></td><td align=\"left\" valign=\"top\"><div class=\"teeny\">earnest</div></td><td align=\"left\" valign=\"top\"><div class=\"teeny\">sure</div></td></tr> <tr><td align=\"left\" valign=\"top\"><div class=\"teeny\">sensitive</div></td><td align=\"left\" valign=\"top\"><div class=\"teeny\">intrigued</div></td><td align=\"left\" valign=\"top\"><div class=\"teeny\">intent</div></td><td align=\"left\" valign=\"top\"><div class=\"teeny\">certain</div></td></tr> <tr><td align=\"left\" valign=\"top\"><div class=\"teeny\">tender</div></td><td align=\"left\" valign=\"top\"><div class=\"teeny\">absorbed</div></td><td align=\"left\" valign=\"top\"><div class=\"teeny\">anxious</div></td><td align=\"left\" valign=\"top\"><div class=\"teeny\">rebellious</div></td></tr> <tr><td align=\"left\" valign=\"top\"><div class=\"teeny\">devoted</div></td><td align=\"left\" valign=\"top\"><div class=\"teeny\">inquisitive</div></td><td align=\"left\" valign=\"top\"><div class=\"teeny\">inspired</div></td><td align=\"left\" valign=\"top\"><div class=\"teeny\">unique</div></td></tr> <tr><td align=\"left\" valign=\"top\"><div class=\"teeny\">attracted</div></td><td align=\"left\" valign=\"top\"><div class=\"teeny\">nosy</div></td><td align=\"left\" valign=\"top\"><div class=\"teeny\">determined</div></td><td align=\"left\" valign=\"top\"><div class=\"teeny\">dynamic</div></td></tr> <tr><td align=\"left\" valign=\"top\"><div class=\"teeny\">passionate</div></td><td align=\"left\" valign=\"top\"><div class=\"teeny\">snoopy</div></td><td align=\"left\" valign=\"top\"><div class=\"teeny\">excited</div></td><td align=\"left\" valign=\"top\"><div class=\"teeny\">tenacious</div></td></tr> <tr><td align=\"left\" valign=\"top\"><div class=\"teeny\">admiration</div></td><td align=\"left\" valign=\"top\"><div class=\"teeny\">engrossed</div></td><td align=\"left\" valign=\"top\"><div class=\"teeny\">enthusiastic</div></td><td align=\"left\" valign=\"top\"><div class=\"teeny\">hardy</div></td></tr> <tr><td align=\"left\" valign=\"top\"><div class=\"teeny\">warm</div></td><td align=\"left\" valign=\"top\"><div class=\"teeny\">curious</div></td><td align=\"left\" valign=\"top\"><div class=\"teeny\">bold</div></td><td align=\"left\" valign=\"top\"><div class=\"teeny\">secure</div></td></tr> <tr><td align=\"left\" valign=\"top\"><div class=\"teeny\">touched\t</div></td><td align=\"left\" valign=\"top\"><div class=\"teeny\"> </div></td><td align=\"left\" valign=\"top\"><div class=\"teeny\">brave</div></td><td align=\"left\" valign=\"top\"><div class=\"teeny\"> </div></td></tr> <tr><td align=\"left\" valign=\"top\"><div class=\"teeny\">sympathy\t</div></td><td align=\"left\" valign=\"top\"><div class=\"teeny\"> </div></td><td align=\"left\" valign=\"top\"><div class=\"teeny\">daring</div></td><td align=\"left\" valign=\"top\"><div class=\"teeny\"> </div></td></tr> <tr><td align=\"left\" valign=\"top\"><div class=\"teeny\">close\t</div></td><td align=\"left\" valign=\"top\"><div class=\"teeny\"> </div></td><td align=\"left\" valign=\"top\"><div class=\"teeny\">challenged</div></td><td align=\"left\" valign=\"top\"><div class=\"teeny\"> </div></td></tr> <tr><td align=\"left\" valign=\"top\"><div class=\"teeny\">loved\t</div></td><td align=\"left\" valign=\"top\"><div class=\"teeny\"> </div></td><td align=\"left\" valign=\"top\"><div class=\"teeny\">optimistic</div></td><td align=\"left\" valign=\"top\"><div class=\"teeny\"> </div></td></tr> <tr><td align=\"left\" valign=\"top\"><div class=\"teeny\">comforted\t</div></td><td align=\"left\" valign=\"top\"><div class=\"teeny\"> </div></td><td align=\"left\" valign=\"top\"><div class=\"teeny\">re-enforced</div></td><td align=\"left\" valign=\"top\"><div class=\"teeny\"> </div></td></tr> <tr><td align=\"left\" valign=\"top\"><div class=\"teeny\">drawn toward</div></td><td align=\"left\" valign=\"top\"><div class=\"teeny\"> </div></td><td align=\"left\" valign=\"top\"><div class=\"teeny\">confident</div></td><td align=\"left\" valign=\"top\"><div class=\"teeny\"> </div></td></tr> <tr><td align=\"left\" valign=\"top\"><div class=\"teeny\"> </div></td><td align=\"left\" valign=\"top\"><div class=\"teeny\"> </div></td><td align=\"left\" valign=\"top\"><div class=\"teeny\">hopeful</div></td><td align=\"left\" valign=\"top\"><div class=\"teeny\"> </div></td></tr> <tr><td colspan=\"4\"><br/><br/></td></tr> <tr><td align=\"LEFT\" colspan=\"4\" valign=\"TOP\" width=\"790\"> <div class=\"larger\">Difficult/Unpleasant Feelings</div></td></tr> <tr><td align=\"left\" valign=\"top\"><div class=\"normal\">ANGRY</div></td><td align=\"left\" valign=\"top\"><div class=\"normal\">DEPRESSED</div></td><td align=\"left\" valign=\"top\"><div class=\"normal\">CONFUSED</div></td><td align=\"left\" valign=\"top\"><div class=\"normal\">HELPLESS</div></td></tr> <tr><td align=\"left\" valign=\"top\"><div class=\"teeny\">irritated</div></td><td align=\"left\" valign=\"top\"><div class=\"teeny\">lousy</div></td><td align=\"left\" valign=\"top\"><div class=\"teeny\">upset</div></td><td align=\"left\" valign=\"top\"><div class=\"teeny\">incapable</div></td></tr> <tr><td align=\"left\" valign=\"top\"><div class=\"teeny\">enraged</div></td><td align=\"left\" valign=\"top\"><div class=\"teeny\">disappointed</div></td><td align=\"left\" valign=\"top\"><div class=\"teeny\">doubtful</div></td><td align=\"left\" valign=\"top\"><div class=\"teeny\">alone</div></td></tr> <tr><td align=\"left\" valign=\"top\"><div class=\"teeny\">hostile</div></td><td align=\"left\" valign=\"top\"><div class=\"teeny\">discouraged</div></td><td align=\"left\" valign=\"top\"><div class=\"teeny\">uncertain</div></td><td align=\"left\" valign=\"top\"><div class=\"teeny\">paralyzed</div></td></tr> <tr><td align=\"left\" valign=\"top\"><div class=\"teeny\">insulting</div></td><td align=\"left\" valign=\"top\"><div class=\"teeny\">ashamed</div></td><td align=\"left\" valign=\"top\"><div class=\"teeny\">indecisive</div></td><td align=\"left\" valign=\"top\"><div class=\"teeny\">fatigued</div></td></tr> <tr><td align=\"left\" valign=\"top\"><div class=\"teeny\">sore</div></td><td align=\"left\" valign=\"top\"><div class=\"teeny\">powerless</div></td><td align=\"left\" valign=\"top\"><div class=\"teeny\">perplexed</div></td><td align=\"left\" valign=\"top\"><div class=\"teeny\">useless</div></td></tr> <tr><td align=\"left\" valign=\"top\"><div class=\"teeny\">annoyed</div></td><td align=\"left\" valign=\"top\"><div class=\"teeny\">diminished</div></td><td align=\"left\" valign=\"top\"><div class=\"teeny\">embarrassed</div></td><td align=\"left\" valign=\"top\"><div class=\"teeny\">inferior</div></td></tr> <tr><td align=\"left\" valign=\"top\"><div class=\"teeny\">upset</div></td><td align=\"left\" valign=\"top\"><div class=\"teeny\">guilty</div></td><td align=\"left\" valign=\"top\"><div class=\"teeny\">hesitant</div></td><td align=\"left\" valign=\"top\"><div class=\"teeny\">vulnerable</div></td></tr> <tr><td align=\"left\" valign=\"top\"><div class=\"teeny\">hateful</div></td><td align=\"left\" valign=\"top\"><div class=\"teeny\">dissatisfied</div></td><td align=\"left\" valign=\"top\"><div class=\"teeny\">shy</div></td><td align=\"left\" valign=\"top\"><div class=\"teeny\">empty</div></td></tr> <tr><td align=\"left\" valign=\"top\"><div class=\"teeny\">unpleasant</div></td><td align=\"left\" valign=\"top\"><div class=\"teeny\">miserable</div></td><td align=\"left\" valign=\"top\"><div class=\"teeny\">stupefied</div></td><td align=\"left\" valign=\"top\"><div class=\"teeny\">forced</div></td></tr> <tr><td align=\"left\" valign=\"top\"><div class=\"teeny\">offensive</div></td><td align=\"left\" valign=\"top\"><div class=\"teeny\">detestable</div></td><td align=\"left\" valign=\"top\"><div class=\"teeny\">disillusioned</div></td><td align=\"left\" valign=\"top\"><div class=\"teeny\">hesitant</div></td></tr> <tr><td align=\"left\" valign=\"top\"><div class=\"teeny\">bitter</div></td><td align=\"left\" valign=\"top\"><div class=\"teeny\">repugnant</div></td><td align=\"left\" valign=\"top\"><div class=\"teeny\">unbelieving</div></td><td align=\"left\" valign=\"top\"><div class=\"teeny\">despair</div></td></tr> <tr><td align=\"left\" valign=\"top\"><div class=\"teeny\">aggressive</div></td><td align=\"left\" valign=\"top\"><div class=\"teeny\">despicable</div></td><td align=\"left\" valign=\"top\"><div class=\"teeny\">skeptical</div></td><td align=\"left\" valign=\"top\"><div class=\"teeny\">frustrated</div></td></tr> <tr><td align=\"left\" valign=\"top\"><div class=\"teeny\">resentful</div></td><td align=\"left\" valign=\"top\"><div class=\"teeny\">disgusting</div></td><td align=\"left\" valign=\"top\"><div class=\"teeny\">distrustful</div></td><td align=\"left\" valign=\"top\"><div class=\"teeny\">distressed</div></td></tr> <tr><td align=\"left\" valign=\"top\"><div class=\"teeny\">inflamed</div></td><td align=\"left\" valign=\"top\"><div class=\"teeny\">abominable</div></td><td align=\"left\" valign=\"top\"><div class=\"teeny\">misgiving</div></td><td align=\"left\" valign=\"top\"><div class=\"teeny\">woeful</div></td></tr> <tr><td align=\"left\" valign=\"top\"><div class=\"teeny\">provoked</div></td><td align=\"left\" valign=\"top\"><div class=\"teeny\">terrible</div></td><td align=\"left\" valign=\"top\"><div class=\"teeny\">lost</div></td><td align=\"left\" valign=\"top\"><div class=\"teeny\">pathetic</div></td></tr> <tr><td align=\"left\" valign=\"top\"><div class=\"teeny\">incensed</div></td><td align=\"left\" valign=\"top\"><div class=\"teeny\">in despair</div></td><td align=\"left\" valign=\"top\"><div class=\"teeny\">unsure</div></td><td align=\"left\" valign=\"top\"><div class=\"teeny\">tragic</div></td></tr> <tr><td align=\"left\" valign=\"top\"><div class=\"teeny\">infuriated</div></td><td align=\"left\" valign=\"top\"><div class=\"teeny\">sulky</div></td><td align=\"left\" valign=\"top\"><div class=\"teeny\">uneasy</div></td><td align=\"left\" valign=\"top\"><div class=\"teeny\">in a stew</div></td></tr> <tr><td align=\"left\" valign=\"top\"><div class=\"teeny\">cross</div></td><td align=\"left\" valign=\"top\"><div class=\"teeny\">bad</div></td><td align=\"left\" valign=\"top\"><div class=\"teeny\">pessimistic</div></td><td align=\"left\" valign=\"top\"><div class=\"teeny\">dominated</div></td></tr> <tr><td align=\"left\" valign=\"top\"><div class=\"teeny\">worked up</div></td><td align=\"left\" valign=\"top\"><div class=\"teeny\">a sense of loss</div></td><td align=\"left\" valign=\"top\"><div class=\"teeny\">tense</div></td><td align=\"left\" valign=\"top\"><div class=\"teeny\"> </div></td></tr> <tr><td align=\"left\" valign=\"top\"><div class=\"teeny\">boiling</div></td><td align=\"left\" valign=\"top\"><div class=\"teeny\"> </div></td><td align=\"left\" valign=\"top\"><div class=\"teeny\"> </div></td><td align=\"left\" valign=\"top\"><div class=\"teeny\"> </div></td></tr> <tr><td align=\"left\" valign=\"top\"><div class=\"teeny\">fuming</div></td><td align=\"left\" valign=\"top\"><div class=\"teeny\"> </div></td><td align=\"left\" valign=\"top\"><div class=\"teeny\"> </div></td><td align=\"left\" valign=\"top\"><div class=\"teeny\"> </div></td></tr> <tr><td align=\"left\" valign=\"top\"><div class=\"teeny\">indignant</div></td><td align=\"left\" valign=\"top\"><div class=\"teeny\"> </div></td><td align=\"left\" valign=\"top\"><div class=\"teeny\"> </div></td><td align=\"left\" valign=\"top\"><div class=\"teeny\"> </div></td></tr> <tr><td colspan=\"4\"><br/><br/></td></tr> <tr><td align=\"left\" valign=\"top\"><div class=\"normal\">INDIFFERENT</div></td><td align=\"left\" valign=\"top\"><div class=\"normal\">AFRAID</div></td><td align=\"left\" valign=\"top\"><div class=\"normal\">HURT</div></td><td align=\"left\" valign=\"top\"><div class=\"normal\">SAD</div></td></tr> <tr><td align=\"left\" valign=\"top\"><div class=\"teeny\">insensitive</div></td><td align=\"left\" valign=\"top\"><div class=\"teeny\">fearful</div></td><td align=\"left\" valign=\"top\"><div class=\"teeny\">crushed</div></td><td align=\"left\" valign=\"top\"><div class=\"teeny\">tearful</div></td></tr> <tr><td align=\"left\" valign=\"top\"><div class=\"teeny\">dull</div></td><td align=\"left\" valign=\"top\"><div class=\"teeny\">terrified</div></td><td align=\"left\" valign=\"top\"><div class=\"teeny\">tormented</div></td><td align=\"left\" valign=\"top\"><div class=\"teeny\">sorrowful</div></td></tr> <tr><td align=\"left\" valign=\"top\"><div class=\"teeny\">nonchalant</div></td><td align=\"left\" valign=\"top\"><div class=\"teeny\">suspicious</div></td><td align=\"left\" valign=\"top\"><div class=\"teeny\">deprived</div></td><td align=\"left\" valign=\"top\"><div class=\"teeny\">pained</div></td></tr> <tr><td align=\"left\" valign=\"top\"><div class=\"teeny\">neutral</div></td><td align=\"left\" valign=\"top\"><div class=\"teeny\">anxious</div></td><td align=\"left\" valign=\"top\"><div class=\"teeny\">pained</div></td><td align=\"left\" valign=\"top\"><div class=\"teeny\">grief</div></td></tr> <tr><td align=\"left\" valign=\"top\"><div class=\"teeny\">reserved</div></td><td align=\"left\" valign=\"top\"><div class=\"teeny\">alarmed</div></td><td align=\"left\" valign=\"top\"><div class=\"teeny\">tortured</div></td><td align=\"left\" valign=\"top\"><div class=\"teeny\">anguish</div></td></tr> <tr><td align=\"left\" valign=\"top\"><div class=\"teeny\">weary</div></td><td align=\"left\" valign=\"top\"><div class=\"teeny\">panic</div></td><td align=\"left\" valign=\"top\"><div class=\"teeny\">dejected</div></td><td align=\"left\" valign=\"top\"><div class=\"teeny\">desolate</div></td></tr> <tr><td align=\"left\" valign=\"top\"><div class=\"teeny\">bored</div></td><td align=\"left\" valign=\"top\"><div class=\"teeny\">nervous</div></td><td align=\"left\" valign=\"top\"><div class=\"teeny\">rejected</div></td><td align=\"left\" valign=\"top\"><div class=\"teeny\">desperate</div></td></tr> <tr><td align=\"left\" valign=\"top\"><div class=\"teeny\">preoccupied</div></td><td align=\"left\" valign=\"top\"><div class=\"teeny\">scared</div></td><td align=\"left\" valign=\"top\"><div class=\"teeny\">injured</div></td><td align=\"left\" valign=\"top\"><div class=\"teeny\">pessimistic</div></td></tr> <tr><td align=\"left\" valign=\"top\"><div class=\"teeny\">cold</div></td><td align=\"left\" valign=\"top\"><div class=\"teeny\">worried</div></td><td align=\"left\" valign=\"top\"><div class=\"teeny\">offended</div></td><td align=\"left\" valign=\"top\"><div class=\"teeny\">unhappy</div></td></tr> <tr><td align=\"left\" valign=\"top\"><div class=\"teeny\">disinterested</div></td><td align=\"left\" valign=\"top\"><div class=\"teeny\">frightened</div></td><td align=\"left\" valign=\"top\"><div class=\"teeny\">afflicted</div></td><td align=\"left\" valign=\"top\"><div class=\"teeny\">lonely</div></td></tr> <tr><td align=\"left\" valign=\"top\"><div class=\"teeny\">lifeless</div></td><td align=\"left\" valign=\"top\"><div class=\"teeny\">timid</div></td><td align=\"left\" valign=\"top\"><div class=\"teeny\">aching</div></td><td align=\"left\" valign=\"top\"><div class=\"teeny\">grieved</div></td></tr> <tr><td align=\"left\" valign=\"top\"><div class=\"teeny\"> </div></td><td align=\"left\" valign=\"top\"><div class=\"teeny\">shaky</div></td><td align=\"left\" valign=\"top\"><div class=\"teeny\">victimized</div></td><td><div class=\"teeny\">mournful</div></td> </tr> <tr><td align=\"left\" valign=\"top\"><div class=\"teeny\"> </div></td><td align=\"left\" valign=\"top\"><div class=\"teeny\">restless</div></td><td align=\"left\" valign=\"top\"><div class=\"teeny\">heartbroken</div></td><td align=\"left\" valign=\"top\"><div class=\"teeny\">dismayed</div></td></tr> <tr><td align=\"left\" valign=\"top\"><div class=\"teeny\"> </div></td><td align=\"left\" valign=\"top\"><div class=\"teeny\">doubtful</div></td><td align=\"left\" valign=\"top\"><div class=\"teeny\">agonized</div></td><td align=\"left\" valign=\"top\"><div class=\"teeny\"> </div></td></tr> <tr><td align=\"left\" valign=\"top\"><div class=\"teeny\"> </div></td><td align=\"left\" valign=\"top\"><div class=\"teeny\">threatened</div></td><td align=\"left\" valign=\"top\"><div class=\"teeny\">appalled</div></td><td align=\"left\" valign=\"top\"><div class=\"teeny\"> </div></td></tr> <tr><td align=\"left\" valign=\"top\"><div class=\"teeny\"> </div></td><td align=\"left\" valign=\"top\"><div class=\"teeny\">cowardly</div></td><td align=\"left\" valign=\"top\"><div class=\"teeny\">humiliated</div></td><td align=\"left\" valign=\"top\"><div class=\"teeny\"> </div></td></tr> <tr><td align=\"left\" valign=\"top\"><div class=\"teeny\"> </div></td><td align=\"left\" valign=\"top\"><div class=\"teeny\">quaking</div></td><td align=\"left\" valign=\"top\"><div class=\"teeny\">wronged</div></td><td align=\"left\" valign=\"top\"><div class=\"teeny\"> </div></td></tr> <tr><td align=\"left\" valign=\"top\"><div class=\"teeny\"> </div></td><td align=\"left\" valign=\"top\"><div class=\"teeny\">menaced</div></td><td align=\"left\" valign=\"top\"><div class=\"teeny\">alienated</div></td><td align=\"left\" valign=\"top\"><div class=\"teeny\"> </div></td></tr> <tr><td align=\"left\" valign=\"top\"><div class=\"teeny\"> </div></td><td align=\"left\" valign=\"top\"><div class=\"teeny\">wary</div></td><td align=\"left\" valign=\"top\"><div class=\"teeny\"> </div></td><td align=\"left\" valign=\"top\"><div class=\"teeny\"> </div></td></tr> </table>]"
      ]
     },
     "execution_count": 6,
     "metadata": {},
     "output_type": "execute_result"
    }
   ],
   "source": [
    "table_body = soup.find_all('table', attrs = {'border':'0', 'cellpadding':'5', 'cellspacing':'5'})\n",
    "table_body"
   ]
  },
  {
   "cell_type": "code",
   "execution_count": 7,
   "metadata": {},
   "outputs": [
    {
     "data": {
      "text/plain": [
       "bs4.element.ResultSet"
      ]
     },
     "execution_count": 7,
     "metadata": {},
     "output_type": "execute_result"
    }
   ],
   "source": [
    "type(table_body)"
   ]
  },
  {
   "cell_type": "code",
   "execution_count": 8,
   "metadata": {},
   "outputs": [
    {
     "data": {
      "text/plain": [
       "1"
      ]
     },
     "execution_count": 8,
     "metadata": {},
     "output_type": "execute_result"
    }
   ],
   "source": [
    "len(table_body)"
   ]
  },
  {
   "cell_type": "code",
   "execution_count": 9,
   "metadata": {},
   "outputs": [
    {
     "data": {
      "text/plain": [
       "1"
      ]
     },
     "execution_count": 9,
     "metadata": {},
     "output_type": "execute_result"
    }
   ],
   "source": [
    "result_list = pd.read_html(str(table_body[0]))\n",
    "len(result_list)"
   ]
  },
  {
   "cell_type": "code",
   "execution_count": 10,
   "metadata": {},
   "outputs": [
    {
     "data": {
      "text/plain": [
       "list"
      ]
     },
     "execution_count": 10,
     "metadata": {},
     "output_type": "execute_result"
    }
   ],
   "source": [
    "type(result_list)"
   ]
  },
  {
   "cell_type": "code",
   "execution_count": 11,
   "metadata": {},
   "outputs": [
    {
     "data": {
      "text/html": [
       "<div>\n",
       "<style scoped>\n",
       "    .dataframe tbody tr th:only-of-type {\n",
       "        vertical-align: middle;\n",
       "    }\n",
       "\n",
       "    .dataframe tbody tr th {\n",
       "        vertical-align: top;\n",
       "    }\n",
       "\n",
       "    .dataframe thead th {\n",
       "        text-align: right;\n",
       "    }\n",
       "</style>\n",
       "<table border=\"1\" class=\"dataframe\">\n",
       "  <thead>\n",
       "    <tr style=\"text-align: right;\">\n",
       "      <th></th>\n",
       "      <th>0</th>\n",
       "      <th>1</th>\n",
       "      <th>2</th>\n",
       "      <th>3</th>\n",
       "    </tr>\n",
       "  </thead>\n",
       "  <tbody>\n",
       "    <tr>\n",
       "      <th>0</th>\n",
       "      <td>Pleasant Feelings</td>\n",
       "      <td>Pleasant Feelings</td>\n",
       "      <td>Pleasant Feelings</td>\n",
       "      <td>Pleasant Feelings</td>\n",
       "    </tr>\n",
       "    <tr>\n",
       "      <th>1</th>\n",
       "      <td>OPEN</td>\n",
       "      <td>HAPPY</td>\n",
       "      <td>ALIVE</td>\n",
       "      <td>GOOD</td>\n",
       "    </tr>\n",
       "    <tr>\n",
       "      <th>2</th>\n",
       "      <td>understanding</td>\n",
       "      <td>great</td>\n",
       "      <td>playful</td>\n",
       "      <td>calm</td>\n",
       "    </tr>\n",
       "    <tr>\n",
       "      <th>3</th>\n",
       "      <td>confident</td>\n",
       "      <td>gay</td>\n",
       "      <td>courageous</td>\n",
       "      <td>peaceful</td>\n",
       "    </tr>\n",
       "    <tr>\n",
       "      <th>4</th>\n",
       "      <td>reliable</td>\n",
       "      <td>joyous</td>\n",
       "      <td>energetic</td>\n",
       "      <td>at ease</td>\n",
       "    </tr>\n",
       "  </tbody>\n",
       "</table>\n",
       "</div>"
      ],
      "text/plain": [
       "                   0                  1                  2                  3\n",
       "0  Pleasant Feelings  Pleasant Feelings  Pleasant Feelings  Pleasant Feelings\n",
       "1               OPEN              HAPPY              ALIVE               GOOD\n",
       "2      understanding              great            playful               calm\n",
       "3          confident                gay         courageous           peaceful\n",
       "4           reliable             joyous          energetic            at ease"
      ]
     },
     "execution_count": 11,
     "metadata": {},
     "output_type": "execute_result"
    }
   ],
   "source": [
    "feeling_words = result_list[0]\n",
    "feeling_words.head()"
   ]
  },
  {
   "cell_type": "code",
   "execution_count": 12,
   "metadata": {},
   "outputs": [
    {
     "data": {
      "text/html": [
       "<div>\n",
       "<style scoped>\n",
       "    .dataframe tbody tr th:only-of-type {\n",
       "        vertical-align: middle;\n",
       "    }\n",
       "\n",
       "    .dataframe tbody tr th {\n",
       "        vertical-align: top;\n",
       "    }\n",
       "\n",
       "    .dataframe thead th {\n",
       "        text-align: right;\n",
       "    }\n",
       "</style>\n",
       "<table border=\"1\" class=\"dataframe\">\n",
       "  <thead>\n",
       "    <tr style=\"text-align: right;\">\n",
       "      <th></th>\n",
       "      <th>0</th>\n",
       "      <th>1</th>\n",
       "      <th>2</th>\n",
       "      <th>3</th>\n",
       "    </tr>\n",
       "  </thead>\n",
       "  <tbody>\n",
       "    <tr>\n",
       "      <th>81</th>\n",
       "      <td>NaN</td>\n",
       "      <td>threatened</td>\n",
       "      <td>appalled</td>\n",
       "      <td>NaN</td>\n",
       "    </tr>\n",
       "    <tr>\n",
       "      <th>82</th>\n",
       "      <td>NaN</td>\n",
       "      <td>cowardly</td>\n",
       "      <td>humiliated</td>\n",
       "      <td>NaN</td>\n",
       "    </tr>\n",
       "    <tr>\n",
       "      <th>83</th>\n",
       "      <td>NaN</td>\n",
       "      <td>quaking</td>\n",
       "      <td>wronged</td>\n",
       "      <td>NaN</td>\n",
       "    </tr>\n",
       "    <tr>\n",
       "      <th>84</th>\n",
       "      <td>NaN</td>\n",
       "      <td>menaced</td>\n",
       "      <td>alienated</td>\n",
       "      <td>NaN</td>\n",
       "    </tr>\n",
       "    <tr>\n",
       "      <th>85</th>\n",
       "      <td>NaN</td>\n",
       "      <td>wary</td>\n",
       "      <td>NaN</td>\n",
       "      <td>NaN</td>\n",
       "    </tr>\n",
       "  </tbody>\n",
       "</table>\n",
       "</div>"
      ],
      "text/plain": [
       "      0           1           2    3\n",
       "81  NaN  threatened    appalled  NaN\n",
       "82  NaN    cowardly  humiliated  NaN\n",
       "83  NaN     quaking     wronged  NaN\n",
       "84  NaN     menaced   alienated  NaN\n",
       "85  NaN        wary         NaN  NaN"
      ]
     },
     "execution_count": 12,
     "metadata": {},
     "output_type": "execute_result"
    }
   ],
   "source": [
    "feeling_words.tail()"
   ]
  },
  {
   "cell_type": "code",
   "execution_count": 13,
   "metadata": {},
   "outputs": [
    {
     "name": "stdout",
     "output_type": "stream",
     "text": [
      "<class 'pandas.core.frame.DataFrame'>\n",
      "RangeIndex: 86 entries, 0 to 85\n",
      "Data columns (total 4 columns):\n",
      " #   Column  Non-Null Count  Dtype \n",
      "---  ------  --------------  ----- \n",
      " 0   0       67 non-null     object\n",
      " 1   1       73 non-null     object\n",
      " 2   2       73 non-null     object\n",
      " 3   3       64 non-null     object\n",
      "dtypes: object(4)\n",
      "memory usage: 2.8+ KB\n"
     ]
    }
   ],
   "source": [
    "feeling_words.info()"
   ]
  },
  {
   "cell_type": "code",
   "execution_count": 14,
   "metadata": {},
   "outputs": [
    {
     "data": {
      "text/html": [
       "<div>\n",
       "<style scoped>\n",
       "    .dataframe tbody tr th:only-of-type {\n",
       "        vertical-align: middle;\n",
       "    }\n",
       "\n",
       "    .dataframe tbody tr th {\n",
       "        vertical-align: top;\n",
       "    }\n",
       "\n",
       "    .dataframe thead th {\n",
       "        text-align: right;\n",
       "    }\n",
       "</style>\n",
       "<table border=\"1\" class=\"dataframe\">\n",
       "  <thead>\n",
       "    <tr style=\"text-align: right;\">\n",
       "      <th></th>\n",
       "      <th>0</th>\n",
       "      <th>1</th>\n",
       "      <th>2</th>\n",
       "      <th>3</th>\n",
       "    </tr>\n",
       "  </thead>\n",
       "  <tbody>\n",
       "    <tr>\n",
       "      <th>0</th>\n",
       "      <td>Pleasant Feelings</td>\n",
       "      <td>Pleasant Feelings</td>\n",
       "      <td>Pleasant Feelings</td>\n",
       "      <td>Pleasant Feelings</td>\n",
       "    </tr>\n",
       "    <tr>\n",
       "      <th>1</th>\n",
       "      <td>OPEN</td>\n",
       "      <td>HAPPY</td>\n",
       "      <td>ALIVE</td>\n",
       "      <td>GOOD</td>\n",
       "    </tr>\n",
       "    <tr>\n",
       "      <th>2</th>\n",
       "      <td>understanding</td>\n",
       "      <td>great</td>\n",
       "      <td>playful</td>\n",
       "      <td>calm</td>\n",
       "    </tr>\n",
       "    <tr>\n",
       "      <th>3</th>\n",
       "      <td>confident</td>\n",
       "      <td>gay</td>\n",
       "      <td>courageous</td>\n",
       "      <td>peaceful</td>\n",
       "    </tr>\n",
       "    <tr>\n",
       "      <th>4</th>\n",
       "      <td>reliable</td>\n",
       "      <td>joyous</td>\n",
       "      <td>energetic</td>\n",
       "      <td>at ease</td>\n",
       "    </tr>\n",
       "    <tr>\n",
       "      <th>5</th>\n",
       "      <td>easy</td>\n",
       "      <td>lucky</td>\n",
       "      <td>liberated</td>\n",
       "      <td>comfortable</td>\n",
       "    </tr>\n",
       "    <tr>\n",
       "      <th>6</th>\n",
       "      <td>amazed</td>\n",
       "      <td>fortunate</td>\n",
       "      <td>optimistic</td>\n",
       "      <td>pleased</td>\n",
       "    </tr>\n",
       "    <tr>\n",
       "      <th>7</th>\n",
       "      <td>free</td>\n",
       "      <td>delighted</td>\n",
       "      <td>provocative</td>\n",
       "      <td>encouraged</td>\n",
       "    </tr>\n",
       "    <tr>\n",
       "      <th>8</th>\n",
       "      <td>sympathetic</td>\n",
       "      <td>overjoyed</td>\n",
       "      <td>impulsive</td>\n",
       "      <td>clever</td>\n",
       "    </tr>\n",
       "    <tr>\n",
       "      <th>9</th>\n",
       "      <td>interested</td>\n",
       "      <td>gleeful</td>\n",
       "      <td>free</td>\n",
       "      <td>surprised</td>\n",
       "    </tr>\n",
       "    <tr>\n",
       "      <th>10</th>\n",
       "      <td>satisfied</td>\n",
       "      <td>thankful</td>\n",
       "      <td>frisky</td>\n",
       "      <td>content</td>\n",
       "    </tr>\n",
       "    <tr>\n",
       "      <th>11</th>\n",
       "      <td>receptive</td>\n",
       "      <td>important</td>\n",
       "      <td>animated</td>\n",
       "      <td>quiet</td>\n",
       "    </tr>\n",
       "    <tr>\n",
       "      <th>12</th>\n",
       "      <td>accepting</td>\n",
       "      <td>festive</td>\n",
       "      <td>spirited</td>\n",
       "      <td>certain</td>\n",
       "    </tr>\n",
       "    <tr>\n",
       "      <th>13</th>\n",
       "      <td>kind</td>\n",
       "      <td>ecstatic</td>\n",
       "      <td>thrilled</td>\n",
       "      <td>relaxed</td>\n",
       "    </tr>\n",
       "    <tr>\n",
       "      <th>14</th>\n",
       "      <td>NaN</td>\n",
       "      <td>satisfied</td>\n",
       "      <td>wonderful</td>\n",
       "      <td>serene</td>\n",
       "    </tr>\n",
       "    <tr>\n",
       "      <th>15</th>\n",
       "      <td>NaN</td>\n",
       "      <td>glad</td>\n",
       "      <td>NaN</td>\n",
       "      <td>free and easy</td>\n",
       "    </tr>\n",
       "    <tr>\n",
       "      <th>16</th>\n",
       "      <td>NaN</td>\n",
       "      <td>cheerful</td>\n",
       "      <td>NaN</td>\n",
       "      <td>bright</td>\n",
       "    </tr>\n",
       "    <tr>\n",
       "      <th>17</th>\n",
       "      <td>NaN</td>\n",
       "      <td>sunny</td>\n",
       "      <td>NaN</td>\n",
       "      <td>blessed</td>\n",
       "    </tr>\n",
       "    <tr>\n",
       "      <th>18</th>\n",
       "      <td>NaN</td>\n",
       "      <td>merry</td>\n",
       "      <td>NaN</td>\n",
       "      <td>reassured</td>\n",
       "    </tr>\n",
       "    <tr>\n",
       "      <th>19</th>\n",
       "      <td>NaN</td>\n",
       "      <td>elated</td>\n",
       "      <td>NaN</td>\n",
       "      <td>NaN</td>\n",
       "    </tr>\n",
       "    <tr>\n",
       "      <th>20</th>\n",
       "      <td>NaN</td>\n",
       "      <td>jubilant</td>\n",
       "      <td>NaN</td>\n",
       "      <td>NaN</td>\n",
       "    </tr>\n",
       "    <tr>\n",
       "      <th>21</th>\n",
       "      <td>NaN</td>\n",
       "      <td>NaN</td>\n",
       "      <td>NaN</td>\n",
       "      <td>NaN</td>\n",
       "    </tr>\n",
       "    <tr>\n",
       "      <th>22</th>\n",
       "      <td>LOVE</td>\n",
       "      <td>INTERESTED</td>\n",
       "      <td>POSITIVE</td>\n",
       "      <td>STRONG</td>\n",
       "    </tr>\n",
       "    <tr>\n",
       "      <th>23</th>\n",
       "      <td>loving</td>\n",
       "      <td>concerned</td>\n",
       "      <td>eager</td>\n",
       "      <td>impulsive</td>\n",
       "    </tr>\n",
       "    <tr>\n",
       "      <th>24</th>\n",
       "      <td>considerate</td>\n",
       "      <td>affected</td>\n",
       "      <td>keen</td>\n",
       "      <td>free</td>\n",
       "    </tr>\n",
       "    <tr>\n",
       "      <th>25</th>\n",
       "      <td>affectionate</td>\n",
       "      <td>fascinated</td>\n",
       "      <td>earnest</td>\n",
       "      <td>sure</td>\n",
       "    </tr>\n",
       "    <tr>\n",
       "      <th>26</th>\n",
       "      <td>sensitive</td>\n",
       "      <td>intrigued</td>\n",
       "      <td>intent</td>\n",
       "      <td>certain</td>\n",
       "    </tr>\n",
       "    <tr>\n",
       "      <th>27</th>\n",
       "      <td>tender</td>\n",
       "      <td>absorbed</td>\n",
       "      <td>anxious</td>\n",
       "      <td>rebellious</td>\n",
       "    </tr>\n",
       "    <tr>\n",
       "      <th>28</th>\n",
       "      <td>devoted</td>\n",
       "      <td>inquisitive</td>\n",
       "      <td>inspired</td>\n",
       "      <td>unique</td>\n",
       "    </tr>\n",
       "    <tr>\n",
       "      <th>29</th>\n",
       "      <td>attracted</td>\n",
       "      <td>nosy</td>\n",
       "      <td>determined</td>\n",
       "      <td>dynamic</td>\n",
       "    </tr>\n",
       "    <tr>\n",
       "      <th>30</th>\n",
       "      <td>passionate</td>\n",
       "      <td>snoopy</td>\n",
       "      <td>excited</td>\n",
       "      <td>tenacious</td>\n",
       "    </tr>\n",
       "    <tr>\n",
       "      <th>31</th>\n",
       "      <td>admiration</td>\n",
       "      <td>engrossed</td>\n",
       "      <td>enthusiastic</td>\n",
       "      <td>hardy</td>\n",
       "    </tr>\n",
       "    <tr>\n",
       "      <th>32</th>\n",
       "      <td>warm</td>\n",
       "      <td>curious</td>\n",
       "      <td>bold</td>\n",
       "      <td>secure</td>\n",
       "    </tr>\n",
       "    <tr>\n",
       "      <th>33</th>\n",
       "      <td>touched</td>\n",
       "      <td>NaN</td>\n",
       "      <td>brave</td>\n",
       "      <td>NaN</td>\n",
       "    </tr>\n",
       "    <tr>\n",
       "      <th>34</th>\n",
       "      <td>sympathy</td>\n",
       "      <td>NaN</td>\n",
       "      <td>daring</td>\n",
       "      <td>NaN</td>\n",
       "    </tr>\n",
       "    <tr>\n",
       "      <th>35</th>\n",
       "      <td>close</td>\n",
       "      <td>NaN</td>\n",
       "      <td>challenged</td>\n",
       "      <td>NaN</td>\n",
       "    </tr>\n",
       "    <tr>\n",
       "      <th>36</th>\n",
       "      <td>loved</td>\n",
       "      <td>NaN</td>\n",
       "      <td>optimistic</td>\n",
       "      <td>NaN</td>\n",
       "    </tr>\n",
       "    <tr>\n",
       "      <th>37</th>\n",
       "      <td>comforted</td>\n",
       "      <td>NaN</td>\n",
       "      <td>re-enforced</td>\n",
       "      <td>NaN</td>\n",
       "    </tr>\n",
       "    <tr>\n",
       "      <th>38</th>\n",
       "      <td>drawn toward</td>\n",
       "      <td>NaN</td>\n",
       "      <td>confident</td>\n",
       "      <td>NaN</td>\n",
       "    </tr>\n",
       "    <tr>\n",
       "      <th>39</th>\n",
       "      <td>NaN</td>\n",
       "      <td>NaN</td>\n",
       "      <td>hopeful</td>\n",
       "      <td>NaN</td>\n",
       "    </tr>\n",
       "    <tr>\n",
       "      <th>40</th>\n",
       "      <td>NaN</td>\n",
       "      <td>NaN</td>\n",
       "      <td>NaN</td>\n",
       "      <td>NaN</td>\n",
       "    </tr>\n",
       "    <tr>\n",
       "      <th>41</th>\n",
       "      <td>Difficult/Unpleasant Feelings</td>\n",
       "      <td>Difficult/Unpleasant Feelings</td>\n",
       "      <td>Difficult/Unpleasant Feelings</td>\n",
       "      <td>Difficult/Unpleasant Feelings</td>\n",
       "    </tr>\n",
       "    <tr>\n",
       "      <th>42</th>\n",
       "      <td>ANGRY</td>\n",
       "      <td>DEPRESSED</td>\n",
       "      <td>CONFUSED</td>\n",
       "      <td>HELPLESS</td>\n",
       "    </tr>\n",
       "    <tr>\n",
       "      <th>43</th>\n",
       "      <td>irritated</td>\n",
       "      <td>lousy</td>\n",
       "      <td>upset</td>\n",
       "      <td>incapable</td>\n",
       "    </tr>\n",
       "    <tr>\n",
       "      <th>44</th>\n",
       "      <td>enraged</td>\n",
       "      <td>disappointed</td>\n",
       "      <td>doubtful</td>\n",
       "      <td>alone</td>\n",
       "    </tr>\n",
       "    <tr>\n",
       "      <th>45</th>\n",
       "      <td>hostile</td>\n",
       "      <td>discouraged</td>\n",
       "      <td>uncertain</td>\n",
       "      <td>paralyzed</td>\n",
       "    </tr>\n",
       "    <tr>\n",
       "      <th>46</th>\n",
       "      <td>insulting</td>\n",
       "      <td>ashamed</td>\n",
       "      <td>indecisive</td>\n",
       "      <td>fatigued</td>\n",
       "    </tr>\n",
       "    <tr>\n",
       "      <th>47</th>\n",
       "      <td>sore</td>\n",
       "      <td>powerless</td>\n",
       "      <td>perplexed</td>\n",
       "      <td>useless</td>\n",
       "    </tr>\n",
       "    <tr>\n",
       "      <th>48</th>\n",
       "      <td>annoyed</td>\n",
       "      <td>diminished</td>\n",
       "      <td>embarrassed</td>\n",
       "      <td>inferior</td>\n",
       "    </tr>\n",
       "    <tr>\n",
       "      <th>49</th>\n",
       "      <td>upset</td>\n",
       "      <td>guilty</td>\n",
       "      <td>hesitant</td>\n",
       "      <td>vulnerable</td>\n",
       "    </tr>\n",
       "  </tbody>\n",
       "</table>\n",
       "</div>"
      ],
      "text/plain": [
       "                                0                              1  \\\n",
       "0               Pleasant Feelings              Pleasant Feelings   \n",
       "1                            OPEN                          HAPPY   \n",
       "2                   understanding                          great   \n",
       "3                       confident                            gay   \n",
       "4                        reliable                         joyous   \n",
       "5                            easy                          lucky   \n",
       "6                          amazed                      fortunate   \n",
       "7                            free                      delighted   \n",
       "8                     sympathetic                      overjoyed   \n",
       "9                      interested                        gleeful   \n",
       "10                      satisfied                       thankful   \n",
       "11                      receptive                      important   \n",
       "12                      accepting                        festive   \n",
       "13                           kind                       ecstatic   \n",
       "14                            NaN                      satisfied   \n",
       "15                            NaN                           glad   \n",
       "16                            NaN                       cheerful   \n",
       "17                            NaN                          sunny   \n",
       "18                            NaN                          merry   \n",
       "19                            NaN                         elated   \n",
       "20                            NaN                       jubilant   \n",
       "21                            NaN                            NaN   \n",
       "22                           LOVE                     INTERESTED   \n",
       "23                         loving                      concerned   \n",
       "24                    considerate                       affected   \n",
       "25                   affectionate                     fascinated   \n",
       "26                      sensitive                      intrigued   \n",
       "27                         tender                       absorbed   \n",
       "28                        devoted                    inquisitive   \n",
       "29                      attracted                           nosy   \n",
       "30                     passionate                         snoopy   \n",
       "31                     admiration                      engrossed   \n",
       "32                           warm                        curious   \n",
       "33                        touched                            NaN   \n",
       "34                       sympathy                            NaN   \n",
       "35                          close                            NaN   \n",
       "36                          loved                            NaN   \n",
       "37                      comforted                            NaN   \n",
       "38                   drawn toward                            NaN   \n",
       "39                            NaN                            NaN   \n",
       "40                            NaN                            NaN   \n",
       "41  Difficult/Unpleasant Feelings  Difficult/Unpleasant Feelings   \n",
       "42                          ANGRY                      DEPRESSED   \n",
       "43                      irritated                          lousy   \n",
       "44                        enraged                   disappointed   \n",
       "45                        hostile                    discouraged   \n",
       "46                      insulting                        ashamed   \n",
       "47                           sore                      powerless   \n",
       "48                        annoyed                     diminished   \n",
       "49                          upset                         guilty   \n",
       "\n",
       "                                2                              3  \n",
       "0               Pleasant Feelings              Pleasant Feelings  \n",
       "1                           ALIVE                           GOOD  \n",
       "2                         playful                           calm  \n",
       "3                      courageous                       peaceful  \n",
       "4                       energetic                        at ease  \n",
       "5                       liberated                    comfortable  \n",
       "6                      optimistic                        pleased  \n",
       "7                     provocative                     encouraged  \n",
       "8                       impulsive                         clever  \n",
       "9                            free                      surprised  \n",
       "10                         frisky                        content  \n",
       "11                       animated                          quiet  \n",
       "12                       spirited                        certain  \n",
       "13                       thrilled                        relaxed  \n",
       "14                      wonderful                         serene  \n",
       "15                            NaN                  free and easy  \n",
       "16                            NaN                         bright  \n",
       "17                            NaN                        blessed  \n",
       "18                            NaN                      reassured  \n",
       "19                            NaN                            NaN  \n",
       "20                            NaN                            NaN  \n",
       "21                            NaN                            NaN  \n",
       "22                       POSITIVE                         STRONG  \n",
       "23                          eager                      impulsive  \n",
       "24                           keen                           free  \n",
       "25                        earnest                           sure  \n",
       "26                         intent                        certain  \n",
       "27                        anxious                     rebellious  \n",
       "28                       inspired                         unique  \n",
       "29                     determined                        dynamic  \n",
       "30                        excited                      tenacious  \n",
       "31                   enthusiastic                          hardy  \n",
       "32                           bold                         secure  \n",
       "33                          brave                            NaN  \n",
       "34                         daring                            NaN  \n",
       "35                     challenged                            NaN  \n",
       "36                     optimistic                            NaN  \n",
       "37                    re-enforced                            NaN  \n",
       "38                      confident                            NaN  \n",
       "39                        hopeful                            NaN  \n",
       "40                            NaN                            NaN  \n",
       "41  Difficult/Unpleasant Feelings  Difficult/Unpleasant Feelings  \n",
       "42                       CONFUSED                       HELPLESS  \n",
       "43                          upset                      incapable  \n",
       "44                       doubtful                          alone  \n",
       "45                      uncertain                      paralyzed  \n",
       "46                     indecisive                       fatigued  \n",
       "47                      perplexed                        useless  \n",
       "48                    embarrassed                       inferior  \n",
       "49                       hesitant                     vulnerable  "
      ]
     },
     "execution_count": 14,
     "metadata": {},
     "output_type": "execute_result"
    }
   ],
   "source": [
    "feeling_words.head(50)"
   ]
  },
  {
   "cell_type": "markdown",
   "metadata": {},
   "source": [
    "### Time to reconstruct the dataframe 🤪"
   ]
  },
  {
   "cell_type": "markdown",
   "metadata": {},
   "source": [
    "First, change the column names."
   ]
  },
  {
   "cell_type": "code",
   "execution_count": 15,
   "metadata": {},
   "outputs": [],
   "source": [
    "feeling_words.columns = ['columnOne','columnTwo','columnThree','columnFour']"
   ]
  },
  {
   "cell_type": "code",
   "execution_count": 16,
   "metadata": {},
   "outputs": [
    {
     "data": {
      "text/html": [
       "<div>\n",
       "<style scoped>\n",
       "    .dataframe tbody tr th:only-of-type {\n",
       "        vertical-align: middle;\n",
       "    }\n",
       "\n",
       "    .dataframe tbody tr th {\n",
       "        vertical-align: top;\n",
       "    }\n",
       "\n",
       "    .dataframe thead th {\n",
       "        text-align: right;\n",
       "    }\n",
       "</style>\n",
       "<table border=\"1\" class=\"dataframe\">\n",
       "  <thead>\n",
       "    <tr style=\"text-align: right;\">\n",
       "      <th></th>\n",
       "      <th>columnOne</th>\n",
       "      <th>columnTwo</th>\n",
       "      <th>columnThree</th>\n",
       "      <th>columnFour</th>\n",
       "    </tr>\n",
       "  </thead>\n",
       "  <tbody>\n",
       "    <tr>\n",
       "      <th>0</th>\n",
       "      <td>Pleasant Feelings</td>\n",
       "      <td>Pleasant Feelings</td>\n",
       "      <td>Pleasant Feelings</td>\n",
       "      <td>Pleasant Feelings</td>\n",
       "    </tr>\n",
       "    <tr>\n",
       "      <th>1</th>\n",
       "      <td>OPEN</td>\n",
       "      <td>HAPPY</td>\n",
       "      <td>ALIVE</td>\n",
       "      <td>GOOD</td>\n",
       "    </tr>\n",
       "    <tr>\n",
       "      <th>2</th>\n",
       "      <td>understanding</td>\n",
       "      <td>great</td>\n",
       "      <td>playful</td>\n",
       "      <td>calm</td>\n",
       "    </tr>\n",
       "    <tr>\n",
       "      <th>3</th>\n",
       "      <td>confident</td>\n",
       "      <td>gay</td>\n",
       "      <td>courageous</td>\n",
       "      <td>peaceful</td>\n",
       "    </tr>\n",
       "    <tr>\n",
       "      <th>4</th>\n",
       "      <td>reliable</td>\n",
       "      <td>joyous</td>\n",
       "      <td>energetic</td>\n",
       "      <td>at ease</td>\n",
       "    </tr>\n",
       "  </tbody>\n",
       "</table>\n",
       "</div>"
      ],
      "text/plain": [
       "           columnOne          columnTwo        columnThree         columnFour\n",
       "0  Pleasant Feelings  Pleasant Feelings  Pleasant Feelings  Pleasant Feelings\n",
       "1               OPEN              HAPPY              ALIVE               GOOD\n",
       "2      understanding              great            playful               calm\n",
       "3          confident                gay         courageous           peaceful\n",
       "4           reliable             joyous          energetic            at ease"
      ]
     },
     "execution_count": 16,
     "metadata": {},
     "output_type": "execute_result"
    }
   ],
   "source": [
    "feeling_words.head()"
   ]
  },
  {
   "cell_type": "markdown",
   "metadata": {},
   "source": [
    "Second, create seperate lists of each column."
   ]
  },
  {
   "cell_type": "code",
   "execution_count": 17,
   "metadata": {},
   "outputs": [],
   "source": [
    "word_list1 = list(feeling_words.columnOne)"
   ]
  },
  {
   "cell_type": "code",
   "execution_count": 18,
   "metadata": {},
   "outputs": [],
   "source": [
    "#checked the list of words. We're good to proceed to the next column! 😉\n",
    "#word_list1"
   ]
  },
  {
   "cell_type": "code",
   "execution_count": 19,
   "metadata": {},
   "outputs": [],
   "source": [
    "word_list2 = list(feeling_words.columnTwo)"
   ]
  },
  {
   "cell_type": "code",
   "execution_count": 20,
   "metadata": {},
   "outputs": [],
   "source": [
    "word_list3 = list(feeling_words.columnThree)"
   ]
  },
  {
   "cell_type": "code",
   "execution_count": 21,
   "metadata": {},
   "outputs": [],
   "source": [
    "word_list4 = list(feeling_words.columnFour)"
   ]
  },
  {
   "cell_type": "markdown",
   "metadata": {},
   "source": [
    "Third, remove category words from each list before combining all lists."
   ]
  },
  {
   "cell_type": "code",
   "execution_count": 22,
   "metadata": {},
   "outputs": [],
   "source": [
    "#Looking at the words in list\n",
    "#word_list1"
   ]
  },
  {
   "cell_type": "code",
   "execution_count": 23,
   "metadata": {},
   "outputs": [],
   "source": [
    "word_list1.remove('Pleasant Feelings')\n",
    "word_list1.remove('OPEN')\n",
    "word_list1.remove('LOVE')\n",
    "word_list1.remove('Difficult/Unpleasant Feelings')\n",
    "word_list1.remove('ANGRY')\n",
    "word_list1.remove('INDIFFERENT')"
   ]
  },
  {
   "cell_type": "code",
   "execution_count": 24,
   "metadata": {},
   "outputs": [],
   "source": [
    "#checking to see if .remove worked. Hooray! 👍🏻\n",
    "#word_list1"
   ]
  },
  {
   "cell_type": "code",
   "execution_count": 25,
   "metadata": {},
   "outputs": [],
   "source": [
    "#Looking at the words in list\n",
    "#word_list2"
   ]
  },
  {
   "cell_type": "code",
   "execution_count": 26,
   "metadata": {},
   "outputs": [],
   "source": [
    "word_list2.remove('Pleasant Feelings')\n",
    "word_list2.remove('HAPPY')\n",
    "word_list2.remove('INTERESTED')\n",
    "word_list2.remove('Difficult/Unpleasant Feelings')\n",
    "word_list2.remove('DEPRESSED')\n",
    "word_list2.remove('AFRAID')"
   ]
  },
  {
   "cell_type": "code",
   "execution_count": 27,
   "metadata": {},
   "outputs": [],
   "source": [
    "#checking to see if .remove worked.\n",
    "#word_list2"
   ]
  },
  {
   "cell_type": "code",
   "execution_count": 28,
   "metadata": {},
   "outputs": [],
   "source": [
    "#Looking at the words in list\n",
    "#word_list3"
   ]
  },
  {
   "cell_type": "code",
   "execution_count": 29,
   "metadata": {},
   "outputs": [],
   "source": [
    "word_list3.remove('Pleasant Feelings')\n",
    "word_list3.remove('ALIVE')\n",
    "word_list3.remove('POSITIVE')\n",
    "word_list3.remove('Difficult/Unpleasant Feelings')\n",
    "word_list3.remove('CONFUSED')\n",
    "word_list3.remove('HURT')"
   ]
  },
  {
   "cell_type": "code",
   "execution_count": 30,
   "metadata": {},
   "outputs": [],
   "source": [
    "#checking to see if .remove worked.\n",
    "#word_list3"
   ]
  },
  {
   "cell_type": "code",
   "execution_count": 31,
   "metadata": {},
   "outputs": [],
   "source": [
    "#Looking at the words in list\n",
    "#word_list4"
   ]
  },
  {
   "cell_type": "code",
   "execution_count": 32,
   "metadata": {},
   "outputs": [],
   "source": [
    "word_list4.remove('Pleasant Feelings')\n",
    "word_list4.remove('GOOD')\n",
    "word_list4.remove('STRONG')\n",
    "word_list4.remove('Difficult/Unpleasant Feelings')\n",
    "word_list4.remove('HELPLESS')\n",
    "word_list4.remove('SAD')"
   ]
  },
  {
   "cell_type": "code",
   "execution_count": 33,
   "metadata": {},
   "outputs": [],
   "source": [
    "#checking to see if .remove worked.\n",
    "#word_list4"
   ]
  },
  {
   "cell_type": "markdown",
   "metadata": {},
   "source": [
    "Fourth, remove NaN values from each list ✂️"
   ]
  },
  {
   "cell_type": "code",
   "execution_count": 34,
   "metadata": {},
   "outputs": [],
   "source": [
    "new_word_list1 = [x for x in word_list1 if pd.isnull(x) == False]\n",
    "#new_word_list1 Checking to see if all non NaN values were added to the new list."
   ]
  },
  {
   "cell_type": "code",
   "execution_count": 35,
   "metadata": {},
   "outputs": [],
   "source": [
    "new_word_list2 = [x for x in word_list2 if pd.isnull(x) == False]\n",
    "#new_word_list2 Checking to see if all non NaN values were added to the new list."
   ]
  },
  {
   "cell_type": "code",
   "execution_count": 36,
   "metadata": {},
   "outputs": [],
   "source": [
    "new_word_list3 = [x for x in word_list3 if pd.isnull(x) == False]\n",
    "#new_word_list3 Checking to see if all non NaN values were added to the new list."
   ]
  },
  {
   "cell_type": "code",
   "execution_count": 37,
   "metadata": {},
   "outputs": [],
   "source": [
    "new_word_list4 = [x for x in word_list4 if pd.isnull(x) == False]\n",
    "#new_word_list4 Checking to see if all non NaN values were added to the new list."
   ]
  },
  {
   "cell_type": "code",
   "execution_count": null,
   "metadata": {},
   "outputs": [],
   "source": []
  }
 ],
 "metadata": {
  "kernelspec": {
   "display_name": "Python 3",
   "language": "python",
   "name": "python3"
  },
  "language_info": {
   "codemirror_mode": {
    "name": "ipython",
    "version": 3
   },
   "file_extension": ".py",
   "mimetype": "text/x-python",
   "name": "python",
   "nbconvert_exporter": "python",
   "pygments_lexer": "ipython3",
   "version": "3.8.3"
  }
 },
 "nbformat": 4,
 "nbformat_minor": 4
}
