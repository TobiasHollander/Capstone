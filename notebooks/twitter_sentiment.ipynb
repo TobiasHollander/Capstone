{
 "cells": [
  {
   "cell_type": "code",
   "execution_count": 1,
   "metadata": {},
   "outputs": [],
   "source": [
    "import pandas as pd\n",
    "import numpy as np\n",
    "import matplotlib.pyplot as plt\n",
    "import seaborn as sns\n",
    "\n",
    "%matplotlib inline"
   ]
  },
  {
   "cell_type": "code",
   "execution_count": 2,
   "metadata": {},
   "outputs": [],
   "source": [
    "feeling_words = pd.read_csv('../data/feeling_words')"
   ]
  },
  {
   "cell_type": "code",
   "execution_count": 3,
   "metadata": {},
   "outputs": [],
   "source": [
    "twitter_tweets = pd.read_csv('../data/twitter_tweets', engine='python')"
   ]
  },
  {
   "cell_type": "markdown",
   "metadata": {},
   "source": [
    "### Checking out the dataframes 👀"
   ]
  },
  {
   "cell_type": "code",
   "execution_count": 4,
   "metadata": {},
   "outputs": [
    {
     "data": {
      "text/html": [
       "<div>\n",
       "<style scoped>\n",
       "    .dataframe tbody tr th:only-of-type {\n",
       "        vertical-align: middle;\n",
       "    }\n",
       "\n",
       "    .dataframe tbody tr th {\n",
       "        vertical-align: top;\n",
       "    }\n",
       "\n",
       "    .dataframe thead th {\n",
       "        text-align: right;\n",
       "    }\n",
       "</style>\n",
       "<table border=\"1\" class=\"dataframe\">\n",
       "  <thead>\n",
       "    <tr style=\"text-align: right;\">\n",
       "      <th></th>\n",
       "      <th>words</th>\n",
       "      <th>sub_category</th>\n",
       "      <th>main_category</th>\n",
       "    </tr>\n",
       "  </thead>\n",
       "  <tbody>\n",
       "    <tr>\n",
       "      <th>0</th>\n",
       "      <td>shy</td>\n",
       "      <td>confused</td>\n",
       "      <td>unpleasant</td>\n",
       "    </tr>\n",
       "    <tr>\n",
       "      <th>1</th>\n",
       "      <td>afflicted</td>\n",
       "      <td>hurt</td>\n",
       "      <td>unpleasant</td>\n",
       "    </tr>\n",
       "    <tr>\n",
       "      <th>2</th>\n",
       "      <td>vulnerable</td>\n",
       "      <td>helpless</td>\n",
       "      <td>unpleasant</td>\n",
       "    </tr>\n",
       "    <tr>\n",
       "      <th>3</th>\n",
       "      <td>fascinated</td>\n",
       "      <td>interested</td>\n",
       "      <td>pleasant</td>\n",
       "    </tr>\n",
       "    <tr>\n",
       "      <th>4</th>\n",
       "      <td>certain</td>\n",
       "      <td>good/strong</td>\n",
       "      <td>pleasant</td>\n",
       "    </tr>\n",
       "  </tbody>\n",
       "</table>\n",
       "</div>"
      ],
      "text/plain": [
       "        words sub_category main_category\n",
       "0         shy     confused    unpleasant\n",
       "1   afflicted         hurt    unpleasant\n",
       "2  vulnerable     helpless    unpleasant\n",
       "3  fascinated   interested      pleasant\n",
       "4     certain  good/strong      pleasant"
      ]
     },
     "execution_count": 4,
     "metadata": {},
     "output_type": "execute_result"
    }
   ],
   "source": [
    "feeling_words.head()"
   ]
  },
  {
   "cell_type": "code",
   "execution_count": 5,
   "metadata": {},
   "outputs": [
    {
     "data": {
      "text/html": [
       "<div>\n",
       "<style scoped>\n",
       "    .dataframe tbody tr th:only-of-type {\n",
       "        vertical-align: middle;\n",
       "    }\n",
       "\n",
       "    .dataframe tbody tr th {\n",
       "        vertical-align: top;\n",
       "    }\n",
       "\n",
       "    .dataframe thead th {\n",
       "        text-align: right;\n",
       "    }\n",
       "</style>\n",
       "<table border=\"1\" class=\"dataframe\">\n",
       "  <thead>\n",
       "    <tr style=\"text-align: right;\">\n",
       "      <th></th>\n",
       "      <th>words</th>\n",
       "      <th>sub_category</th>\n",
       "      <th>main_category</th>\n",
       "    </tr>\n",
       "  </thead>\n",
       "  <tbody>\n",
       "    <tr>\n",
       "      <th>235</th>\n",
       "      <td>comforted</td>\n",
       "      <td>love</td>\n",
       "      <td>pleasant</td>\n",
       "    </tr>\n",
       "    <tr>\n",
       "      <th>236</th>\n",
       "      <td>doubtful</td>\n",
       "      <td>afraid/confused</td>\n",
       "      <td>unpleasant</td>\n",
       "    </tr>\n",
       "    <tr>\n",
       "      <th>237</th>\n",
       "      <td>alone</td>\n",
       "      <td>helpless</td>\n",
       "      <td>unpleasant</td>\n",
       "    </tr>\n",
       "    <tr>\n",
       "      <th>238</th>\n",
       "      <td>gay</td>\n",
       "      <td>happy</td>\n",
       "      <td>pleasant</td>\n",
       "    </tr>\n",
       "    <tr>\n",
       "      <th>239</th>\n",
       "      <td>keen</td>\n",
       "      <td>positive</td>\n",
       "      <td>pleasant</td>\n",
       "    </tr>\n",
       "  </tbody>\n",
       "</table>\n",
       "</div>"
      ],
      "text/plain": [
       "         words     sub_category main_category\n",
       "235  comforted             love      pleasant\n",
       "236   doubtful  afraid/confused    unpleasant\n",
       "237      alone         helpless    unpleasant\n",
       "238        gay            happy      pleasant\n",
       "239       keen         positive      pleasant"
      ]
     },
     "execution_count": 5,
     "metadata": {},
     "output_type": "execute_result"
    }
   ],
   "source": [
    "feeling_words.tail()"
   ]
  },
  {
   "cell_type": "code",
   "execution_count": 6,
   "metadata": {},
   "outputs": [
    {
     "data": {
      "text/plain": [
       "(240, 3)"
      ]
     },
     "execution_count": 6,
     "metadata": {},
     "output_type": "execute_result"
    }
   ],
   "source": [
    "feeling_words.shape"
   ]
  },
  {
   "cell_type": "code",
   "execution_count": 7,
   "metadata": {},
   "outputs": [
    {
     "name": "stdout",
     "output_type": "stream",
     "text": [
      "<class 'pandas.core.frame.DataFrame'>\n",
      "RangeIndex: 240 entries, 0 to 239\n",
      "Data columns (total 3 columns):\n",
      " #   Column         Non-Null Count  Dtype \n",
      "---  ------         --------------  ----- \n",
      " 0   words          240 non-null    object\n",
      " 1   sub_category   240 non-null    object\n",
      " 2   main_category  240 non-null    object\n",
      "dtypes: object(3)\n",
      "memory usage: 5.8+ KB\n"
     ]
    }
   ],
   "source": [
    "feeling_words.info()"
   ]
  },
  {
   "cell_type": "code",
   "execution_count": 8,
   "metadata": {},
   "outputs": [
    {
     "data": {
      "text/html": [
       "<div>\n",
       "<style scoped>\n",
       "    .dataframe tbody tr th:only-of-type {\n",
       "        vertical-align: middle;\n",
       "    }\n",
       "\n",
       "    .dataframe tbody tr th {\n",
       "        vertical-align: top;\n",
       "    }\n",
       "\n",
       "    .dataframe thead th {\n",
       "        text-align: right;\n",
       "    }\n",
       "</style>\n",
       "<table border=\"1\" class=\"dataframe\">\n",
       "  <thead>\n",
       "    <tr style=\"text-align: right;\">\n",
       "      <th></th>\n",
       "      <th>id</th>\n",
       "      <th>created_at</th>\n",
       "      <th>text</th>\n",
       "      <th>retweet_count</th>\n",
       "      <th>reply_count</th>\n",
       "      <th>like_count</th>\n",
       "      <th>quote_count</th>\n",
       "      <th>date</th>\n",
       "      <th>time</th>\n",
       "    </tr>\n",
       "  </thead>\n",
       "  <tbody>\n",
       "    <tr>\n",
       "      <th>0</th>\n",
       "      <td>1384122103977316355</td>\n",
       "      <td>2021-04-19T12:29:59.000Z</td>\n",
       "      <td>@Sportyfreak2005 ISL played an huge role in de...</td>\n",
       "      <td>0.0</td>\n",
       "      <td>0.0</td>\n",
       "      <td>1</td>\n",
       "      <td>0</td>\n",
       "      <td>2021-04-19</td>\n",
       "      <td>12:29:59.000Z</td>\n",
       "    </tr>\n",
       "    <tr>\n",
       "      <th>1</th>\n",
       "      <td>1384122103918596098</td>\n",
       "      <td>2021-04-19T12:29:59.000Z</td>\n",
       "      <td>@O_ssai @AyoOyalowo Was having a conversation ...</td>\n",
       "      <td>0.0</td>\n",
       "      <td>1.0</td>\n",
       "      <td>7</td>\n",
       "      <td>0</td>\n",
       "      <td>2021-04-19</td>\n",
       "      <td>12:29:59.000Z</td>\n",
       "    </tr>\n",
       "    <tr>\n",
       "      <th>2</th>\n",
       "      <td>1384122103897546760</td>\n",
       "      <td>2021-04-19T12:29:59.000Z</td>\n",
       "      <td>@Aventonio @GoonerJel_LDN To us it will mean w...</td>\n",
       "      <td>0.0</td>\n",
       "      <td>0.0</td>\n",
       "      <td>1</td>\n",
       "      <td>0</td>\n",
       "      <td>2021-04-19</td>\n",
       "      <td>12:29:59.000Z</td>\n",
       "    </tr>\n",
       "    <tr>\n",
       "      <th>3</th>\n",
       "      <td>1384122103876648967</td>\n",
       "      <td>2021-04-19T12:29:59.000Z</td>\n",
       "      <td>Money stop nonsense is the main reason why mos...</td>\n",
       "      <td>1.0</td>\n",
       "      <td>0.0</td>\n",
       "      <td>2</td>\n",
       "      <td>0</td>\n",
       "      <td>2021-04-19</td>\n",
       "      <td>12:29:59.000Z</td>\n",
       "    </tr>\n",
       "    <tr>\n",
       "      <th>4</th>\n",
       "      <td>1384122103863996422</td>\n",
       "      <td>2021-04-19T12:29:59.000Z</td>\n",
       "      <td>Watching PMs speech right now and honestly it'...</td>\n",
       "      <td>2.0</td>\n",
       "      <td>0.0</td>\n",
       "      <td>2</td>\n",
       "      <td>0</td>\n",
       "      <td>2021-04-19</td>\n",
       "      <td>12:29:59.000Z</td>\n",
       "    </tr>\n",
       "  </tbody>\n",
       "</table>\n",
       "</div>"
      ],
      "text/plain": [
       "                    id                created_at  \\\n",
       "0  1384122103977316355  2021-04-19T12:29:59.000Z   \n",
       "1  1384122103918596098  2021-04-19T12:29:59.000Z   \n",
       "2  1384122103897546760  2021-04-19T12:29:59.000Z   \n",
       "3  1384122103876648967  2021-04-19T12:29:59.000Z   \n",
       "4  1384122103863996422  2021-04-19T12:29:59.000Z   \n",
       "\n",
       "                                                text  retweet_count  \\\n",
       "0  @Sportyfreak2005 ISL played an huge role in de...            0.0   \n",
       "1  @O_ssai @AyoOyalowo Was having a conversation ...            0.0   \n",
       "2  @Aventonio @GoonerJel_LDN To us it will mean w...            0.0   \n",
       "3  Money stop nonsense is the main reason why mos...            1.0   \n",
       "4  Watching PMs speech right now and honestly it'...            2.0   \n",
       "\n",
       "   reply_count like_count quote_count        date           time  \n",
       "0          0.0          1           0  2021-04-19  12:29:59.000Z  \n",
       "1          1.0          7           0  2021-04-19  12:29:59.000Z  \n",
       "2          0.0          1           0  2021-04-19  12:29:59.000Z  \n",
       "3          0.0          2           0  2021-04-19  12:29:59.000Z  \n",
       "4          0.0          2           0  2021-04-19  12:29:59.000Z  "
      ]
     },
     "execution_count": 8,
     "metadata": {},
     "output_type": "execute_result"
    }
   ],
   "source": [
    "twitter_tweets.head()"
   ]
  },
  {
   "cell_type": "code",
   "execution_count": 9,
   "metadata": {},
   "outputs": [
    {
     "data": {
      "text/html": [
       "<div>\n",
       "<style scoped>\n",
       "    .dataframe tbody tr th:only-of-type {\n",
       "        vertical-align: middle;\n",
       "    }\n",
       "\n",
       "    .dataframe tbody tr th {\n",
       "        vertical-align: top;\n",
       "    }\n",
       "\n",
       "    .dataframe thead th {\n",
       "        text-align: right;\n",
       "    }\n",
       "</style>\n",
       "<table border=\"1\" class=\"dataframe\">\n",
       "  <thead>\n",
       "    <tr style=\"text-align: right;\">\n",
       "      <th></th>\n",
       "      <th>id</th>\n",
       "      <th>created_at</th>\n",
       "      <th>text</th>\n",
       "      <th>retweet_count</th>\n",
       "      <th>reply_count</th>\n",
       "      <th>like_count</th>\n",
       "      <th>quote_count</th>\n",
       "      <th>date</th>\n",
       "      <th>time</th>\n",
       "    </tr>\n",
       "  </thead>\n",
       "  <tbody>\n",
       "    <tr>\n",
       "      <th>25007</th>\n",
       "      <td>1384121583128571912</td>\n",
       "      <td>2021-04-19T12:27:55.000Z</td>\n",
       "      <td>Beware the fallout of America’s exit from Afgh...</td>\n",
       "      <td>0.0</td>\n",
       "      <td>0.0</td>\n",
       "      <td>0</td>\n",
       "      <td>0</td>\n",
       "      <td>2021-04-19</td>\n",
       "      <td>12:27:55.000Z</td>\n",
       "    </tr>\n",
       "    <tr>\n",
       "      <th>25008</th>\n",
       "      <td>1384121583124434944</td>\n",
       "      <td>2021-04-19T12:27:55.000Z</td>\n",
       "      <td>In MyinGyan, there are 4 death,4 in critical c...</td>\n",
       "      <td>0.0</td>\n",
       "      <td>0.0</td>\n",
       "      <td>0</td>\n",
       "      <td>0</td>\n",
       "      <td>2021-04-19</td>\n",
       "      <td>12:27:55.000Z</td>\n",
       "    </tr>\n",
       "    <tr>\n",
       "      <th>25009</th>\n",
       "      <td>1384121583053144066</td>\n",
       "      <td>2021-04-19T12:27:55.000Z</td>\n",
       "      <td>no motherfucker if YOU want to MAKE a sequel, ...</td>\n",
       "      <td>0.0</td>\n",
       "      <td>0.0</td>\n",
       "      <td>0</td>\n",
       "      <td>0</td>\n",
       "      <td>2021-04-19</td>\n",
       "      <td>12:27:55.000Z</td>\n",
       "    </tr>\n",
       "    <tr>\n",
       "      <th>25010</th>\n",
       "      <td>1384121583015317514</td>\n",
       "      <td>2021-04-19T12:27:55.000Z</td>\n",
       "      <td>Way past his 15 minutes of fame. https://t.co/...</td>\n",
       "      <td>0.0</td>\n",
       "      <td>0.0</td>\n",
       "      <td>0</td>\n",
       "      <td>0</td>\n",
       "      <td>2021-04-19</td>\n",
       "      <td>12:27:55.000Z</td>\n",
       "    </tr>\n",
       "    <tr>\n",
       "      <th>25011</th>\n",
       "      <td>1384121582994432011</td>\n",
       "      <td>2021-04-19T12:27:55.000Z</td>\n",
       "      <td>Wednesday to the moon 🌝🚀 #Safemoon https://t.c...</td>\n",
       "      <td>9.0</td>\n",
       "      <td>1.0</td>\n",
       "      <td>26</td>\n",
       "      <td>0</td>\n",
       "      <td>2021-04-19</td>\n",
       "      <td>12:27:55.000Z</td>\n",
       "    </tr>\n",
       "  </tbody>\n",
       "</table>\n",
       "</div>"
      ],
      "text/plain": [
       "                        id                created_at  \\\n",
       "25007  1384121583128571912  2021-04-19T12:27:55.000Z   \n",
       "25008  1384121583124434944  2021-04-19T12:27:55.000Z   \n",
       "25009  1384121583053144066  2021-04-19T12:27:55.000Z   \n",
       "25010  1384121583015317514  2021-04-19T12:27:55.000Z   \n",
       "25011  1384121582994432011  2021-04-19T12:27:55.000Z   \n",
       "\n",
       "                                                    text  retweet_count  \\\n",
       "25007  Beware the fallout of America’s exit from Afgh...            0.0   \n",
       "25008  In MyinGyan, there are 4 death,4 in critical c...            0.0   \n",
       "25009  no motherfucker if YOU want to MAKE a sequel, ...            0.0   \n",
       "25010  Way past his 15 minutes of fame. https://t.co/...            0.0   \n",
       "25011  Wednesday to the moon 🌝🚀 #Safemoon https://t.c...            9.0   \n",
       "\n",
       "       reply_count like_count quote_count        date           time  \n",
       "25007          0.0          0           0  2021-04-19  12:27:55.000Z  \n",
       "25008          0.0          0           0  2021-04-19  12:27:55.000Z  \n",
       "25009          0.0          0           0  2021-04-19  12:27:55.000Z  \n",
       "25010          0.0          0           0  2021-04-19  12:27:55.000Z  \n",
       "25011          1.0         26           0  2021-04-19  12:27:55.000Z  "
      ]
     },
     "execution_count": 9,
     "metadata": {},
     "output_type": "execute_result"
    }
   ],
   "source": [
    "twitter_tweets.tail()"
   ]
  },
  {
   "cell_type": "code",
   "execution_count": 10,
   "metadata": {},
   "outputs": [
    {
     "data": {
      "text/plain": [
       "(25012, 9)"
      ]
     },
     "execution_count": 10,
     "metadata": {},
     "output_type": "execute_result"
    }
   ],
   "source": [
    "twitter_tweets.shape"
   ]
  },
  {
   "cell_type": "code",
   "execution_count": 11,
   "metadata": {},
   "outputs": [
    {
     "name": "stdout",
     "output_type": "stream",
     "text": [
      "<class 'pandas.core.frame.DataFrame'>\n",
      "RangeIndex: 25012 entries, 0 to 25011\n",
      "Data columns (total 9 columns):\n",
      " #   Column         Non-Null Count  Dtype  \n",
      "---  ------         --------------  -----  \n",
      " 0   id             25012 non-null  object \n",
      " 1   created_at     25011 non-null  object \n",
      " 2   text           25011 non-null  object \n",
      " 3   retweet_count  25010 non-null  float64\n",
      " 4   reply_count    25010 non-null  float64\n",
      " 5   like_count     25010 non-null  object \n",
      " 6   quote_count    25010 non-null  object \n",
      " 7   date           25009 non-null  object \n",
      " 8   time           25009 non-null  object \n",
      "dtypes: float64(2), object(7)\n",
      "memory usage: 1.7+ MB\n"
     ]
    }
   ],
   "source": [
    "twitter_tweets.info()"
   ]
  },
  {
   "cell_type": "code",
   "execution_count": 12,
   "metadata": {},
   "outputs": [
    {
     "data": {
      "text/plain": [
       "id               0\n",
       "created_at       1\n",
       "text             1\n",
       "retweet_count    2\n",
       "reply_count      2\n",
       "like_count       2\n",
       "quote_count      2\n",
       "date             3\n",
       "time             3\n",
       "dtype: int64"
      ]
     },
     "execution_count": 12,
     "metadata": {},
     "output_type": "execute_result"
    }
   ],
   "source": [
    "twitter_tweets.isnull().sum()"
   ]
  },
  {
   "cell_type": "markdown",
   "metadata": {},
   "source": [
    "### Looking for the rows with NaN values 🤨"
   ]
  },
  {
   "cell_type": "code",
   "execution_count": 13,
   "metadata": {},
   "outputs": [
    {
     "data": {
      "text/html": [
       "<div>\n",
       "<style scoped>\n",
       "    .dataframe tbody tr th:only-of-type {\n",
       "        vertical-align: middle;\n",
       "    }\n",
       "\n",
       "    .dataframe tbody tr th {\n",
       "        vertical-align: top;\n",
       "    }\n",
       "\n",
       "    .dataframe thead th {\n",
       "        text-align: right;\n",
       "    }\n",
       "</style>\n",
       "<table border=\"1\" class=\"dataframe\">\n",
       "  <thead>\n",
       "    <tr style=\"text-align: right;\">\n",
       "      <th></th>\n",
       "      <th>id</th>\n",
       "      <th>created_at</th>\n",
       "      <th>text</th>\n",
       "      <th>retweet_count</th>\n",
       "      <th>reply_count</th>\n",
       "      <th>like_count</th>\n",
       "      <th>quote_count</th>\n",
       "      <th>date</th>\n",
       "      <th>time</th>\n",
       "    </tr>\n",
       "  </thead>\n",
       "  <tbody>\n",
       "    <tr>\n",
       "      <th>2752</th>\n",
       "      <td>1384122047689728004</td>\n",
       "      <td>2021-04-19T12:29:46.000Z</td>\n",
       "      <td>What state is home to an area known as the Res...</td>\n",
       "      <td>NaN</td>\n",
       "      <td>NaN</td>\n",
       "      <td>None</td>\n",
       "      <td>None</td>\n",
       "      <td>None</td>\n",
       "      <td>None</td>\n",
       "    </tr>\n",
       "    <tr>\n",
       "      <th>2753</th>\n",
       "      <td>Join me on Travel Trivia!</td>\n",
       "      <td>None</td>\n",
       "      <td>None</td>\n",
       "      <td>NaN</td>\n",
       "      <td>NaN</td>\n",
       "      <td>None</td>\n",
       "      <td>None</td>\n",
       "      <td>None</td>\n",
       "      <td>None</td>\n",
       "    </tr>\n",
       "    <tr>\n",
       "      <th>2754</th>\n",
       "      <td>https://t.co/SywEbpPDYk</td>\n",
       "      <td>0</td>\n",
       "      <td>0</td>\n",
       "      <td>0.0</td>\n",
       "      <td>0.0</td>\n",
       "      <td>2021-04-19</td>\n",
       "      <td>12:29:46.000Z</td>\n",
       "      <td>None</td>\n",
       "      <td>None</td>\n",
       "    </tr>\n",
       "  </tbody>\n",
       "</table>\n",
       "</div>"
      ],
      "text/plain": [
       "                             id                created_at  \\\n",
       "2752        1384122047689728004  2021-04-19T12:29:46.000Z   \n",
       "2753  Join me on Travel Trivia!                      None   \n",
       "2754    https://t.co/SywEbpPDYk                         0   \n",
       "\n",
       "                                                   text  retweet_count  \\\n",
       "2752  What state is home to an area known as the Res...            NaN   \n",
       "2753                                               None            NaN   \n",
       "2754                                                  0            0.0   \n",
       "\n",
       "      reply_count  like_count    quote_count  date  time  \n",
       "2752          NaN        None           None  None  None  \n",
       "2753          NaN        None           None  None  None  \n",
       "2754          0.0  2021-04-19  12:29:46.000Z  None  None  "
      ]
     },
     "execution_count": 13,
     "metadata": {},
     "output_type": "execute_result"
    }
   ],
   "source": [
    "nan_value = twitter_tweets.isnull()\n",
    "row_nan = nan_value.any(axis=1)\n",
    "rows_with_nan = twitter_tweets[row_nan]\n",
    "rows_with_nan"
   ]
  },
  {
   "cell_type": "markdown",
   "metadata": {},
   "source": [
    "#### A row in the dataframe was parsed incorrectly into three rows of gibberish  👁 👄 👁\n",
    "Checking out where the parse went wrong 😅"
   ]
  },
  {
   "cell_type": "code",
   "execution_count": 14,
   "metadata": {},
   "outputs": [
    {
     "data": {
      "text/plain": [
       "'What state is home to an area known as the Research Triangle? '"
      ]
     },
     "execution_count": 14,
     "metadata": {},
     "output_type": "execute_result"
    }
   ],
   "source": [
    "twitter_tweets.text[2752]"
   ]
  },
  {
   "cell_type": "code",
   "execution_count": 15,
   "metadata": {},
   "outputs": [
    {
     "data": {
      "text/plain": [
       "'Join me on Travel Trivia!'"
      ]
     },
     "execution_count": 15,
     "metadata": {},
     "output_type": "execute_result"
    }
   ],
   "source": [
    "twitter_tweets.id[2753]"
   ]
  },
  {
   "cell_type": "code",
   "execution_count": 16,
   "metadata": {},
   "outputs": [
    {
     "data": {
      "text/plain": [
       "' https://t.co/SywEbpPDYk'"
      ]
     },
     "execution_count": 16,
     "metadata": {},
     "output_type": "execute_result"
    }
   ],
   "source": [
    "twitter_tweets.id[2754]"
   ]
  },
  {
   "cell_type": "code",
   "execution_count": 17,
   "metadata": {},
   "outputs": [],
   "source": [
    "#replacing the value in the text column for index 2752.\n",
    "twitter_tweets.loc[(twitter_tweets.text == 'What state is home to an area known as the Research Triangle? '),'text']='What state is home to an area known as the Research Triangle? Join me on Travel Trivia! https://t.co/SywEbpPDYk'"
   ]
  },
  {
   "cell_type": "code",
   "execution_count": 18,
   "metadata": {},
   "outputs": [
    {
     "data": {
      "text/plain": [
       "'What state is home to an area known as the Research Triangle? Join me on Travel Trivia! https://t.co/SywEbpPDYk'"
      ]
     },
     "execution_count": 18,
     "metadata": {},
     "output_type": "execute_result"
    }
   ],
   "source": [
    "twitter_tweets.text[2752]"
   ]
  },
  {
   "cell_type": "code",
   "execution_count": 19,
   "metadata": {},
   "outputs": [],
   "source": [
    "twitter_tweets.loc[(twitter_tweets['date'] == 'None'),'date'] = '2021-04-19'"
   ]
  },
  {
   "cell_type": "code",
   "execution_count": 20,
   "metadata": {},
   "outputs": [
    {
     "name": "stdout",
     "output_type": "stream",
     "text": [
      "<class 'NoneType'>\n"
     ]
    }
   ],
   "source": [
    "print(type(twitter_tweets['date'][2752]))"
   ]
  },
  {
   "cell_type": "markdown",
   "metadata": {},
   "source": [
    "👁 👄 👁 .. 何"
   ]
  },
  {
   "cell_type": "markdown",
   "metadata": {},
   "source": [
    "#### Changing the NoneType to a str...Noticed other columns with the NoneType as well."
   ]
  },
  {
   "cell_type": "code",
   "execution_count": 21,
   "metadata": {},
   "outputs": [],
   "source": [
    "date_list = ['None' if v is None else v for v in twitter_tweets['date']]"
   ]
  },
  {
   "cell_type": "code",
   "execution_count": 22,
   "metadata": {},
   "outputs": [
    {
     "data": {
      "text/plain": [
       "3"
      ]
     },
     "execution_count": 22,
     "metadata": {},
     "output_type": "execute_result"
    }
   ],
   "source": [
    "#checking for the change. Correct! Three values in the date column are null.\n",
    "date_list.count('None')"
   ]
  },
  {
   "cell_type": "code",
   "execution_count": 23,
   "metadata": {},
   "outputs": [],
   "source": [
    "twitter_tweets[['date']] = date_list"
   ]
  },
  {
   "cell_type": "code",
   "execution_count": 24,
   "metadata": {},
   "outputs": [
    {
     "data": {
      "text/plain": [
       "'None'"
      ]
     },
     "execution_count": 24,
     "metadata": {},
     "output_type": "execute_result"
    }
   ],
   "source": [
    "twitter_tweets['date'][2752]"
   ]
  },
  {
   "cell_type": "markdown",
   "metadata": {},
   "source": [
    "#### Let's change all the columns with NoneType values!"
   ]
  },
  {
   "cell_type": "code",
   "execution_count": 25,
   "metadata": {},
   "outputs": [],
   "source": [
    "like_count_list = ['None' if v is None else v for v in twitter_tweets['like_count']]"
   ]
  },
  {
   "cell_type": "code",
   "execution_count": 26,
   "metadata": {},
   "outputs": [],
   "source": [
    "quote_count_list = ['None' if v is None else v for v in twitter_tweets['quote_count']]"
   ]
  },
  {
   "cell_type": "code",
   "execution_count": 27,
   "metadata": {},
   "outputs": [],
   "source": [
    "time_list = ['None' if v is None else v for v in twitter_tweets['time']]"
   ]
  },
  {
   "cell_type": "code",
   "execution_count": 28,
   "metadata": {},
   "outputs": [
    {
     "data": {
      "text/plain": [
       "2"
      ]
     },
     "execution_count": 28,
     "metadata": {},
     "output_type": "execute_result"
    }
   ],
   "source": [
    "like_count_list.count('None')"
   ]
  },
  {
   "cell_type": "code",
   "execution_count": 29,
   "metadata": {},
   "outputs": [
    {
     "data": {
      "text/plain": [
       "2"
      ]
     },
     "execution_count": 29,
     "metadata": {},
     "output_type": "execute_result"
    }
   ],
   "source": [
    "quote_count_list.count('None')"
   ]
  },
  {
   "cell_type": "code",
   "execution_count": 30,
   "metadata": {},
   "outputs": [
    {
     "data": {
      "text/plain": [
       "3"
      ]
     },
     "execution_count": 30,
     "metadata": {},
     "output_type": "execute_result"
    }
   ],
   "source": [
    "time_list.count('None')"
   ]
  },
  {
   "cell_type": "markdown",
   "metadata": {},
   "source": [
    "#### Change the columns like_count, quote_count, & time_list  🔮"
   ]
  },
  {
   "cell_type": "code",
   "execution_count": 31,
   "metadata": {},
   "outputs": [],
   "source": [
    "twitter_tweets[['like_count']] = like_count_list"
   ]
  },
  {
   "cell_type": "code",
   "execution_count": 32,
   "metadata": {},
   "outputs": [],
   "source": [
    "twitter_tweets[['quote_count']] = quote_count_list"
   ]
  },
  {
   "cell_type": "code",
   "execution_count": 33,
   "metadata": {},
   "outputs": [],
   "source": [
    "twitter_tweets[['time']] = time_list"
   ]
  },
  {
   "cell_type": "markdown",
   "metadata": {},
   "source": [
    "#### Back to replacing values in row 2752."
   ]
  },
  {
   "cell_type": "code",
   "execution_count": 34,
   "metadata": {},
   "outputs": [],
   "source": [
    "twitter_tweets.loc[(twitter_tweets['date'] == 'None'),'date'] = '2021-04-19'"
   ]
  },
  {
   "cell_type": "code",
   "execution_count": 35,
   "metadata": {},
   "outputs": [
    {
     "data": {
      "text/plain": [
       "'2021-04-19'"
      ]
     },
     "execution_count": 35,
     "metadata": {},
     "output_type": "execute_result"
    }
   ],
   "source": [
    "twitter_tweets['date'][2752]"
   ]
  },
  {
   "cell_type": "code",
   "execution_count": 36,
   "metadata": {},
   "outputs": [],
   "source": [
    "twitter_tweets.loc[(twitter_tweets['time'] == 'None'),'time'] = '12:29:46.000Z'"
   ]
  },
  {
   "cell_type": "code",
   "execution_count": 37,
   "metadata": {},
   "outputs": [
    {
     "data": {
      "text/plain": [
       "'12:29:46.000Z'"
      ]
     },
     "execution_count": 37,
     "metadata": {},
     "output_type": "execute_result"
    }
   ],
   "source": [
    "twitter_tweets['time'][2752]"
   ]
  },
  {
   "cell_type": "code",
   "execution_count": 38,
   "metadata": {},
   "outputs": [],
   "source": [
    "twitter_tweets.loc[(twitter_tweets['like_count'] == 'None'),'like_count'] = 0"
   ]
  },
  {
   "cell_type": "code",
   "execution_count": 39,
   "metadata": {},
   "outputs": [
    {
     "data": {
      "text/plain": [
       "0"
      ]
     },
     "execution_count": 39,
     "metadata": {},
     "output_type": "execute_result"
    }
   ],
   "source": [
    "twitter_tweets['like_count'][2752]"
   ]
  },
  {
   "cell_type": "code",
   "execution_count": 40,
   "metadata": {},
   "outputs": [],
   "source": [
    "twitter_tweets.loc[(twitter_tweets['quote_count'] == 'None'),'quote_count'] = 0"
   ]
  },
  {
   "cell_type": "code",
   "execution_count": 41,
   "metadata": {},
   "outputs": [
    {
     "data": {
      "text/plain": [
       "0"
      ]
     },
     "execution_count": 41,
     "metadata": {},
     "output_type": "execute_result"
    }
   ],
   "source": [
    "twitter_tweets['quote_count'][2752]"
   ]
  },
  {
   "cell_type": "code",
   "execution_count": 42,
   "metadata": {},
   "outputs": [],
   "source": [
    "twitter_tweets[['retweet_count','reply_count']] = twitter_tweets[['retweet_count','reply_count']].fillna(0)"
   ]
  },
  {
   "cell_type": "code",
   "execution_count": 43,
   "metadata": {},
   "outputs": [
    {
     "data": {
      "text/plain": [
       "0.0"
      ]
     },
     "execution_count": 43,
     "metadata": {},
     "output_type": "execute_result"
    }
   ],
   "source": [
    "twitter_tweets['retweet_count'][2752]"
   ]
  },
  {
   "cell_type": "code",
   "execution_count": 44,
   "metadata": {},
   "outputs": [
    {
     "data": {
      "text/plain": [
       "0.0"
      ]
     },
     "execution_count": 44,
     "metadata": {},
     "output_type": "execute_result"
    }
   ],
   "source": [
    "twitter_tweets['reply_count'][2752]"
   ]
  },
  {
   "cell_type": "markdown",
   "metadata": {},
   "source": [
    "#### Perfect! the changes worked! Time to drop the unwanted rows ✂️"
   ]
  },
  {
   "cell_type": "code",
   "execution_count": 45,
   "metadata": {},
   "outputs": [],
   "source": [
    "twitter_tweets = twitter_tweets.drop(twitter_tweets.index[[2753,2754]])"
   ]
  },
  {
   "cell_type": "code",
   "execution_count": 47,
   "metadata": {},
   "outputs": [
    {
     "data": {
      "text/plain": [
       "(25010, 9)"
      ]
     },
     "execution_count": 47,
     "metadata": {},
     "output_type": "execute_result"
    }
   ],
   "source": [
    "twitter_tweets.shape"
   ]
  },
  {
   "cell_type": "markdown",
   "metadata": {},
   "source": [
    "#### Convert datatype for retweet_count & reply_count column."
   ]
  },
  {
   "cell_type": "code",
   "execution_count": 48,
   "metadata": {},
   "outputs": [],
   "source": [
    "convert_types = {\n",
    "    'retweet_count':int,\n",
    "    'reply_count':int,\n",
    "    'like_count':int,\n",
    "    'quote_count':int\n",
    "}"
   ]
  },
  {
   "cell_type": "code",
   "execution_count": 49,
   "metadata": {},
   "outputs": [
    {
     "data": {
      "text/html": [
       "<div>\n",
       "<style scoped>\n",
       "    .dataframe tbody tr th:only-of-type {\n",
       "        vertical-align: middle;\n",
       "    }\n",
       "\n",
       "    .dataframe tbody tr th {\n",
       "        vertical-align: top;\n",
       "    }\n",
       "\n",
       "    .dataframe thead th {\n",
       "        text-align: right;\n",
       "    }\n",
       "</style>\n",
       "<table border=\"1\" class=\"dataframe\">\n",
       "  <thead>\n",
       "    <tr style=\"text-align: right;\">\n",
       "      <th></th>\n",
       "      <th>id</th>\n",
       "      <th>created_at</th>\n",
       "      <th>text</th>\n",
       "      <th>retweet_count</th>\n",
       "      <th>reply_count</th>\n",
       "      <th>like_count</th>\n",
       "      <th>quote_count</th>\n",
       "      <th>date</th>\n",
       "      <th>time</th>\n",
       "    </tr>\n",
       "  </thead>\n",
       "  <tbody>\n",
       "    <tr>\n",
       "      <th>0</th>\n",
       "      <td>1384122103977316355</td>\n",
       "      <td>2021-04-19T12:29:59.000Z</td>\n",
       "      <td>@Sportyfreak2005 ISL played an huge role in de...</td>\n",
       "      <td>0</td>\n",
       "      <td>0</td>\n",
       "      <td>1</td>\n",
       "      <td>0</td>\n",
       "      <td>2021-04-19</td>\n",
       "      <td>12:29:59.000Z</td>\n",
       "    </tr>\n",
       "    <tr>\n",
       "      <th>1</th>\n",
       "      <td>1384122103918596098</td>\n",
       "      <td>2021-04-19T12:29:59.000Z</td>\n",
       "      <td>@O_ssai @AyoOyalowo Was having a conversation ...</td>\n",
       "      <td>0</td>\n",
       "      <td>1</td>\n",
       "      <td>7</td>\n",
       "      <td>0</td>\n",
       "      <td>2021-04-19</td>\n",
       "      <td>12:29:59.000Z</td>\n",
       "    </tr>\n",
       "    <tr>\n",
       "      <th>2</th>\n",
       "      <td>1384122103897546760</td>\n",
       "      <td>2021-04-19T12:29:59.000Z</td>\n",
       "      <td>@Aventonio @GoonerJel_LDN To us it will mean w...</td>\n",
       "      <td>0</td>\n",
       "      <td>0</td>\n",
       "      <td>1</td>\n",
       "      <td>0</td>\n",
       "      <td>2021-04-19</td>\n",
       "      <td>12:29:59.000Z</td>\n",
       "    </tr>\n",
       "    <tr>\n",
       "      <th>3</th>\n",
       "      <td>1384122103876648967</td>\n",
       "      <td>2021-04-19T12:29:59.000Z</td>\n",
       "      <td>Money stop nonsense is the main reason why mos...</td>\n",
       "      <td>1</td>\n",
       "      <td>0</td>\n",
       "      <td>2</td>\n",
       "      <td>0</td>\n",
       "      <td>2021-04-19</td>\n",
       "      <td>12:29:59.000Z</td>\n",
       "    </tr>\n",
       "    <tr>\n",
       "      <th>4</th>\n",
       "      <td>1384122103863996422</td>\n",
       "      <td>2021-04-19T12:29:59.000Z</td>\n",
       "      <td>Watching PMs speech right now and honestly it'...</td>\n",
       "      <td>2</td>\n",
       "      <td>0</td>\n",
       "      <td>2</td>\n",
       "      <td>0</td>\n",
       "      <td>2021-04-19</td>\n",
       "      <td>12:29:59.000Z</td>\n",
       "    </tr>\n",
       "    <tr>\n",
       "      <th>...</th>\n",
       "      <td>...</td>\n",
       "      <td>...</td>\n",
       "      <td>...</td>\n",
       "      <td>...</td>\n",
       "      <td>...</td>\n",
       "      <td>...</td>\n",
       "      <td>...</td>\n",
       "      <td>...</td>\n",
       "      <td>...</td>\n",
       "    </tr>\n",
       "    <tr>\n",
       "      <th>25007</th>\n",
       "      <td>1384121583128571912</td>\n",
       "      <td>2021-04-19T12:27:55.000Z</td>\n",
       "      <td>Beware the fallout of America’s exit from Afgh...</td>\n",
       "      <td>0</td>\n",
       "      <td>0</td>\n",
       "      <td>0</td>\n",
       "      <td>0</td>\n",
       "      <td>2021-04-19</td>\n",
       "      <td>12:27:55.000Z</td>\n",
       "    </tr>\n",
       "    <tr>\n",
       "      <th>25008</th>\n",
       "      <td>1384121583124434944</td>\n",
       "      <td>2021-04-19T12:27:55.000Z</td>\n",
       "      <td>In MyinGyan, there are 4 death,4 in critical c...</td>\n",
       "      <td>0</td>\n",
       "      <td>0</td>\n",
       "      <td>0</td>\n",
       "      <td>0</td>\n",
       "      <td>2021-04-19</td>\n",
       "      <td>12:27:55.000Z</td>\n",
       "    </tr>\n",
       "    <tr>\n",
       "      <th>25009</th>\n",
       "      <td>1384121583053144066</td>\n",
       "      <td>2021-04-19T12:27:55.000Z</td>\n",
       "      <td>no motherfucker if YOU want to MAKE a sequel, ...</td>\n",
       "      <td>0</td>\n",
       "      <td>0</td>\n",
       "      <td>0</td>\n",
       "      <td>0</td>\n",
       "      <td>2021-04-19</td>\n",
       "      <td>12:27:55.000Z</td>\n",
       "    </tr>\n",
       "    <tr>\n",
       "      <th>25010</th>\n",
       "      <td>1384121583015317514</td>\n",
       "      <td>2021-04-19T12:27:55.000Z</td>\n",
       "      <td>Way past his 15 minutes of fame. https://t.co/...</td>\n",
       "      <td>0</td>\n",
       "      <td>0</td>\n",
       "      <td>0</td>\n",
       "      <td>0</td>\n",
       "      <td>2021-04-19</td>\n",
       "      <td>12:27:55.000Z</td>\n",
       "    </tr>\n",
       "    <tr>\n",
       "      <th>25011</th>\n",
       "      <td>1384121582994432011</td>\n",
       "      <td>2021-04-19T12:27:55.000Z</td>\n",
       "      <td>Wednesday to the moon 🌝🚀 #Safemoon https://t.c...</td>\n",
       "      <td>9</td>\n",
       "      <td>1</td>\n",
       "      <td>26</td>\n",
       "      <td>0</td>\n",
       "      <td>2021-04-19</td>\n",
       "      <td>12:27:55.000Z</td>\n",
       "    </tr>\n",
       "  </tbody>\n",
       "</table>\n",
       "<p>25010 rows × 9 columns</p>\n",
       "</div>"
      ],
      "text/plain": [
       "                        id                created_at  \\\n",
       "0      1384122103977316355  2021-04-19T12:29:59.000Z   \n",
       "1      1384122103918596098  2021-04-19T12:29:59.000Z   \n",
       "2      1384122103897546760  2021-04-19T12:29:59.000Z   \n",
       "3      1384122103876648967  2021-04-19T12:29:59.000Z   \n",
       "4      1384122103863996422  2021-04-19T12:29:59.000Z   \n",
       "...                    ...                       ...   \n",
       "25007  1384121583128571912  2021-04-19T12:27:55.000Z   \n",
       "25008  1384121583124434944  2021-04-19T12:27:55.000Z   \n",
       "25009  1384121583053144066  2021-04-19T12:27:55.000Z   \n",
       "25010  1384121583015317514  2021-04-19T12:27:55.000Z   \n",
       "25011  1384121582994432011  2021-04-19T12:27:55.000Z   \n",
       "\n",
       "                                                    text  retweet_count  \\\n",
       "0      @Sportyfreak2005 ISL played an huge role in de...              0   \n",
       "1      @O_ssai @AyoOyalowo Was having a conversation ...              0   \n",
       "2      @Aventonio @GoonerJel_LDN To us it will mean w...              0   \n",
       "3      Money stop nonsense is the main reason why mos...              1   \n",
       "4      Watching PMs speech right now and honestly it'...              2   \n",
       "...                                                  ...            ...   \n",
       "25007  Beware the fallout of America’s exit from Afgh...              0   \n",
       "25008  In MyinGyan, there are 4 death,4 in critical c...              0   \n",
       "25009  no motherfucker if YOU want to MAKE a sequel, ...              0   \n",
       "25010  Way past his 15 minutes of fame. https://t.co/...              0   \n",
       "25011  Wednesday to the moon 🌝🚀 #Safemoon https://t.c...              9   \n",
       "\n",
       "       reply_count  like_count  quote_count        date           time  \n",
       "0                0           1            0  2021-04-19  12:29:59.000Z  \n",
       "1                1           7            0  2021-04-19  12:29:59.000Z  \n",
       "2                0           1            0  2021-04-19  12:29:59.000Z  \n",
       "3                0           2            0  2021-04-19  12:29:59.000Z  \n",
       "4                0           2            0  2021-04-19  12:29:59.000Z  \n",
       "...            ...         ...          ...         ...            ...  \n",
       "25007            0           0            0  2021-04-19  12:27:55.000Z  \n",
       "25008            0           0            0  2021-04-19  12:27:55.000Z  \n",
       "25009            0           0            0  2021-04-19  12:27:55.000Z  \n",
       "25010            0           0            0  2021-04-19  12:27:55.000Z  \n",
       "25011            1          26            0  2021-04-19  12:27:55.000Z  \n",
       "\n",
       "[25010 rows x 9 columns]"
      ]
     },
     "execution_count": 49,
     "metadata": {},
     "output_type": "execute_result"
    }
   ],
   "source": [
    "twitter_tweets = twitter_tweets.astype(convert_types)\n",
    "twitter_tweets"
   ]
  },
  {
   "cell_type": "code",
   "execution_count": 50,
   "metadata": {},
   "outputs": [
    {
     "name": "stdout",
     "output_type": "stream",
     "text": [
      "<class 'pandas.core.frame.DataFrame'>\n",
      "Int64Index: 25010 entries, 0 to 25011\n",
      "Data columns (total 9 columns):\n",
      " #   Column         Non-Null Count  Dtype \n",
      "---  ------         --------------  ----- \n",
      " 0   id             25010 non-null  object\n",
      " 1   created_at     25010 non-null  object\n",
      " 2   text           25010 non-null  object\n",
      " 3   retweet_count  25010 non-null  int64 \n",
      " 4   reply_count    25010 non-null  int64 \n",
      " 5   like_count     25010 non-null  int64 \n",
      " 6   quote_count    25010 non-null  int64 \n",
      " 7   date           25010 non-null  object\n",
      " 8   time           25010 non-null  object\n",
      "dtypes: int64(4), object(5)\n",
      "memory usage: 1.9+ MB\n"
     ]
    }
   ],
   "source": [
    "twitter_tweets.info()"
   ]
  },
  {
   "cell_type": "markdown",
   "metadata": {},
   "source": [
    "**Save the newly cleaned Twitter tweets dataframe to a csv**  💾"
   ]
  },
  {
   "cell_type": "code",
   "execution_count": 51,
   "metadata": {},
   "outputs": [],
   "source": [
    "twitter_tweets.to_csv(path_or_buf = '../data/cleaned_twitter_tweets',index=False)"
   ]
  }
 ],
 "metadata": {
  "kernelspec": {
   "display_name": "Python 3",
   "language": "python",
   "name": "python3"
  },
  "language_info": {
   "codemirror_mode": {
    "name": "ipython",
    "version": 3
   },
   "file_extension": ".py",
   "mimetype": "text/x-python",
   "name": "python",
   "nbconvert_exporter": "python",
   "pygments_lexer": "ipython3",
   "version": "3.8.3"
  }
 },
 "nbformat": 4,
 "nbformat_minor": 4
}
