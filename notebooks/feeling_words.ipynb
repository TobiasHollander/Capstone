{
 "cells": [
  {
   "cell_type": "code",
   "execution_count": 1,
   "metadata": {},
   "outputs": [],
   "source": [
    "import requests\n",
    "from bs4 import BeautifulSoup \n",
    "import pandas as pd\n",
    "import numpy as np\n",
    "import matplotlib.pyplot as plt\n",
    "import seaborn as sns\n",
    "\n",
    "%matplotlib inline"
   ]
  },
  {
   "cell_type": "code",
   "execution_count": 2,
   "metadata": {},
   "outputs": [
    {
     "data": {
      "text/plain": [
       "200"
      ]
     },
     "execution_count": 2,
     "metadata": {},
     "output_type": "execute_result"
    }
   ],
   "source": [
    "website_url = 'http://www.psychpage.com/learning/library/assess/feelings.html'\n",
    "response = requests.get(website_url)\n",
    "\n",
    "response.status_code"
   ]
  },
  {
   "cell_type": "code",
   "execution_count": 3,
   "metadata": {},
   "outputs": [
    {
     "name": "stdout",
     "output_type": "stream",
     "text": [
      "<class 'requests.models.Response'>\n"
     ]
    }
   ],
   "source": [
    "print(type(response))\n",
    "#response.content"
   ]
  },
  {
   "cell_type": "code",
   "execution_count": 4,
   "metadata": {},
   "outputs": [
    {
     "name": "stdout",
     "output_type": "stream",
     "text": [
      "<title>List of Feeling Words</title>\n"
     ]
    }
   ],
   "source": [
    "soup = BeautifulSoup(response.content, 'lxml')\n",
    "print(soup.title)"
   ]
  },
  {
   "cell_type": "code",
   "execution_count": 5,
   "metadata": {},
   "outputs": [],
   "source": [
    "#print(soup)"
   ]
  },
  {
   "cell_type": "code",
   "execution_count": 6,
   "metadata": {},
   "outputs": [],
   "source": [
    "table_body = soup.find_all('table', attrs = {'border':'0', 'cellpadding':'5', 'cellspacing':'5'})\n",
    "#table_body"
   ]
  },
  {
   "cell_type": "code",
   "execution_count": 7,
   "metadata": {},
   "outputs": [
    {
     "data": {
      "text/plain": [
       "bs4.element.ResultSet"
      ]
     },
     "execution_count": 7,
     "metadata": {},
     "output_type": "execute_result"
    }
   ],
   "source": [
    "type(table_body)"
   ]
  },
  {
   "cell_type": "code",
   "execution_count": 8,
   "metadata": {},
   "outputs": [
    {
     "data": {
      "text/plain": [
       "1"
      ]
     },
     "execution_count": 8,
     "metadata": {},
     "output_type": "execute_result"
    }
   ],
   "source": [
    "len(table_body)"
   ]
  },
  {
   "cell_type": "code",
   "execution_count": 9,
   "metadata": {},
   "outputs": [
    {
     "data": {
      "text/plain": [
       "1"
      ]
     },
     "execution_count": 9,
     "metadata": {},
     "output_type": "execute_result"
    }
   ],
   "source": [
    "result_list = pd.read_html(str(table_body[0]))\n",
    "len(result_list)"
   ]
  },
  {
   "cell_type": "code",
   "execution_count": 10,
   "metadata": {},
   "outputs": [
    {
     "data": {
      "text/plain": [
       "list"
      ]
     },
     "execution_count": 10,
     "metadata": {},
     "output_type": "execute_result"
    }
   ],
   "source": [
    "type(result_list)"
   ]
  },
  {
   "cell_type": "code",
   "execution_count": 11,
   "metadata": {},
   "outputs": [
    {
     "data": {
      "text/html": [
       "<div>\n",
       "<style scoped>\n",
       "    .dataframe tbody tr th:only-of-type {\n",
       "        vertical-align: middle;\n",
       "    }\n",
       "\n",
       "    .dataframe tbody tr th {\n",
       "        vertical-align: top;\n",
       "    }\n",
       "\n",
       "    .dataframe thead th {\n",
       "        text-align: right;\n",
       "    }\n",
       "</style>\n",
       "<table border=\"1\" class=\"dataframe\">\n",
       "  <thead>\n",
       "    <tr style=\"text-align: right;\">\n",
       "      <th></th>\n",
       "      <th>0</th>\n",
       "      <th>1</th>\n",
       "      <th>2</th>\n",
       "      <th>3</th>\n",
       "    </tr>\n",
       "  </thead>\n",
       "  <tbody>\n",
       "    <tr>\n",
       "      <th>0</th>\n",
       "      <td>Pleasant Feelings</td>\n",
       "      <td>Pleasant Feelings</td>\n",
       "      <td>Pleasant Feelings</td>\n",
       "      <td>Pleasant Feelings</td>\n",
       "    </tr>\n",
       "    <tr>\n",
       "      <th>1</th>\n",
       "      <td>OPEN</td>\n",
       "      <td>HAPPY</td>\n",
       "      <td>ALIVE</td>\n",
       "      <td>GOOD</td>\n",
       "    </tr>\n",
       "    <tr>\n",
       "      <th>2</th>\n",
       "      <td>understanding</td>\n",
       "      <td>great</td>\n",
       "      <td>playful</td>\n",
       "      <td>calm</td>\n",
       "    </tr>\n",
       "    <tr>\n",
       "      <th>3</th>\n",
       "      <td>confident</td>\n",
       "      <td>gay</td>\n",
       "      <td>courageous</td>\n",
       "      <td>peaceful</td>\n",
       "    </tr>\n",
       "    <tr>\n",
       "      <th>4</th>\n",
       "      <td>reliable</td>\n",
       "      <td>joyous</td>\n",
       "      <td>energetic</td>\n",
       "      <td>at ease</td>\n",
       "    </tr>\n",
       "  </tbody>\n",
       "</table>\n",
       "</div>"
      ],
      "text/plain": [
       "                   0                  1                  2                  3\n",
       "0  Pleasant Feelings  Pleasant Feelings  Pleasant Feelings  Pleasant Feelings\n",
       "1               OPEN              HAPPY              ALIVE               GOOD\n",
       "2      understanding              great            playful               calm\n",
       "3          confident                gay         courageous           peaceful\n",
       "4           reliable             joyous          energetic            at ease"
      ]
     },
     "execution_count": 11,
     "metadata": {},
     "output_type": "execute_result"
    }
   ],
   "source": [
    "feeling_words = result_list[0]\n",
    "feeling_words.head()"
   ]
  },
  {
   "cell_type": "code",
   "execution_count": 12,
   "metadata": {},
   "outputs": [
    {
     "data": {
      "text/html": [
       "<div>\n",
       "<style scoped>\n",
       "    .dataframe tbody tr th:only-of-type {\n",
       "        vertical-align: middle;\n",
       "    }\n",
       "\n",
       "    .dataframe tbody tr th {\n",
       "        vertical-align: top;\n",
       "    }\n",
       "\n",
       "    .dataframe thead th {\n",
       "        text-align: right;\n",
       "    }\n",
       "</style>\n",
       "<table border=\"1\" class=\"dataframe\">\n",
       "  <thead>\n",
       "    <tr style=\"text-align: right;\">\n",
       "      <th></th>\n",
       "      <th>0</th>\n",
       "      <th>1</th>\n",
       "      <th>2</th>\n",
       "      <th>3</th>\n",
       "    </tr>\n",
       "  </thead>\n",
       "  <tbody>\n",
       "    <tr>\n",
       "      <th>81</th>\n",
       "      <td>NaN</td>\n",
       "      <td>threatened</td>\n",
       "      <td>appalled</td>\n",
       "      <td>NaN</td>\n",
       "    </tr>\n",
       "    <tr>\n",
       "      <th>82</th>\n",
       "      <td>NaN</td>\n",
       "      <td>cowardly</td>\n",
       "      <td>humiliated</td>\n",
       "      <td>NaN</td>\n",
       "    </tr>\n",
       "    <tr>\n",
       "      <th>83</th>\n",
       "      <td>NaN</td>\n",
       "      <td>quaking</td>\n",
       "      <td>wronged</td>\n",
       "      <td>NaN</td>\n",
       "    </tr>\n",
       "    <tr>\n",
       "      <th>84</th>\n",
       "      <td>NaN</td>\n",
       "      <td>menaced</td>\n",
       "      <td>alienated</td>\n",
       "      <td>NaN</td>\n",
       "    </tr>\n",
       "    <tr>\n",
       "      <th>85</th>\n",
       "      <td>NaN</td>\n",
       "      <td>wary</td>\n",
       "      <td>NaN</td>\n",
       "      <td>NaN</td>\n",
       "    </tr>\n",
       "  </tbody>\n",
       "</table>\n",
       "</div>"
      ],
      "text/plain": [
       "      0           1           2    3\n",
       "81  NaN  threatened    appalled  NaN\n",
       "82  NaN    cowardly  humiliated  NaN\n",
       "83  NaN     quaking     wronged  NaN\n",
       "84  NaN     menaced   alienated  NaN\n",
       "85  NaN        wary         NaN  NaN"
      ]
     },
     "execution_count": 12,
     "metadata": {},
     "output_type": "execute_result"
    }
   ],
   "source": [
    "feeling_words.tail()"
   ]
  },
  {
   "cell_type": "code",
   "execution_count": 13,
   "metadata": {},
   "outputs": [
    {
     "name": "stdout",
     "output_type": "stream",
     "text": [
      "<class 'pandas.core.frame.DataFrame'>\n",
      "RangeIndex: 86 entries, 0 to 85\n",
      "Data columns (total 4 columns):\n",
      " #   Column  Non-Null Count  Dtype \n",
      "---  ------  --------------  ----- \n",
      " 0   0       67 non-null     object\n",
      " 1   1       73 non-null     object\n",
      " 2   2       73 non-null     object\n",
      " 3   3       64 non-null     object\n",
      "dtypes: object(4)\n",
      "memory usage: 2.8+ KB\n"
     ]
    }
   ],
   "source": [
    "feeling_words.info()"
   ]
  },
  {
   "cell_type": "code",
   "execution_count": 14,
   "metadata": {},
   "outputs": [
    {
     "data": {
      "text/html": [
       "<div>\n",
       "<style scoped>\n",
       "    .dataframe tbody tr th:only-of-type {\n",
       "        vertical-align: middle;\n",
       "    }\n",
       "\n",
       "    .dataframe tbody tr th {\n",
       "        vertical-align: top;\n",
       "    }\n",
       "\n",
       "    .dataframe thead th {\n",
       "        text-align: right;\n",
       "    }\n",
       "</style>\n",
       "<table border=\"1\" class=\"dataframe\">\n",
       "  <thead>\n",
       "    <tr style=\"text-align: right;\">\n",
       "      <th></th>\n",
       "      <th>0</th>\n",
       "      <th>1</th>\n",
       "      <th>2</th>\n",
       "      <th>3</th>\n",
       "    </tr>\n",
       "  </thead>\n",
       "  <tbody>\n",
       "    <tr>\n",
       "      <th>0</th>\n",
       "      <td>Pleasant Feelings</td>\n",
       "      <td>Pleasant Feelings</td>\n",
       "      <td>Pleasant Feelings</td>\n",
       "      <td>Pleasant Feelings</td>\n",
       "    </tr>\n",
       "    <tr>\n",
       "      <th>1</th>\n",
       "      <td>OPEN</td>\n",
       "      <td>HAPPY</td>\n",
       "      <td>ALIVE</td>\n",
       "      <td>GOOD</td>\n",
       "    </tr>\n",
       "    <tr>\n",
       "      <th>2</th>\n",
       "      <td>understanding</td>\n",
       "      <td>great</td>\n",
       "      <td>playful</td>\n",
       "      <td>calm</td>\n",
       "    </tr>\n",
       "    <tr>\n",
       "      <th>3</th>\n",
       "      <td>confident</td>\n",
       "      <td>gay</td>\n",
       "      <td>courageous</td>\n",
       "      <td>peaceful</td>\n",
       "    </tr>\n",
       "    <tr>\n",
       "      <th>4</th>\n",
       "      <td>reliable</td>\n",
       "      <td>joyous</td>\n",
       "      <td>energetic</td>\n",
       "      <td>at ease</td>\n",
       "    </tr>\n",
       "    <tr>\n",
       "      <th>5</th>\n",
       "      <td>easy</td>\n",
       "      <td>lucky</td>\n",
       "      <td>liberated</td>\n",
       "      <td>comfortable</td>\n",
       "    </tr>\n",
       "    <tr>\n",
       "      <th>6</th>\n",
       "      <td>amazed</td>\n",
       "      <td>fortunate</td>\n",
       "      <td>optimistic</td>\n",
       "      <td>pleased</td>\n",
       "    </tr>\n",
       "    <tr>\n",
       "      <th>7</th>\n",
       "      <td>free</td>\n",
       "      <td>delighted</td>\n",
       "      <td>provocative</td>\n",
       "      <td>encouraged</td>\n",
       "    </tr>\n",
       "    <tr>\n",
       "      <th>8</th>\n",
       "      <td>sympathetic</td>\n",
       "      <td>overjoyed</td>\n",
       "      <td>impulsive</td>\n",
       "      <td>clever</td>\n",
       "    </tr>\n",
       "    <tr>\n",
       "      <th>9</th>\n",
       "      <td>interested</td>\n",
       "      <td>gleeful</td>\n",
       "      <td>free</td>\n",
       "      <td>surprised</td>\n",
       "    </tr>\n",
       "    <tr>\n",
       "      <th>10</th>\n",
       "      <td>satisfied</td>\n",
       "      <td>thankful</td>\n",
       "      <td>frisky</td>\n",
       "      <td>content</td>\n",
       "    </tr>\n",
       "    <tr>\n",
       "      <th>11</th>\n",
       "      <td>receptive</td>\n",
       "      <td>important</td>\n",
       "      <td>animated</td>\n",
       "      <td>quiet</td>\n",
       "    </tr>\n",
       "    <tr>\n",
       "      <th>12</th>\n",
       "      <td>accepting</td>\n",
       "      <td>festive</td>\n",
       "      <td>spirited</td>\n",
       "      <td>certain</td>\n",
       "    </tr>\n",
       "    <tr>\n",
       "      <th>13</th>\n",
       "      <td>kind</td>\n",
       "      <td>ecstatic</td>\n",
       "      <td>thrilled</td>\n",
       "      <td>relaxed</td>\n",
       "    </tr>\n",
       "    <tr>\n",
       "      <th>14</th>\n",
       "      <td>NaN</td>\n",
       "      <td>satisfied</td>\n",
       "      <td>wonderful</td>\n",
       "      <td>serene</td>\n",
       "    </tr>\n",
       "    <tr>\n",
       "      <th>15</th>\n",
       "      <td>NaN</td>\n",
       "      <td>glad</td>\n",
       "      <td>NaN</td>\n",
       "      <td>free and easy</td>\n",
       "    </tr>\n",
       "    <tr>\n",
       "      <th>16</th>\n",
       "      <td>NaN</td>\n",
       "      <td>cheerful</td>\n",
       "      <td>NaN</td>\n",
       "      <td>bright</td>\n",
       "    </tr>\n",
       "    <tr>\n",
       "      <th>17</th>\n",
       "      <td>NaN</td>\n",
       "      <td>sunny</td>\n",
       "      <td>NaN</td>\n",
       "      <td>blessed</td>\n",
       "    </tr>\n",
       "    <tr>\n",
       "      <th>18</th>\n",
       "      <td>NaN</td>\n",
       "      <td>merry</td>\n",
       "      <td>NaN</td>\n",
       "      <td>reassured</td>\n",
       "    </tr>\n",
       "    <tr>\n",
       "      <th>19</th>\n",
       "      <td>NaN</td>\n",
       "      <td>elated</td>\n",
       "      <td>NaN</td>\n",
       "      <td>NaN</td>\n",
       "    </tr>\n",
       "    <tr>\n",
       "      <th>20</th>\n",
       "      <td>NaN</td>\n",
       "      <td>jubilant</td>\n",
       "      <td>NaN</td>\n",
       "      <td>NaN</td>\n",
       "    </tr>\n",
       "    <tr>\n",
       "      <th>21</th>\n",
       "      <td>NaN</td>\n",
       "      <td>NaN</td>\n",
       "      <td>NaN</td>\n",
       "      <td>NaN</td>\n",
       "    </tr>\n",
       "    <tr>\n",
       "      <th>22</th>\n",
       "      <td>LOVE</td>\n",
       "      <td>INTERESTED</td>\n",
       "      <td>POSITIVE</td>\n",
       "      <td>STRONG</td>\n",
       "    </tr>\n",
       "    <tr>\n",
       "      <th>23</th>\n",
       "      <td>loving</td>\n",
       "      <td>concerned</td>\n",
       "      <td>eager</td>\n",
       "      <td>impulsive</td>\n",
       "    </tr>\n",
       "    <tr>\n",
       "      <th>24</th>\n",
       "      <td>considerate</td>\n",
       "      <td>affected</td>\n",
       "      <td>keen</td>\n",
       "      <td>free</td>\n",
       "    </tr>\n",
       "  </tbody>\n",
       "</table>\n",
       "</div>"
      ],
      "text/plain": [
       "                    0                  1                  2                  3\n",
       "0   Pleasant Feelings  Pleasant Feelings  Pleasant Feelings  Pleasant Feelings\n",
       "1                OPEN              HAPPY              ALIVE               GOOD\n",
       "2       understanding              great            playful               calm\n",
       "3           confident                gay         courageous           peaceful\n",
       "4            reliable             joyous          energetic            at ease\n",
       "5                easy              lucky          liberated        comfortable\n",
       "6              amazed          fortunate         optimistic            pleased\n",
       "7                free          delighted        provocative         encouraged\n",
       "8         sympathetic          overjoyed          impulsive             clever\n",
       "9          interested            gleeful               free          surprised\n",
       "10          satisfied           thankful             frisky            content\n",
       "11          receptive          important           animated              quiet\n",
       "12          accepting            festive           spirited            certain\n",
       "13               kind           ecstatic           thrilled            relaxed\n",
       "14                NaN          satisfied          wonderful             serene\n",
       "15                NaN               glad                NaN      free and easy\n",
       "16                NaN           cheerful                NaN             bright\n",
       "17                NaN              sunny                NaN            blessed\n",
       "18                NaN              merry                NaN          reassured\n",
       "19                NaN             elated                NaN                NaN\n",
       "20                NaN           jubilant                NaN                NaN\n",
       "21                NaN                NaN                NaN                NaN\n",
       "22               LOVE         INTERESTED           POSITIVE             STRONG\n",
       "23             loving          concerned              eager          impulsive\n",
       "24        considerate           affected               keen               free"
      ]
     },
     "execution_count": 14,
     "metadata": {},
     "output_type": "execute_result"
    }
   ],
   "source": [
    "feeling_words.head(25)"
   ]
  },
  {
   "cell_type": "markdown",
   "metadata": {},
   "source": [
    "### Time to reconstruct the dataframe 🤪"
   ]
  },
  {
   "cell_type": "markdown",
   "metadata": {},
   "source": [
    "First, change the column names."
   ]
  },
  {
   "cell_type": "code",
   "execution_count": 15,
   "metadata": {},
   "outputs": [],
   "source": [
    "feeling_words.columns = ['columnOne','columnTwo','columnThree','columnFour']"
   ]
  },
  {
   "cell_type": "code",
   "execution_count": 16,
   "metadata": {},
   "outputs": [
    {
     "data": {
      "text/html": [
       "<div>\n",
       "<style scoped>\n",
       "    .dataframe tbody tr th:only-of-type {\n",
       "        vertical-align: middle;\n",
       "    }\n",
       "\n",
       "    .dataframe tbody tr th {\n",
       "        vertical-align: top;\n",
       "    }\n",
       "\n",
       "    .dataframe thead th {\n",
       "        text-align: right;\n",
       "    }\n",
       "</style>\n",
       "<table border=\"1\" class=\"dataframe\">\n",
       "  <thead>\n",
       "    <tr style=\"text-align: right;\">\n",
       "      <th></th>\n",
       "      <th>columnOne</th>\n",
       "      <th>columnTwo</th>\n",
       "      <th>columnThree</th>\n",
       "      <th>columnFour</th>\n",
       "    </tr>\n",
       "  </thead>\n",
       "  <tbody>\n",
       "    <tr>\n",
       "      <th>0</th>\n",
       "      <td>Pleasant Feelings</td>\n",
       "      <td>Pleasant Feelings</td>\n",
       "      <td>Pleasant Feelings</td>\n",
       "      <td>Pleasant Feelings</td>\n",
       "    </tr>\n",
       "    <tr>\n",
       "      <th>1</th>\n",
       "      <td>OPEN</td>\n",
       "      <td>HAPPY</td>\n",
       "      <td>ALIVE</td>\n",
       "      <td>GOOD</td>\n",
       "    </tr>\n",
       "    <tr>\n",
       "      <th>2</th>\n",
       "      <td>understanding</td>\n",
       "      <td>great</td>\n",
       "      <td>playful</td>\n",
       "      <td>calm</td>\n",
       "    </tr>\n",
       "    <tr>\n",
       "      <th>3</th>\n",
       "      <td>confident</td>\n",
       "      <td>gay</td>\n",
       "      <td>courageous</td>\n",
       "      <td>peaceful</td>\n",
       "    </tr>\n",
       "    <tr>\n",
       "      <th>4</th>\n",
       "      <td>reliable</td>\n",
       "      <td>joyous</td>\n",
       "      <td>energetic</td>\n",
       "      <td>at ease</td>\n",
       "    </tr>\n",
       "  </tbody>\n",
       "</table>\n",
       "</div>"
      ],
      "text/plain": [
       "           columnOne          columnTwo        columnThree         columnFour\n",
       "0  Pleasant Feelings  Pleasant Feelings  Pleasant Feelings  Pleasant Feelings\n",
       "1               OPEN              HAPPY              ALIVE               GOOD\n",
       "2      understanding              great            playful               calm\n",
       "3          confident                gay         courageous           peaceful\n",
       "4           reliable             joyous          energetic            at ease"
      ]
     },
     "execution_count": 16,
     "metadata": {},
     "output_type": "execute_result"
    }
   ],
   "source": [
    "feeling_words.head()"
   ]
  },
  {
   "cell_type": "markdown",
   "metadata": {},
   "source": [
    "Second, create seperate lists of each column."
   ]
  },
  {
   "cell_type": "code",
   "execution_count": 17,
   "metadata": {},
   "outputs": [],
   "source": [
    "word_list1 = list(feeling_words.columnOne)"
   ]
  },
  {
   "cell_type": "code",
   "execution_count": 18,
   "metadata": {},
   "outputs": [],
   "source": [
    "#checked the list of words. We're good to proceed to the next column! 😉\n",
    "#word_list1"
   ]
  },
  {
   "cell_type": "code",
   "execution_count": 19,
   "metadata": {},
   "outputs": [],
   "source": [
    "word_list2 = list(feeling_words.columnTwo)"
   ]
  },
  {
   "cell_type": "code",
   "execution_count": 20,
   "metadata": {},
   "outputs": [],
   "source": [
    "word_list3 = list(feeling_words.columnThree)"
   ]
  },
  {
   "cell_type": "code",
   "execution_count": 21,
   "metadata": {},
   "outputs": [],
   "source": [
    "word_list4 = list(feeling_words.columnFour)"
   ]
  },
  {
   "cell_type": "markdown",
   "metadata": {},
   "source": [
    "Third, remove category words from each list before combining all lists."
   ]
  },
  {
   "cell_type": "code",
   "execution_count": 22,
   "metadata": {},
   "outputs": [],
   "source": [
    "#Looking at the words in list\n",
    "#word_list1"
   ]
  },
  {
   "cell_type": "code",
   "execution_count": 23,
   "metadata": {},
   "outputs": [],
   "source": [
    "word_list1.remove('Pleasant Feelings')\n",
    "word_list1.remove('OPEN')\n",
    "word_list1.remove('LOVE')\n",
    "word_list1.remove('Difficult/Unpleasant Feelings')\n",
    "word_list1.remove('ANGRY')\n",
    "word_list1.remove('INDIFFERENT')"
   ]
  },
  {
   "cell_type": "code",
   "execution_count": 24,
   "metadata": {},
   "outputs": [],
   "source": [
    "#checking to see if .remove worked. Hooray! 👍🏻\n",
    "#word_list1"
   ]
  },
  {
   "cell_type": "code",
   "execution_count": 25,
   "metadata": {},
   "outputs": [],
   "source": [
    "#Looking at the words in list\n",
    "#word_list2"
   ]
  },
  {
   "cell_type": "code",
   "execution_count": 26,
   "metadata": {},
   "outputs": [],
   "source": [
    "word_list2.remove('Pleasant Feelings')\n",
    "word_list2.remove('HAPPY')\n",
    "word_list2.remove('INTERESTED')\n",
    "word_list2.remove('Difficult/Unpleasant Feelings')\n",
    "word_list2.remove('DEPRESSED')\n",
    "word_list2.remove('AFRAID')"
   ]
  },
  {
   "cell_type": "code",
   "execution_count": 27,
   "metadata": {},
   "outputs": [],
   "source": [
    "#checking to see if .remove worked.\n",
    "#word_list2"
   ]
  },
  {
   "cell_type": "code",
   "execution_count": 28,
   "metadata": {},
   "outputs": [],
   "source": [
    "#Looking at the words in list\n",
    "#word_list3"
   ]
  },
  {
   "cell_type": "code",
   "execution_count": 29,
   "metadata": {},
   "outputs": [],
   "source": [
    "word_list3.remove('Pleasant Feelings')\n",
    "word_list3.remove('ALIVE')\n",
    "word_list3.remove('POSITIVE')\n",
    "word_list3.remove('Difficult/Unpleasant Feelings')\n",
    "word_list3.remove('CONFUSED')\n",
    "word_list3.remove('HURT')"
   ]
  },
  {
   "cell_type": "code",
   "execution_count": 30,
   "metadata": {},
   "outputs": [],
   "source": [
    "#checking to see if .remove worked.\n",
    "#word_list3"
   ]
  },
  {
   "cell_type": "code",
   "execution_count": 31,
   "metadata": {},
   "outputs": [],
   "source": [
    "#Looking at the words in list\n",
    "#word_list4"
   ]
  },
  {
   "cell_type": "code",
   "execution_count": 32,
   "metadata": {},
   "outputs": [],
   "source": [
    "word_list4.remove('Pleasant Feelings')\n",
    "word_list4.remove('GOOD')\n",
    "word_list4.remove('STRONG')\n",
    "word_list4.remove('Difficult/Unpleasant Feelings')\n",
    "word_list4.remove('HELPLESS')\n",
    "word_list4.remove('SAD')"
   ]
  },
  {
   "cell_type": "code",
   "execution_count": 33,
   "metadata": {},
   "outputs": [],
   "source": [
    "#checking to see if .remove worked.\n",
    "#word_list4"
   ]
  },
  {
   "cell_type": "markdown",
   "metadata": {},
   "source": [
    "Fourth, remove NaN values from each list ✂️"
   ]
  },
  {
   "cell_type": "code",
   "execution_count": 34,
   "metadata": {},
   "outputs": [],
   "source": [
    "new_word_list1 = [x for x in word_list1 if pd.isnull(x) == False]\n",
    "#new_word_list1 Checking to see if all non NaN values were added to the new list."
   ]
  },
  {
   "cell_type": "code",
   "execution_count": 35,
   "metadata": {},
   "outputs": [],
   "source": [
    "new_word_list2 = [x for x in word_list2 if pd.isnull(x) == False]\n",
    "#new_word_list2 Checking to see if all non NaN values were added to the new list."
   ]
  },
  {
   "cell_type": "code",
   "execution_count": 36,
   "metadata": {},
   "outputs": [],
   "source": [
    "new_word_list3 = [x for x in word_list3 if pd.isnull(x) == False]\n",
    "#new_word_list3 Checking to see if all non NaN values were added to the new list."
   ]
  },
  {
   "cell_type": "code",
   "execution_count": 37,
   "metadata": {},
   "outputs": [],
   "source": [
    "new_word_list4 = [x for x in word_list4 if pd.isnull(x) == False]\n",
    "#new_word_list4 Checking to see if all non NaN values were added to the new list."
   ]
  },
  {
   "cell_type": "markdown",
   "metadata": {},
   "source": [
    "Fifth, combine the lists."
   ]
  },
  {
   "cell_type": "code",
   "execution_count": 38,
   "metadata": {},
   "outputs": [],
   "source": [
    "master_list = new_word_list1 + new_word_list2 + new_word_list3 + new_word_list4\n",
    "#master_list Checking the list."
   ]
  },
  {
   "cell_type": "markdown",
   "metadata": {},
   "source": [
    "Started out with 277 non-null words. Subtract 24 category words to have correct amount of emotion words. 🧮"
   ]
  },
  {
   "cell_type": "code",
   "execution_count": 39,
   "metadata": {},
   "outputs": [
    {
     "data": {
      "text/plain": [
       "253"
      ]
     },
     "execution_count": 39,
     "metadata": {},
     "output_type": "execute_result"
    }
   ],
   "source": [
    "len(master_list)"
   ]
  },
  {
   "cell_type": "markdown",
   "metadata": {},
   "source": [
    "Afrer further realization and testing, I needed to remove duplicate words from the master_list. Doing so will help with placing words into the correct sub_category/sub_categories. This will be a two step process. 👁 👄 👁"
   ]
  },
  {
   "cell_type": "code",
   "execution_count": 40,
   "metadata": {},
   "outputs": [],
   "source": [
    "master_list = set(master_list)"
   ]
  },
  {
   "cell_type": "code",
   "execution_count": 41,
   "metadata": {},
   "outputs": [
    {
     "data": {
      "text/html": [
       "<div>\n",
       "<style scoped>\n",
       "    .dataframe tbody tr th:only-of-type {\n",
       "        vertical-align: middle;\n",
       "    }\n",
       "\n",
       "    .dataframe tbody tr th {\n",
       "        vertical-align: top;\n",
       "    }\n",
       "\n",
       "    .dataframe thead th {\n",
       "        text-align: right;\n",
       "    }\n",
       "</style>\n",
       "<table border=\"1\" class=\"dataframe\">\n",
       "  <thead>\n",
       "    <tr style=\"text-align: right;\">\n",
       "      <th></th>\n",
       "      <th>words</th>\n",
       "    </tr>\n",
       "  </thead>\n",
       "  <tbody>\n",
       "    <tr>\n",
       "      <th>0</th>\n",
       "      <td>drawn toward</td>\n",
       "    </tr>\n",
       "    <tr>\n",
       "      <th>1</th>\n",
       "      <td>playful</td>\n",
       "    </tr>\n",
       "    <tr>\n",
       "      <th>2</th>\n",
       "      <td>frisky</td>\n",
       "    </tr>\n",
       "    <tr>\n",
       "      <th>3</th>\n",
       "      <td>weary</td>\n",
       "    </tr>\n",
       "    <tr>\n",
       "      <th>4</th>\n",
       "      <td>offended</td>\n",
       "    </tr>\n",
       "    <tr>\n",
       "      <th>...</th>\n",
       "      <td>...</td>\n",
       "    </tr>\n",
       "    <tr>\n",
       "      <th>235</th>\n",
       "      <td>dissatisfied</td>\n",
       "    </tr>\n",
       "    <tr>\n",
       "      <th>236</th>\n",
       "      <td>hesitant</td>\n",
       "    </tr>\n",
       "    <tr>\n",
       "      <th>237</th>\n",
       "      <td>receptive</td>\n",
       "    </tr>\n",
       "    <tr>\n",
       "      <th>238</th>\n",
       "      <td>pessimistic</td>\n",
       "    </tr>\n",
       "    <tr>\n",
       "      <th>239</th>\n",
       "      <td>secure</td>\n",
       "    </tr>\n",
       "  </tbody>\n",
       "</table>\n",
       "<p>240 rows × 1 columns</p>\n",
       "</div>"
      ],
      "text/plain": [
       "            words\n",
       "0    drawn toward\n",
       "1         playful\n",
       "2          frisky\n",
       "3           weary\n",
       "4        offended\n",
       "..            ...\n",
       "235  dissatisfied\n",
       "236      hesitant\n",
       "237     receptive\n",
       "238   pessimistic\n",
       "239        secure\n",
       "\n",
       "[240 rows x 1 columns]"
      ]
     },
     "execution_count": 41,
     "metadata": {},
     "output_type": "execute_result"
    }
   ],
   "source": [
    "words_df = pd.DataFrame(master_list, columns=['words'])\n",
    "words_df"
   ]
  },
  {
   "cell_type": "markdown",
   "metadata": {},
   "source": [
    "Success! New dataframe has been created. Now, make more lists for the sub-categories."
   ]
  },
  {
   "cell_type": "code",
   "execution_count": 42,
   "metadata": {},
   "outputs": [],
   "source": [
    "open_list = ['understanding', 'confident', 'reliable', 'easy', 'amazed', 'free', 'sympathetic', 'interested', 'satisfied', 'receptive', 'accepting', 'kind']"
   ]
  },
  {
   "cell_type": "code",
   "execution_count": 43,
   "metadata": {},
   "outputs": [],
   "source": [
    "happy_list = ['great', 'gay', 'joyous', 'lucky', 'fortunate', 'delighted', 'overjoyed', 'gleeful', 'thankful', 'important', 'festive', 'ecstatic', 'satisfied', 'glad', 'cheerful', 'sunny', 'merry', 'elated', 'jubilant']"
   ]
  },
  {
   "cell_type": "code",
   "execution_count": 44,
   "metadata": {},
   "outputs": [],
   "source": [
    "alive_list = ['playful', 'courageous', 'energetic', 'liberated', 'optimistic', 'provocative', 'impulsive', 'free', 'frisky', 'animated', 'spirited', 'thrilled', 'wonderful']"
   ]
  },
  {
   "cell_type": "code",
   "execution_count": 45,
   "metadata": {},
   "outputs": [],
   "source": [
    "good_list = ['calm', 'peaceful', 'at ease', 'comfortable', 'pleased', 'encouraged', 'clever', 'surprised', 'content', 'quiet', 'relaxed', 'serene', 'free and easy', 'bright', 'blessed', 'reassured']"
   ]
  },
  {
   "cell_type": "code",
   "execution_count": 46,
   "metadata": {},
   "outputs": [],
   "source": [
    "love_list = ['loving', 'considerate', 'affectionate', 'sensitive', 'tender', 'devoted', 'attracted', 'passionate', 'admiration', 'warm', 'touched', 'sympathy', 'close', 'loved', 'comforted', 'drawn toward']"
   ]
  },
  {
   "cell_type": "code",
   "execution_count": 47,
   "metadata": {},
   "outputs": [],
   "source": [
    "interested_list = ['concerned', 'affected', 'fascinated', 'intrigued', 'absorbed', 'inquisitive', 'nosy', 'snoopy', 'engrossed', 'curious']"
   ]
  },
  {
   "cell_type": "code",
   "execution_count": 48,
   "metadata": {},
   "outputs": [],
   "source": [
    "positive_list = ['eager', 'keen', 'earnest', 'intent', 'anxious', 'inspired', 'determined', 'excited', 'enthusiastic', 'bold', 'brave', 'daring', 'challenged', 'optimistic', 're-enforced', 'confident', 'hopeful']"
   ]
  },
  {
   "cell_type": "code",
   "execution_count": 49,
   "metadata": {},
   "outputs": [],
   "source": [
    "strong_list = ['impulsive', 'free', 'sure', 'certain', 'rebellious', 'unique', 'dynamic', 'tenacious', 'hardy', 'secure']"
   ]
  },
  {
   "cell_type": "code",
   "execution_count": 50,
   "metadata": {},
   "outputs": [],
   "source": [
    "angry_list = ['irritated', 'enraged', 'hostile', 'insulting', 'sore', 'annoyed', 'upset', 'hateful', 'unpleasant', 'offensive', 'bitter', 'aggressive', 'resentful', 'inflamed', 'provoked', 'incensed', 'infuriated', 'cross', 'worked up', 'boiling', 'fuming', 'indignant']"
   ]
  },
  {
   "cell_type": "code",
   "execution_count": 51,
   "metadata": {},
   "outputs": [],
   "source": [
    "depressed_list = ['lousy', 'disappointed', 'discouraged', 'ashamed', 'powerless', 'diminished', 'guilty', 'dissatisfied', 'miserable', 'detestable', 'repugnant', 'despicable', 'disgusting', 'abominable', 'terrible', 'in despair', 'sulky', 'bad', 'a sense of loss']"
   ]
  },
  {
   "cell_type": "code",
   "execution_count": 52,
   "metadata": {},
   "outputs": [],
   "source": [
    "confused_list = ['upset', 'doubtful', 'uncertain', 'indecisive', 'perplexed', 'embarrassed', 'hesitant', 'shy', 'stupefied', 'disillusioned', 'unbelieving', 'skeptical', 'distrustful', 'misgiving', 'lost', 'unsure', 'uneasy', 'pessimistic', 'tense']"
   ]
  },
  {
   "cell_type": "code",
   "execution_count": 53,
   "metadata": {},
   "outputs": [],
   "source": [
    "helpless_list = ['incapable', 'alone', 'paralyzed', 'fatigued', 'useless', 'inferior', 'vulnerable', 'empty', 'forced', 'hesitant', 'despair', 'frustrated', 'distressed', 'woeful', 'pathetic', 'tragic', 'in a stew', 'dominated']"
   ]
  },
  {
   "cell_type": "code",
   "execution_count": 54,
   "metadata": {},
   "outputs": [],
   "source": [
    "indifferent_list = ['insensitive', 'dull', 'nonchalant', 'neutral', 'reserved', 'weary', 'bored', 'preoccupied', 'cold', 'disinterested', 'lifeless']"
   ]
  },
  {
   "cell_type": "code",
   "execution_count": 55,
   "metadata": {},
   "outputs": [],
   "source": [
    "afraid_list = ['fearful', 'terrified', 'suspicious', 'anxious', 'alarmed', 'panic', 'nervous', 'scared', 'worried', 'frightened', 'timid', 'shaky', 'restless', 'doubtful', 'threatened', 'cowardly', 'quaking', 'menaced', 'wary']"
   ]
  },
  {
   "cell_type": "code",
   "execution_count": 56,
   "metadata": {},
   "outputs": [],
   "source": [
    "hurt_list = ['crushed', 'tormented', 'deprived', 'pained', 'tortured', 'dejected', 'rejected', 'injured', 'offended', 'afflicted', 'aching', 'victimized', 'heartbroken', 'agonized', 'appalled', 'humiliated', 'wronged', 'alienated']"
   ]
  },
  {
   "cell_type": "code",
   "execution_count": 57,
   "metadata": {},
   "outputs": [],
   "source": [
    "sad_list = ['tearful', 'sorrowful', 'pained', 'grief', 'anguish', 'desolate', 'desperate', 'pessimistic', 'unhappy', 'lonely', 'grieved', 'mournful', 'dismayed']"
   ]
  },
  {
   "cell_type": "markdown",
   "metadata": {},
   "source": [
    "Create the \"sub_category\" column for the dataframe 🌈"
   ]
  },
  {
   "cell_type": "code",
   "execution_count": 58,
   "metadata": {},
   "outputs": [],
   "source": [
    "sub_category_list = []\n",
    "for word in words_df['words']:\n",
    "    if word in open_list:\n",
    "        feeling = 'open'\n",
    "        sub_category_list.append(feeling)\n",
    "    elif word in happy_list:\n",
    "        feeling = 'happy'\n",
    "        sub_category_list.append(feeling)\n",
    "    elif word in alive_list:\n",
    "        feeling = 'alive'\n",
    "        sub_category_list.append(feeling)\n",
    "    elif word in good_list:\n",
    "        feeling = 'good'\n",
    "        sub_category_list.append(feeling)\n",
    "    elif word in love_list:\n",
    "        feeling = 'love'\n",
    "        sub_category_list.append(feeling)\n",
    "    elif word in interested_list:\n",
    "        feeling = 'interested'\n",
    "        sub_category_list.append(feeling)\n",
    "    elif word in positive_list:\n",
    "        feeling = 'positive'\n",
    "        sub_category_list.append(feeling)\n",
    "    elif word in strong_list:\n",
    "        feeling = 'strong'\n",
    "        sub_category_list.append(feeling)\n",
    "    elif word in angry_list:\n",
    "        feeling = 'angry'\n",
    "        sub_category_list.append(feeling)\n",
    "    elif word in depressed_list:\n",
    "        feeling = 'depressed'\n",
    "        sub_category_list.append(feeling)\n",
    "    elif word in confused_list:\n",
    "        feeling = 'confused'\n",
    "        sub_category_list.append(feeling)\n",
    "    elif word in helpless_list:\n",
    "        feeling = 'helpless'\n",
    "        sub_category_list.append(feeling)\n",
    "    elif word in indifferent_list:\n",
    "        feeling = 'indifferent'\n",
    "        sub_category_list.append(feeling)\n",
    "    elif word in afraid_list:\n",
    "        feeling = 'afraid'\n",
    "        sub_category_list.append(feeling)\n",
    "    elif word in hurt_list:\n",
    "        feeling = 'hurt'\n",
    "        sub_category_list.append(feeling)\n",
    "    else:\n",
    "        feeling = 'sad'\n",
    "        sub_category_list.append(feeling)\n",
    "\n",
    "#sub_category_list Checking the list"
   ]
  },
  {
   "cell_type": "code",
   "execution_count": 59,
   "metadata": {},
   "outputs": [],
   "source": [
    "words_df['sub_category'] = sub_category_list"
   ]
  },
  {
   "cell_type": "code",
   "execution_count": 60,
   "metadata": {},
   "outputs": [
    {
     "data": {
      "text/html": [
       "<div>\n",
       "<style scoped>\n",
       "    .dataframe tbody tr th:only-of-type {\n",
       "        vertical-align: middle;\n",
       "    }\n",
       "\n",
       "    .dataframe tbody tr th {\n",
       "        vertical-align: top;\n",
       "    }\n",
       "\n",
       "    .dataframe thead th {\n",
       "        text-align: right;\n",
       "    }\n",
       "</style>\n",
       "<table border=\"1\" class=\"dataframe\">\n",
       "  <thead>\n",
       "    <tr style=\"text-align: right;\">\n",
       "      <th></th>\n",
       "      <th>words</th>\n",
       "      <th>sub_category</th>\n",
       "    </tr>\n",
       "  </thead>\n",
       "  <tbody>\n",
       "    <tr>\n",
       "      <th>0</th>\n",
       "      <td>drawn toward</td>\n",
       "      <td>love</td>\n",
       "    </tr>\n",
       "    <tr>\n",
       "      <th>1</th>\n",
       "      <td>playful</td>\n",
       "      <td>alive</td>\n",
       "    </tr>\n",
       "    <tr>\n",
       "      <th>2</th>\n",
       "      <td>frisky</td>\n",
       "      <td>alive</td>\n",
       "    </tr>\n",
       "    <tr>\n",
       "      <th>3</th>\n",
       "      <td>weary</td>\n",
       "      <td>indifferent</td>\n",
       "    </tr>\n",
       "    <tr>\n",
       "      <th>4</th>\n",
       "      <td>offended</td>\n",
       "      <td>hurt</td>\n",
       "    </tr>\n",
       "  </tbody>\n",
       "</table>\n",
       "</div>"
      ],
      "text/plain": [
       "          words sub_category\n",
       "0  drawn toward         love\n",
       "1       playful        alive\n",
       "2        frisky        alive\n",
       "3         weary  indifferent\n",
       "4      offended         hurt"
      ]
     },
     "execution_count": 60,
     "metadata": {},
     "output_type": "execute_result"
    }
   ],
   "source": [
    "words_df.head()"
   ]
  },
  {
   "cell_type": "markdown",
   "metadata": {},
   "source": [
    "Some words fall under multiple sub-categories and main categories. Let's reassign those words."
   ]
  },
  {
   "cell_type": "code",
   "execution_count": 61,
   "metadata": {},
   "outputs": [],
   "source": [
    "for index, value in words_df.iterrows():\n",
    "    if value['words'] == 'free':\n",
    "        multi_meaning = 'alive/open/strong'\n",
    "        value['sub_category'] = multi_meaning\n",
    "    elif value['words'] == 'pessimistic':\n",
    "        multi_meaning = 'confused/sad'\n",
    "        value['sub_category'] = multi_meaning\n",
    "    elif value['words'] == 'confident':\n",
    "        multi_meaning = 'open/positive'\n",
    "        value['sub_category'] = multi_meaning\n",
    "    elif value['words'] == 'doubtful':\n",
    "        multi_meaning = 'afraid/confused'\n",
    "        value['sub_category'] = multi_meaning\n",
    "    elif value['words'] == 'upset':\n",
    "        multi_meaning = 'angry/confused'\n",
    "        value['sub_category'] = multi_meaning\n",
    "    elif value['words'] == 'anxious':\n",
    "        multi_meaning = 'afraid/positive'\n",
    "        value['sub_category'] = multi_meaning\n",
    "    elif value['words'] == 'optimistic':\n",
    "        multi_meaning = 'alive/positive'\n",
    "        value['sub_category'] = multi_meaning\n",
    "    elif value['words'] == 'impulsive':\n",
    "        multi_meaning = 'alive/strong'\n",
    "        value['sub_category'] = multi_meaning\n",
    "    elif value['words'] == 'certain':\n",
    "        multi_meaning = 'good/strong'\n",
    "        value['sub_category'] = multi_meaning\n",
    "    elif value['words'] == 'pained':\n",
    "        multi_meaning = 'hurt/sad'\n",
    "        value['sub_category'] = multi_meaning\n"
   ]
  },
  {
   "cell_type": "markdown",
   "metadata": {},
   "source": [
    "Checking to see if the values were changed 🤞🏻"
   ]
  },
  {
   "cell_type": "code",
   "execution_count": 62,
   "metadata": {},
   "outputs": [],
   "source": [
    "#words_df.head(50)"
   ]
  },
  {
   "cell_type": "markdown",
   "metadata": {},
   "source": [
    "Create main category column"
   ]
  },
  {
   "cell_type": "code",
   "execution_count": 63,
   "metadata": {},
   "outputs": [],
   "source": [
    "main_category_list = []\n",
    "for words in words_df['words']:\n",
    "    if words in open_list:\n",
    "        feelings = 'pleasant'\n",
    "        main_category_list.append(feelings)\n",
    "    elif words in happy_list:\n",
    "        feelings = 'pleasant'\n",
    "        main_category_list.append(feelings)\n",
    "    elif words in alive_list:\n",
    "        feelings = 'pleasant'\n",
    "        main_category_list.append(feelings)\n",
    "    elif words in good_list:\n",
    "        feelings = 'pleasant'\n",
    "        main_category_list.append(feelings)\n",
    "    elif words in love_list:\n",
    "        feelings = 'pleasant'\n",
    "        main_category_list.append(feelings)\n",
    "    elif words in interested_list:\n",
    "        feelings = 'pleasant'\n",
    "        main_category_list.append(feelings)\n",
    "    elif words in positive_list:\n",
    "        feelings = 'pleasant'\n",
    "        main_category_list.append(feelings)\n",
    "    elif words in strong_list:\n",
    "        feelings = 'pleasant'\n",
    "        main_category_list.append(feelings)\n",
    "    elif words in angry_list:\n",
    "        feelings = 'unpleasant'\n",
    "        main_category_list.append(feelings)\n",
    "    elif words in depressed_list:\n",
    "        feelings = 'unpleasant'\n",
    "        main_category_list.append(feelings)\n",
    "    elif words in confused_list:\n",
    "        feelings = 'unpleasant'\n",
    "        main_category_list.append(feelings)\n",
    "    elif words in helpless_list:\n",
    "        feelings = 'unpleasant'\n",
    "        main_category_list.append(feelings)\n",
    "    elif words in indifferent_list:\n",
    "        feelings = 'unpleasant'\n",
    "        main_category_list.append(feelings)\n",
    "    elif words in afraid_list:\n",
    "        feelings = 'unpleasant'\n",
    "        main_category_list.append(feelings)\n",
    "    elif words in hurt_list:\n",
    "        feelings = 'unpleasant'\n",
    "        main_category_list.append(feelings)\n",
    "    else:\n",
    "        feelings = 'unpleasant'\n",
    "        main_category_list.append(feelings)\n",
    "\n",
    "#main_category_list Checking the list"
   ]
  },
  {
   "cell_type": "code",
   "execution_count": 64,
   "metadata": {},
   "outputs": [
    {
     "data": {
      "text/html": [
       "<div>\n",
       "<style scoped>\n",
       "    .dataframe tbody tr th:only-of-type {\n",
       "        vertical-align: middle;\n",
       "    }\n",
       "\n",
       "    .dataframe tbody tr th {\n",
       "        vertical-align: top;\n",
       "    }\n",
       "\n",
       "    .dataframe thead th {\n",
       "        text-align: right;\n",
       "    }\n",
       "</style>\n",
       "<table border=\"1\" class=\"dataframe\">\n",
       "  <thead>\n",
       "    <tr style=\"text-align: right;\">\n",
       "      <th></th>\n",
       "      <th>words</th>\n",
       "      <th>sub_category</th>\n",
       "      <th>main_category</th>\n",
       "    </tr>\n",
       "  </thead>\n",
       "  <tbody>\n",
       "    <tr>\n",
       "      <th>0</th>\n",
       "      <td>drawn toward</td>\n",
       "      <td>love</td>\n",
       "      <td>pleasant</td>\n",
       "    </tr>\n",
       "    <tr>\n",
       "      <th>1</th>\n",
       "      <td>playful</td>\n",
       "      <td>alive</td>\n",
       "      <td>pleasant</td>\n",
       "    </tr>\n",
       "    <tr>\n",
       "      <th>2</th>\n",
       "      <td>frisky</td>\n",
       "      <td>alive</td>\n",
       "      <td>pleasant</td>\n",
       "    </tr>\n",
       "    <tr>\n",
       "      <th>3</th>\n",
       "      <td>weary</td>\n",
       "      <td>indifferent</td>\n",
       "      <td>unpleasant</td>\n",
       "    </tr>\n",
       "    <tr>\n",
       "      <th>4</th>\n",
       "      <td>offended</td>\n",
       "      <td>hurt</td>\n",
       "      <td>unpleasant</td>\n",
       "    </tr>\n",
       "    <tr>\n",
       "      <th>5</th>\n",
       "      <td>sore</td>\n",
       "      <td>angry</td>\n",
       "      <td>unpleasant</td>\n",
       "    </tr>\n",
       "    <tr>\n",
       "      <th>6</th>\n",
       "      <td>accepting</td>\n",
       "      <td>open</td>\n",
       "      <td>pleasant</td>\n",
       "    </tr>\n",
       "    <tr>\n",
       "      <th>7</th>\n",
       "      <td>crushed</td>\n",
       "      <td>hurt</td>\n",
       "      <td>unpleasant</td>\n",
       "    </tr>\n",
       "    <tr>\n",
       "      <th>8</th>\n",
       "      <td>menaced</td>\n",
       "      <td>afraid</td>\n",
       "      <td>unpleasant</td>\n",
       "    </tr>\n",
       "    <tr>\n",
       "      <th>9</th>\n",
       "      <td>in a stew</td>\n",
       "      <td>helpless</td>\n",
       "      <td>unpleasant</td>\n",
       "    </tr>\n",
       "    <tr>\n",
       "      <th>10</th>\n",
       "      <td>nonchalant</td>\n",
       "      <td>indifferent</td>\n",
       "      <td>unpleasant</td>\n",
       "    </tr>\n",
       "    <tr>\n",
       "      <th>11</th>\n",
       "      <td>aching</td>\n",
       "      <td>hurt</td>\n",
       "      <td>unpleasant</td>\n",
       "    </tr>\n",
       "    <tr>\n",
       "      <th>12</th>\n",
       "      <td>lonely</td>\n",
       "      <td>sad</td>\n",
       "      <td>unpleasant</td>\n",
       "    </tr>\n",
       "    <tr>\n",
       "      <th>13</th>\n",
       "      <td>distrustful</td>\n",
       "      <td>confused</td>\n",
       "      <td>unpleasant</td>\n",
       "    </tr>\n",
       "    <tr>\n",
       "      <th>14</th>\n",
       "      <td>optimistic</td>\n",
       "      <td>alive/positive</td>\n",
       "      <td>pleasant</td>\n",
       "    </tr>\n",
       "    <tr>\n",
       "      <th>15</th>\n",
       "      <td>disillusioned</td>\n",
       "      <td>confused</td>\n",
       "      <td>unpleasant</td>\n",
       "    </tr>\n",
       "    <tr>\n",
       "      <th>16</th>\n",
       "      <td>uneasy</td>\n",
       "      <td>confused</td>\n",
       "      <td>unpleasant</td>\n",
       "    </tr>\n",
       "    <tr>\n",
       "      <th>17</th>\n",
       "      <td>calm</td>\n",
       "      <td>good</td>\n",
       "      <td>pleasant</td>\n",
       "    </tr>\n",
       "    <tr>\n",
       "      <th>18</th>\n",
       "      <td>unbelieving</td>\n",
       "      <td>confused</td>\n",
       "      <td>unpleasant</td>\n",
       "    </tr>\n",
       "    <tr>\n",
       "      <th>19</th>\n",
       "      <td>ecstatic</td>\n",
       "      <td>happy</td>\n",
       "      <td>pleasant</td>\n",
       "    </tr>\n",
       "  </tbody>\n",
       "</table>\n",
       "</div>"
      ],
      "text/plain": [
       "            words    sub_category main_category\n",
       "0    drawn toward            love      pleasant\n",
       "1         playful           alive      pleasant\n",
       "2          frisky           alive      pleasant\n",
       "3           weary     indifferent    unpleasant\n",
       "4        offended            hurt    unpleasant\n",
       "5            sore           angry    unpleasant\n",
       "6       accepting            open      pleasant\n",
       "7         crushed            hurt    unpleasant\n",
       "8         menaced          afraid    unpleasant\n",
       "9       in a stew        helpless    unpleasant\n",
       "10     nonchalant     indifferent    unpleasant\n",
       "11         aching            hurt    unpleasant\n",
       "12         lonely             sad    unpleasant\n",
       "13    distrustful        confused    unpleasant\n",
       "14     optimistic  alive/positive      pleasant\n",
       "15  disillusioned        confused    unpleasant\n",
       "16         uneasy        confused    unpleasant\n",
       "17           calm            good      pleasant\n",
       "18    unbelieving        confused    unpleasant\n",
       "19       ecstatic           happy      pleasant"
      ]
     },
     "execution_count": 64,
     "metadata": {},
     "output_type": "execute_result"
    }
   ],
   "source": [
    "words_df['main_category'] = main_category_list\n",
    "words_df.head(20)"
   ]
  },
  {
   "cell_type": "markdown",
   "metadata": {},
   "source": [
    "Changing the main category for the word anxious. Anxious falls into both pleasant and unpleasant."
   ]
  },
  {
   "cell_type": "code",
   "execution_count": 65,
   "metadata": {},
   "outputs": [],
   "source": [
    "for index, value in words_df.iterrows():\n",
    "    if value['sub_category'] == 'afraid/positive':\n",
    "        main_meaning = 'pleasant/unpleasant'\n",
    "        value['main_category'] = main_meaning"
   ]
  },
  {
   "cell_type": "markdown",
   "metadata": {},
   "source": [
    "Checking the changes 🤓"
   ]
  },
  {
   "cell_type": "code",
   "execution_count": 66,
   "metadata": {},
   "outputs": [
    {
     "data": {
      "text/html": [
       "<div>\n",
       "<style scoped>\n",
       "    .dataframe tbody tr th:only-of-type {\n",
       "        vertical-align: middle;\n",
       "    }\n",
       "\n",
       "    .dataframe tbody tr th {\n",
       "        vertical-align: top;\n",
       "    }\n",
       "\n",
       "    .dataframe thead th {\n",
       "        text-align: right;\n",
       "    }\n",
       "</style>\n",
       "<table border=\"1\" class=\"dataframe\">\n",
       "  <thead>\n",
       "    <tr style=\"text-align: right;\">\n",
       "      <th></th>\n",
       "      <th>words</th>\n",
       "      <th>sub_category</th>\n",
       "      <th>main_category</th>\n",
       "    </tr>\n",
       "  </thead>\n",
       "  <tbody>\n",
       "    <tr>\n",
       "      <th>158</th>\n",
       "      <td>anxious</td>\n",
       "      <td>afraid/positive</td>\n",
       "      <td>pleasant/unpleasant</td>\n",
       "    </tr>\n",
       "  </tbody>\n",
       "</table>\n",
       "</div>"
      ],
      "text/plain": [
       "       words     sub_category        main_category\n",
       "158  anxious  afraid/positive  pleasant/unpleasant"
      ]
     },
     "execution_count": 66,
     "metadata": {},
     "output_type": "execute_result"
    }
   ],
   "source": [
    "words_df.loc[words_df['words'] == 'anxious']"
   ]
  },
  {
   "cell_type": "markdown",
   "metadata": {},
   "source": [
    "Perfect! The words_df is completed!"
   ]
  },
  {
   "cell_type": "code",
   "execution_count": 67,
   "metadata": {},
   "outputs": [
    {
     "data": {
      "text/html": [
       "<div>\n",
       "<style scoped>\n",
       "    .dataframe tbody tr th:only-of-type {\n",
       "        vertical-align: middle;\n",
       "    }\n",
       "\n",
       "    .dataframe tbody tr th {\n",
       "        vertical-align: top;\n",
       "    }\n",
       "\n",
       "    .dataframe thead th {\n",
       "        text-align: right;\n",
       "    }\n",
       "</style>\n",
       "<table border=\"1\" class=\"dataframe\">\n",
       "  <thead>\n",
       "    <tr style=\"text-align: right;\">\n",
       "      <th></th>\n",
       "      <th>words</th>\n",
       "      <th>sub_category</th>\n",
       "      <th>main_category</th>\n",
       "    </tr>\n",
       "  </thead>\n",
       "  <tbody>\n",
       "    <tr>\n",
       "      <th>0</th>\n",
       "      <td>drawn toward</td>\n",
       "      <td>love</td>\n",
       "      <td>pleasant</td>\n",
       "    </tr>\n",
       "    <tr>\n",
       "      <th>1</th>\n",
       "      <td>playful</td>\n",
       "      <td>alive</td>\n",
       "      <td>pleasant</td>\n",
       "    </tr>\n",
       "    <tr>\n",
       "      <th>2</th>\n",
       "      <td>frisky</td>\n",
       "      <td>alive</td>\n",
       "      <td>pleasant</td>\n",
       "    </tr>\n",
       "    <tr>\n",
       "      <th>3</th>\n",
       "      <td>weary</td>\n",
       "      <td>indifferent</td>\n",
       "      <td>unpleasant</td>\n",
       "    </tr>\n",
       "    <tr>\n",
       "      <th>4</th>\n",
       "      <td>offended</td>\n",
       "      <td>hurt</td>\n",
       "      <td>unpleasant</td>\n",
       "    </tr>\n",
       "  </tbody>\n",
       "</table>\n",
       "</div>"
      ],
      "text/plain": [
       "          words sub_category main_category\n",
       "0  drawn toward         love      pleasant\n",
       "1       playful        alive      pleasant\n",
       "2        frisky        alive      pleasant\n",
       "3         weary  indifferent    unpleasant\n",
       "4      offended         hurt    unpleasant"
      ]
     },
     "execution_count": 67,
     "metadata": {},
     "output_type": "execute_result"
    }
   ],
   "source": [
    "words_df.head()"
   ]
  },
  {
   "cell_type": "code",
   "execution_count": 68,
   "metadata": {},
   "outputs": [
    {
     "data": {
      "text/html": [
       "<div>\n",
       "<style scoped>\n",
       "    .dataframe tbody tr th:only-of-type {\n",
       "        vertical-align: middle;\n",
       "    }\n",
       "\n",
       "    .dataframe tbody tr th {\n",
       "        vertical-align: top;\n",
       "    }\n",
       "\n",
       "    .dataframe thead th {\n",
       "        text-align: right;\n",
       "    }\n",
       "</style>\n",
       "<table border=\"1\" class=\"dataframe\">\n",
       "  <thead>\n",
       "    <tr style=\"text-align: right;\">\n",
       "      <th></th>\n",
       "      <th>words</th>\n",
       "      <th>sub_category</th>\n",
       "      <th>main_category</th>\n",
       "    </tr>\n",
       "  </thead>\n",
       "  <tbody>\n",
       "    <tr>\n",
       "      <th>235</th>\n",
       "      <td>dissatisfied</td>\n",
       "      <td>depressed</td>\n",
       "      <td>unpleasant</td>\n",
       "    </tr>\n",
       "    <tr>\n",
       "      <th>236</th>\n",
       "      <td>hesitant</td>\n",
       "      <td>confused</td>\n",
       "      <td>unpleasant</td>\n",
       "    </tr>\n",
       "    <tr>\n",
       "      <th>237</th>\n",
       "      <td>receptive</td>\n",
       "      <td>open</td>\n",
       "      <td>pleasant</td>\n",
       "    </tr>\n",
       "    <tr>\n",
       "      <th>238</th>\n",
       "      <td>pessimistic</td>\n",
       "      <td>confused/sad</td>\n",
       "      <td>unpleasant</td>\n",
       "    </tr>\n",
       "    <tr>\n",
       "      <th>239</th>\n",
       "      <td>secure</td>\n",
       "      <td>strong</td>\n",
       "      <td>pleasant</td>\n",
       "    </tr>\n",
       "  </tbody>\n",
       "</table>\n",
       "</div>"
      ],
      "text/plain": [
       "            words  sub_category main_category\n",
       "235  dissatisfied     depressed    unpleasant\n",
       "236      hesitant      confused    unpleasant\n",
       "237     receptive          open      pleasant\n",
       "238   pessimistic  confused/sad    unpleasant\n",
       "239        secure        strong      pleasant"
      ]
     },
     "execution_count": 68,
     "metadata": {},
     "output_type": "execute_result"
    }
   ],
   "source": [
    "words_df.tail()"
   ]
  },
  {
   "cell_type": "markdown",
   "metadata": {},
   "source": [
    "Save dataframe as csv!"
   ]
  },
  {
   "cell_type": "code",
   "execution_count": 69,
   "metadata": {},
   "outputs": [],
   "source": [
    "words_df.to_csv(path_or_buf = '../data/feeling_words.csv',index=False)"
   ]
  },
  {
   "cell_type": "code",
   "execution_count": null,
   "metadata": {},
   "outputs": [],
   "source": []
  }
 ],
 "metadata": {
  "kernelspec": {
   "display_name": "Python 3",
   "language": "python",
   "name": "python3"
  },
  "language_info": {
   "codemirror_mode": {
    "name": "ipython",
    "version": 3
   },
   "file_extension": ".py",
   "mimetype": "text/x-python",
   "name": "python",
   "nbconvert_exporter": "python",
   "pygments_lexer": "ipython3",
   "version": "3.8.3"
  }
 },
 "nbformat": 4,
 "nbformat_minor": 4
}
